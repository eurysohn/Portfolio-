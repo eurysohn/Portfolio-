{
  "cells": [
    {
      "cell_type": "markdown",
      "metadata": {
        "id": "pCJVBwcCh5XB"
      },
      "source": [
        "In this notebook, we will check out how to perform information extraction using NLP techniques in Python.\n",
        "\n",
        "I recommend, going over [this article](https://www.analyticsvidhya.com/blog/2020/06/nlp-project-information-extraction/) to understand the concept in detail."
      ]
    },
    {
      "cell_type": "markdown",
      "metadata": {
        "id": "N-8WZn17h5XD"
      },
      "source": [
        "# What is Information Extraction?"
      ]
    },
    {
      "cell_type": "markdown",
      "metadata": {
        "id": "ge9q3Hbhh5XE"
      },
      "source": [
        "Text data contains a lot of information but not all of it will be important to you. We might be looking for names of entities, others would want to extract specific relationships between those entities. Our intentions differ according to our requirements.\n",
        "\n",
        "Imagine having to go through all the legal documents to find legal precedence to validate your current case. Or having to go through all the research papers to find relevant information to cure a disease. There are many more examples like resume harvesting, media analysis, email scanning, etc.\n",
        "\n",
        "But just imagine having to manually go through all of the textual data and extracting the most relevant information. Clearly, it is an uphill battle and you might even end up skipping some important information.\n",
        "\n",
        "For anyone trying to analyze textual data, the difficult task is not of finding the right documents, but of finding the right information from these documents. Understanding the relationship between entities, understanding how the events have unfolded, or just simply finding hidden gems of information, is clearly what anyone is looking for when they go through a piece of text.\n",
        "\n",
        "Therefore, coming up with an automated way of extracting the information from textual data and presenting it in a structured manner will help us reap a lot of benefits and tremendously reduce the amount of time we have to spend time skimming through text documents. This is precisely what information extraction strives to achieve.\n",
        "\n",
        "\n",
        "> `The task of Information Extraction (IE) involves extracting meaningful information from unstructured text data and presenting it in a structured format.`\n",
        "\n",
        "\n",
        "Using information extraction, we can retrieve pre-defined information such as the name of a person, location of an organization, or identify a relation between entities, and save this information in a structured format such as a database.\n",
        "\n",
        "This enables us to reap the benefits of powerful query tools like SQL for further analysis. Creating such structured data using information extraction will not only help us in analyzing the documents better but also help us in understanding the hidden relationships in the text."
      ]
    },
    {
      "cell_type": "markdown",
      "metadata": {
        "heading_collapsed": true,
        "id": "E2KW2hTnh5XF"
      },
      "source": [
        "# How does Information Extraction work?"
      ]
    },
    {
      "cell_type": "markdown",
      "metadata": {
        "hidden": true,
        "id": "yj0CxnrFh5XF"
      },
      "source": [
        "Given the capricious nature of text data that changes depending on different authors and under different contexts, Information Extraction seems like a daunting task at hand. But it doesn't have to be so.\n",
        "\n",
        "We all know that sentences are made up of words belonging to various different Parts of Speech (POS). Their are eight different POS in the english language: noun, pronoun, verb, adjective , adverb, preposition, conjuction, and intersection. The POS determines how a specific word functions in meaning in a given sentence. For example take the word \"right\". In the sentence, \"The boy was awarded with a chocolate for giving the right answer\", \"right\" is used as an adjective. Whereas, in the sentence, \"You have the right to say whatever you want\", \"right\" is treated as a noun. This goes to show that POS tag of a word carries a lot of significance when it comes to understanding the meaning of a sentence. No doubt we can leverage it to extract meaningful information from our text."
      ]
    },
    {
      "cell_type": "code",
      "execution_count": null,
      "metadata": {
        "hidden": true,
        "colab": {
          "base_uri": "https://localhost:8080/"
        },
        "id": "8m8T4knth5XF",
        "outputId": "215ae9ac-be07-4734-ba03-c6789f6e8e02"
      },
      "outputs": [
        {
          "output_type": "stream",
          "name": "stdout",
          "text": [
            "This -> PRON\n",
            "is -> AUX\n",
            "a -> DET\n",
            "sample -> NOUN\n",
            "sentence -> NOUN\n",
            ". -> PUNCT\n"
          ]
        }
      ],
      "source": [
        "# import spacy\n",
        "import spacy\n",
        "\n",
        "# load english language model\n",
        "nlp = spacy.load('en_core_web_sm',disable=['ner','textcat'])\n",
        "\n",
        "text = \"This is a sample sentence.\"\n",
        "\n",
        "# create spacy\n",
        "doc = nlp(text)\n",
        "\n",
        "for token in doc:\n",
        "    print(token.text,'->',token.pos_)"
      ]
    },
    {
      "cell_type": "markdown",
      "metadata": {
        "hidden": true,
        "id": "lhSKm7y7h5XH"
      },
      "source": [
        "We were easily able to determine the POS tags of all the words in the sentence. But how does it help in Information Extraction?\n",
        "\n",
        "Well, if we wanted to extract nouns from the sentences, we could take a look at POS tags of the words/tokens in the sentence, using the attribute **.pos_**, and extract them accordingly."
      ]
    },
    {
      "cell_type": "code",
      "execution_count": null,
      "metadata": {
        "hidden": true,
        "colab": {
          "base_uri": "https://localhost:8080/"
        },
        "id": "wt5F4Jorh5XH",
        "outputId": "d7c01834-8c8f-4337-dcaf-d9e424514905"
      },
      "outputs": [
        {
          "output_type": "stream",
          "name": "stdout",
          "text": [
            "sample\n",
            "sentence\n"
          ]
        }
      ],
      "source": [
        "for token in doc:\n",
        "    # check token pos\n",
        "    if token.pos_=='NOUN':\n",
        "        # print token\n",
        "        print(token.text)"
      ]
    },
    {
      "cell_type": "markdown",
      "metadata": {
        "hidden": true,
        "id": "N_qZi9y3h5XI"
      },
      "source": [
        "It was that easy to extract words based on their POS tags. But sometimes extracting information purely based on the POS tags is not enough. Have a look at the sentence below:"
      ]
    },
    {
      "cell_type": "code",
      "execution_count": null,
      "metadata": {
        "hidden": true,
        "colab": {
          "base_uri": "https://localhost:8080/"
        },
        "id": "h14Y_e2jh5XI",
        "outputId": "74c6768c-731a-4184-9c2d-ae7417ebfbce"
      },
      "outputs": [
        {
          "output_type": "stream",
          "name": "stdout",
          "text": [
            "The -> DET\n",
            "children -> NOUN\n",
            "love -> VERB\n",
            "cream -> NOUN\n",
            "biscuits -> NOUN\n"
          ]
        }
      ],
      "source": [
        "text = \"The children love cream biscuits\"\n",
        "\n",
        "# create spacy\n",
        "doc = nlp(text)\n",
        "\n",
        "for token in doc:\n",
        "    print(token.text,'->',token.pos_)"
      ]
    },
    {
      "cell_type": "markdown",
      "metadata": {
        "hidden": true,
        "id": "0ybe7NqXh5XI"
      },
      "source": [
        "If I wanted to extract the subject and the object from a sentence, I can’t do that based on their POS tags. For that, I need to look at how these words are related to each other. These are called **Dependencies**.\n",
        "\n",
        "We can make use of [spaCy’s displacy](https://explosion.ai/demos/displacy) visualizer that displays the word dependencies in a graphical manner:"
      ]
    },
    {
      "cell_type": "code",
      "execution_count": null,
      "metadata": {
        "hidden": true,
        "colab": {
          "base_uri": "https://localhost:8080/",
          "height": 333
        },
        "id": "YyL1qoeIh5XJ",
        "outputId": "42eb24ce-9d48-487b-9a08-9bb60a8c509f"
      },
      "outputs": [
        {
          "output_type": "display_data",
          "data": {
            "text/plain": [
              "<IPython.core.display.HTML object>"
            ],
            "text/html": [
              "<span class=\"tex2jax_ignore\"><svg xmlns=\"http://www.w3.org/2000/svg\" xmlns:xlink=\"http://www.w3.org/1999/xlink\" xml:lang=\"en\" id=\"cc9fea2df7c34e37b5b17169ee47ea5f-0\" class=\"displacy\" width=\"925\" height=\"312.0\" direction=\"ltr\" style=\"max-width: none; height: 312.0px; color: #000000; background: #ffffff; font-family: Arial; direction: ltr\">\n",
              "<text class=\"displacy-token\" fill=\"currentColor\" text-anchor=\"middle\" y=\"222.0\">\n",
              "    <tspan class=\"displacy-word\" fill=\"currentColor\" x=\"50\">The</tspan>\n",
              "    <tspan class=\"displacy-tag\" dy=\"2em\" fill=\"currentColor\" x=\"50\">DET</tspan>\n",
              "</text>\n",
              "\n",
              "<text class=\"displacy-token\" fill=\"currentColor\" text-anchor=\"middle\" y=\"222.0\">\n",
              "    <tspan class=\"displacy-word\" fill=\"currentColor\" x=\"225\">children</tspan>\n",
              "    <tspan class=\"displacy-tag\" dy=\"2em\" fill=\"currentColor\" x=\"225\">NOUN</tspan>\n",
              "</text>\n",
              "\n",
              "<text class=\"displacy-token\" fill=\"currentColor\" text-anchor=\"middle\" y=\"222.0\">\n",
              "    <tspan class=\"displacy-word\" fill=\"currentColor\" x=\"400\">love</tspan>\n",
              "    <tspan class=\"displacy-tag\" dy=\"2em\" fill=\"currentColor\" x=\"400\">VERB</tspan>\n",
              "</text>\n",
              "\n",
              "<text class=\"displacy-token\" fill=\"currentColor\" text-anchor=\"middle\" y=\"222.0\">\n",
              "    <tspan class=\"displacy-word\" fill=\"currentColor\" x=\"575\">cream</tspan>\n",
              "    <tspan class=\"displacy-tag\" dy=\"2em\" fill=\"currentColor\" x=\"575\">NOUN</tspan>\n",
              "</text>\n",
              "\n",
              "<text class=\"displacy-token\" fill=\"currentColor\" text-anchor=\"middle\" y=\"222.0\">\n",
              "    <tspan class=\"displacy-word\" fill=\"currentColor\" x=\"750\">biscuits</tspan>\n",
              "    <tspan class=\"displacy-tag\" dy=\"2em\" fill=\"currentColor\" x=\"750\">NOUN</tspan>\n",
              "</text>\n",
              "\n",
              "<g class=\"displacy-arrow\">\n",
              "    <path class=\"displacy-arc\" id=\"arrow-cc9fea2df7c34e37b5b17169ee47ea5f-0-0\" stroke-width=\"2px\" d=\"M70,177.0 C70,89.5 220.0,89.5 220.0,177.0\" fill=\"none\" stroke=\"currentColor\"/>\n",
              "    <text dy=\"1.25em\" style=\"font-size: 0.8em; letter-spacing: 1px\">\n",
              "        <textPath xlink:href=\"#arrow-cc9fea2df7c34e37b5b17169ee47ea5f-0-0\" class=\"displacy-label\" startOffset=\"50%\" side=\"left\" fill=\"currentColor\" text-anchor=\"middle\">det</textPath>\n",
              "    </text>\n",
              "    <path class=\"displacy-arrowhead\" d=\"M70,179.0 L62,167.0 78,167.0\" fill=\"currentColor\"/>\n",
              "</g>\n",
              "\n",
              "<g class=\"displacy-arrow\">\n",
              "    <path class=\"displacy-arc\" id=\"arrow-cc9fea2df7c34e37b5b17169ee47ea5f-0-1\" stroke-width=\"2px\" d=\"M245,177.0 C245,89.5 395.0,89.5 395.0,177.0\" fill=\"none\" stroke=\"currentColor\"/>\n",
              "    <text dy=\"1.25em\" style=\"font-size: 0.8em; letter-spacing: 1px\">\n",
              "        <textPath xlink:href=\"#arrow-cc9fea2df7c34e37b5b17169ee47ea5f-0-1\" class=\"displacy-label\" startOffset=\"50%\" side=\"left\" fill=\"currentColor\" text-anchor=\"middle\">nsubj</textPath>\n",
              "    </text>\n",
              "    <path class=\"displacy-arrowhead\" d=\"M245,179.0 L237,167.0 253,167.0\" fill=\"currentColor\"/>\n",
              "</g>\n",
              "\n",
              "<g class=\"displacy-arrow\">\n",
              "    <path class=\"displacy-arc\" id=\"arrow-cc9fea2df7c34e37b5b17169ee47ea5f-0-2\" stroke-width=\"2px\" d=\"M595,177.0 C595,89.5 745.0,89.5 745.0,177.0\" fill=\"none\" stroke=\"currentColor\"/>\n",
              "    <text dy=\"1.25em\" style=\"font-size: 0.8em; letter-spacing: 1px\">\n",
              "        <textPath xlink:href=\"#arrow-cc9fea2df7c34e37b5b17169ee47ea5f-0-2\" class=\"displacy-label\" startOffset=\"50%\" side=\"left\" fill=\"currentColor\" text-anchor=\"middle\">compound</textPath>\n",
              "    </text>\n",
              "    <path class=\"displacy-arrowhead\" d=\"M595,179.0 L587,167.0 603,167.0\" fill=\"currentColor\"/>\n",
              "</g>\n",
              "\n",
              "<g class=\"displacy-arrow\">\n",
              "    <path class=\"displacy-arc\" id=\"arrow-cc9fea2df7c34e37b5b17169ee47ea5f-0-3\" stroke-width=\"2px\" d=\"M420,177.0 C420,2.0 750.0,2.0 750.0,177.0\" fill=\"none\" stroke=\"currentColor\"/>\n",
              "    <text dy=\"1.25em\" style=\"font-size: 0.8em; letter-spacing: 1px\">\n",
              "        <textPath xlink:href=\"#arrow-cc9fea2df7c34e37b5b17169ee47ea5f-0-3\" class=\"displacy-label\" startOffset=\"50%\" side=\"left\" fill=\"currentColor\" text-anchor=\"middle\">dobj</textPath>\n",
              "    </text>\n",
              "    <path class=\"displacy-arrowhead\" d=\"M750.0,179.0 L758.0,167.0 742.0,167.0\" fill=\"currentColor\"/>\n",
              "</g>\n",
              "</svg></span>"
            ]
          },
          "metadata": {}
        }
      ],
      "source": [
        "from spacy import displacy\n",
        "displacy.render(doc, style='dep',jupyter=True)"
      ]
    },
    {
      "cell_type": "markdown",
      "metadata": {
        "hidden": true,
        "id": "XTw-VMZAh5XJ"
      },
      "source": [
        "Pretty cool! This directed graph is known as a [dependency graph](https://www.analyticsvidhya.com/blog/2017/12/introduction-computational-linguistics-dependency-trees/). It represents the relations between different words of a sentence.\n",
        "\n",
        "Each word is a **node** in the Dependency graph. The relationship between words is denoted by the edges. For example, “The” is a determiner here, “children” is the subject of the sentence, “biscuits” is the object of the sentence, and “cream” is a compound word that gives us more information about the object.\n",
        "\n",
        "The arrows carry a lot of significance here:\n",
        "\n",
        "- The **arrowhead** points to the words that are **dependent** on the word pointed by the **origin of the arrow**\n",
        "- The former is referred to as the **child node** of the latter. For example, “children” is the child node of “love”\n",
        "- The word which has no incoming arrow is called the **root node** of the sentence\n",
        "\n",
        "Let’s see how we can extract the subject and the object from the sentence. Like we have an attribute for POS in SpaCy tokens, we similarly have an attribute for extracting the dependency of a token denoted by dep_:"
      ]
    },
    {
      "cell_type": "code",
      "execution_count": null,
      "metadata": {
        "hidden": true,
        "colab": {
          "base_uri": "https://localhost:8080/"
        },
        "id": "6Qx3NgG7h5XJ",
        "outputId": "da8a2597-f273-472b-99a7-d943b15ad31c"
      },
      "outputs": [
        {
          "output_type": "stream",
          "name": "stdout",
          "text": [
            "children\n",
            "biscuits\n"
          ]
        }
      ],
      "source": [
        "for token in doc:\n",
        "    # extract subject\n",
        "    if (token.dep_=='nsubj'):\n",
        "        print(token.text)\n",
        "    # extract object\n",
        "    elif (token.dep_=='dobj'):\n",
        "        print(token.text)"
      ]
    },
    {
      "cell_type": "markdown",
      "metadata": {
        "hidden": true,
        "id": "BOnB_x6Ih5XK"
      },
      "source": [
        "Voila! We have the subject and object of our sentence.\n",
        "\n",
        "Using POS tags and Dependency tags, we can look for relationship between different entities in a sentence. For example, in the sentence \"The **cat** perches **on** the **window sill**\", we have two noun entities,\"cat\" and \"window sill\", related by the preposition \"on\". We can look for such relationships and much more to extract meaningful information from our text data.\n",
        "\n",
        "*I suggest going through [this amazing blog](https://www.analyticsvidhya.com/blog/2019/09/introduction-information-extraction-python-spacy/) which explains Information Extraction with tons of examples.*"
      ]
    },
    {
      "cell_type": "markdown",
      "metadata": {
        "id": "5fvYv3fyh5XK"
      },
      "source": [
        "# Where Do We Go from Here?"
      ]
    },
    {
      "cell_type": "markdown",
      "metadata": {
        "id": "2NdqA6rSh5XK"
      },
      "source": [
        "We have briefly spoken about the theory regarding Information Extraction which I believe is important to understand before jumping into the crux of this article.\n",
        "\n",
        "`“An ounce of practice is generally worth more than a ton of theory.” –E.F. Schumacher`\n",
        "\n",
        "In the following sections, I am going to explore a text dataset and apply the information extraction technique to retrieve some important information, understand the structure of the sentences, and the relationship between entities.\n",
        "\n",
        "So, without further ado, let’s get cracking on the code!"
      ]
    },
    {
      "cell_type": "markdown",
      "metadata": {
        "id": "gv391-T2h5XK"
      },
      "source": [
        "# Getting Familiar with the Text Dataset"
      ]
    },
    {
      "cell_type": "markdown",
      "metadata": {
        "id": "QYyQw53Xh5XK"
      },
      "source": [
        "The dataset we are going to be working with is the [United Nations General Debate Corpus](https://dataverse.harvard.edu/dataset.xhtml?persistentId=doi:10.7910/DVN/0TJX8Y). It contains speeches made by representatives of all the member countries from the year 1970 to 2018 at the General Debate of the annual session of United Nations General Assembly.\n",
        "\n",
        "But we will take a subset of this dataset and work with speeches made by India at these debates. This will allow us to stay on track and better understand the task at hand of understanding Information Extraction. This leaves us with 49 speeches made by India over the years, each speech ranging from anywhere between 2000 to 6000+ words.\n",
        "\n",
        "Having said that, let’s have a look at our dataset:"
      ]
    },
    {
      "cell_type": "code",
      "execution_count": null,
      "metadata": {
        "id": "dsPaebbVh5XK"
      },
      "outputs": [],
      "source": [
        "import pandas as pd\n",
        "import numpy as np\n",
        "import matplotlib.pyplot as plt\n",
        "import glob\n",
        "import re"
      ]
    },
    {
      "cell_type": "code",
      "execution_count": null,
      "metadata": {
        "id": "1aFYxykmh5XK"
      },
      "outputs": [],
      "source": [
        "# Folder path\n",
        "#folders = glob.glob('./UNGD/UNGDC 1970-2018/Converted sessions/Session*')\n",
        "\n",
        "# Dataframe\n",
        "#df = pd.DataFrame(columns={'Country','Speech','Session','Year'})\n",
        "\n",
        "# Read speeches by India\n",
        "#i = 0\n",
        "#for file in folders:\n",
        "\n",
        "    #speech = glob.glob(file+'/IND*.txt')\n",
        "\n",
        "   # with open(speech[0],encoding='utf8') as f:\n",
        "        # Speech\n",
        "        #df.loc[i,'Speech'] = f.read()\n",
        "        # Year\n",
        "        #df.loc[i,'Year'] = speech[0].split('_')[-1].split('.')[0]\n",
        "        # Session\n",
        "        #df.loc[i,'Session'] = speech[0].split('_')[-2]\n",
        "        # Country\n",
        "        #df.loc[i,'Country'] = speech[0].split('_')[0].split(\"\\\\\")[-1]\n",
        "        # Increment counter\n",
        "       # i += 1\n",
        "\n",
        "#df.head()"
      ]
    },
    {
      "cell_type": "code",
      "source": [
        "sentiment_tweets = pd.read_csv(\"/content/sentiment_tweets (2).csv\")\n",
        "sentiment_tweets2020 = sentiment_tweets[sentiment_tweets.date == 2020]\n",
        "sentiment_tweets2020 = sentiment_tweets2020[sentiment_tweets.misinformation == 1]\n",
        "sentiment_tweets2021 = sentiment_tweets[sentiment_tweets.date == 2021]\n",
        "sentiment_tweets2021 = sentiment_tweets2021[sentiment_tweets.misinformation == 1]"
      ],
      "metadata": {
        "colab": {
          "base_uri": "https://localhost:8080/"
        },
        "id": "ieknlVK8inxf",
        "outputId": "afd93357-4b56-4522-c77b-dbd777707f11"
      },
      "execution_count": null,
      "outputs": [
        {
          "output_type": "stream",
          "name": "stderr",
          "text": [
            "<ipython-input-32-346e74863699>:3: UserWarning: Boolean Series key will be reindexed to match DataFrame index.\n",
            "  sentiment_tweets2020 = sentiment_tweets2020[sentiment_tweets.misinformation == 1]\n",
            "<ipython-input-32-346e74863699>:5: UserWarning: Boolean Series key will be reindexed to match DataFrame index.\n",
            "  sentiment_tweets2021 = sentiment_tweets2021[sentiment_tweets.misinformation == 1]\n"
          ]
        }
      ]
    },
    {
      "cell_type": "markdown",
      "metadata": {
        "id": "kYxhldnLh5XL"
      },
      "source": [
        "I will print a snapshot of one of the speeches to give you a feel of what the data looks like."
      ]
    },
    {
      "cell_type": "code",
      "execution_count": null,
      "metadata": {
        "collapsed": true,
        "id": "GyApM5c9h5XL",
        "outputId": "6f31e15e-2e2b-408a-82a8-01f3249537df"
      },
      "outputs": [
        {
          "data": {
            "text/plain": [
              "'40.\\t Mr. President, I offer you our congratulations on your election as the President of the current session of the General Assembly. You represent Norway, a country which can take pride in its reputation as peaceful, just and progressive. Your personal qualifications and your family\\'s dedication to international effort are well known. I should also like to express our appreciation of the services of your distinguished predecessor, Mrs. Angie Brooks Randolph. I would also repeat our admiration for U Thant, whose skill and dedication have won him our respect.\\n41.\\tToday is Mahatma Gandhi\\'s one-hundred-first birthday, and we in India will take a fresh pledge to dedicate ourselves once again to the ideals for which the Mahatma lived and died, peace and nonviolence being the foremost among them. We may not fully succeed in living up to his ideals but we must continue to try.\\n42.\\tThere are many developments in India which give us satisfaction. Our people are expecting a better life through our development plans. We have had a sizable increase in agricultural and industrial production. Our trade is also showing signs of improvement. India has once again demonstrated its faith in full-fledged democracy. Alongside this there is a growing desire of the common man to share more equitably in the distribution of national wealth.\\n43.\\ttwenty-two days ago a great conference ended at Lusaka, and in 22 days from now we shall be celebrating the signing of the Charter of the United Nations. The Conference of Lusaka owes much of its success to the efforts and organization undertaken by the Government and people of Zambia, and once again we should like to thank them. The final declarations and resolution s of that Conference are being circulated as United Nations documents. They represent the consensus of 53 Members of the United Nations, representing about half the human race. I would urge that everyone read them.\\n44.\\tThe Conference at Lusaka highlighted several key points. These are: international peace and security, peaceful coexistence and friendly relations, solution of international problems by negotiations, the value of the United Nations as a universal forum, decolonization, development, disarmament and the pursuit of the principles of nonalignment. In order to fulfill the objectives we subscribed to at Lusaka, we seek the widest support and cooperation of the Members of the United Nations.\\n45.\\tIn assessing the achievements of the United Nations over the past 25 years, the major factor that strikes us is that, while another world war has been avoided, insecurity still prevails and that, while tension between the great Powers has eased and negotiations between them in certain fields have begun developments which are welcome armed conflicts are still raging in many parts of the world. This situation requires attention from the world community. A positive step in that direction that has been taken is the adoption by the Sixth Committee last week [1184th meeting] of the Declaration on Principles of international law concerning Friendly Relations and Cooperation among States in Accordance with the Charter of the United Nations [A 18082, para. 8]. A further step to strengthen the edifice of peace that this Assembly could take is to adopt a declaration on the strengthening of international peace and security.\\n46.\\tSuch a declaration should particularly include prohibition of the threat or use of force to settle international differences, scrupulous respect for existing international frontiers, inadmissibility of the acquisition of territory by military conquest, settlement of disputes exclusively by peaceful means, regional cooperation, reduction of the gap between the developing and the developed countries, disarmament, and the right of self-determination for people under racist and colonial regimes.\\n47.\\tThe developing countries particularly face innumerable threats to their independence and identity. They also face impediments in their economic development. Pressures continue from countries better organized, better developed and better equipped militarily. This has come to be known as neocolonialism and one of our efforts in the coming years should be to arrest these trends. In this context may I draw your attention to what our Prime Minister said at Lusaka about intellectual and cultural emancipation. She said:\\n\"Those who dominated the world\\'s political affairs and manned its economic controls also imposed a monopoly of ideas. For years we accepted their values, their image of the world and, strangely enough, even of ourselves. Whether we liked it or not, we have been pushed into postures of imitation. We have now to break away from borrowed models of development and evolve models of the worthwhile life, which is more relevant to our conditions not necessarily as a group but as individual countries with distinctive personalities.\"\\n48.\\tThere has been a great deal of success in the United Nations program for bringing new territories and new countries to independence, but much remains to be done. Portuguese colonialism in Africa, South Africa\\'s illegal occupation of Namibia, defiance by the racist regime in Rhodesia and the continued colonial status of a large number of territories and areas remind us of how much more needs to be done.\\n49.\\tSouth Africa denies the fundamental rights to the majority of its citizens and its policy of apartheid poses a threat to the peace. The alliance which has emerged there between the forces of colonialism and racism in an effort to preserve \"white supremacy\" is an affront. We deplore the attitudes and actions of certain countries which encourage the regimes in Salisbury, Pretoria and in the Portuguese possessions.\\n50.\\tWe are concerned at the declared intention of the Government of the United Kingdom to resume the sale of arms to South Africa. Any accretion to the military strength of South Africa will increase the threat not only to the neighboring countries in Africa, but also to the Indian Ocean area. We should like this area to be a zone of peace free from great Power rivalry.\\n51.\\tMuch has been said about the United Nations peacemaking and peacekeeping operations. We believe that in the changing and evolving political scene of the world, the United Nations should occupy a central place. The expectation of the Charter that in the field of peace and security the great Powers would work in concert has not, unfortunately, materialized,. We hope that in the coming years this cooperation will be forthcoming for the benefit of all.\\n52.\\tWe believe that in order to bring about a better atmosphere and eliminate many difficulties which persist it will be necessary to give all Members in the United Nations a feeling of participation in all decisions that may be made. Whether it be the issues of war and peace, economic development or independence and sovereignty, all Member States should participate in decision making. We welcome the cooperation among the great Powers, but are anxious that whatever decisions they may arrive at should be subject to discussion among all of us and that no decision should be implemented until it has received significant support, or consensus, if you like, of the United Nations as a whole.\\n53.\\tWe regret that the universality of membership of the United Nations has not been achieved. In particular, there is a general realization that without the rightful participation of the People\\'s Republic of China this Organization will continue to face difficulties in solving several basic problems.\\n54.\\tIt is a matter of concern that the United Nations and the SecretaryGeneral have been handicapped for lack of adequate funds. We would, therefore, urge that all Members should cooperate in ensuring that the important problems in various fields undertaken by the United Nations do not suffer for paucity of funds. The Indian delegation will do whatever it can to strengthen the hands of the SecretaryGeneral in this respect. Equally, we are concerned about our procedures and methods of work. We would support any steps which may be suggested to bring about improvements in these matters. We attach great importance to suitable geographical distribution, not merely for the Organization as a whole, but in all its departments and at all levels.\\n55.\\tWe consider that the Charter, if faithfully implemented, would overcome many difficulties which the Organization faces. Mr. Lester Pearson, a noted winner of the Nobel Peace Prize and a former Prime Minister of Canada, said recently that \"It is the sheerest hypocrisy for Governments to flee from their own responsibilities by blaming the world Organization\". We regret that it is becoming increasingly a fashion to denigrate the importance of the United Nations by what Mr. Pearson calls the tendency of Governements \"to flee from their own responsibilities\".\\n56.\\tIndia has made its contribution to the various United Nations peacekeeping operations. We hope that the differences on the initiation, control and financing of United Nations peacekeeping operations will be speedily resolved so that the United Nations can contribute more effectively to preserving peace. India accepts the principle of strengthening the machinery of peacekeeping by the United Nations and would consider concrete action after the modalities have been agreed upon.\\n57.\\tGeneral and complete disarmament under international control is even more urgent today. The nuclear arms race and innovations in sophisticated delivery systems are making life on the planet daily more precarious. It deflects resources and energies from constructive work. It also leads to deadly competition, military blocs and spheres of influence.\\n58.\\tThe Indian delegation will strive to ensure the success of the Disarmament Decade through a comprehensive program of disarmament for the next 10 years. We must concentrate our attention on general and complete disarmament, in particular nuclear disarmament. We realize that it may not be possible to achieve progress all at once and that collateral measures are expedient. We are aware of the tremendous contribution which the technology of the peaceful uses of nuclear energy, including peaceful nuclear explosions, can make to the economy of the developing world. The benefits of this technology should be available to all States without any discrimination. At Lusaka the nonaligned nations indicated a general order of priorities which should be followed in drawing up the program for the Disarmament Decade.\\n59.\\tIt is obvious that measures of nuclear disarmament such as cut off in the production of fissionable material for weapons purposes, a comprehensive test ban, reduction and destruction of stockpiles of nuclear weapons and so forth, should receive the highest priority. The next priority should be for other measures in the disarmament field, such as an agreement prohibiting the development, production and stockpiling of chemical and biological weapons and providing for their elimination from the arsenals of all nations.\\n60.\\tI should like to refer briefly to the de-nuclearization draft treaty relating to the seabed and ocean floor . The approval of the agreement on non-emplacement of weapons of mass destruction on the seabed beyond the twelve mile limit is to be welcomed, but it is only a limited disarmament measure in this field.\\n61.\\tMy delegation is convinced that the seabed and the ocean floor and the subsoil thereof beyond the limits of national jurisdiction should be used exclusively for peaceful purposes and that the potential wealth of the area and its resources should be developed and used for the benefit of mankind as a whole. I should like to appeal to all representatives to make a sincere and determined effort to define the regime of the seas and to create an international machinery to regulate it before a mad rush to expropriate the resources of this last frontier sets in.\\n62.\\tAs regards the conference on the law of the sea, my delegation supports the viewpoints expressed at the nonaligned summit in favor of convening a conference on the law of the sea at an early date, after adequate preparations have been made for it by a preparatory committee. We are of the opinion that all the questions, namely, the regimes of the high seas, the continental shelf, the territorial sea and the contiguous zone, fishing and conservation of the living resources of the high seas, etc., should be dealt with at the same time in a comprehensive manner, rather than in a piecemeal fashion.\\n63.\\tOn the occasion of this twenty-fifth anniversary session of the United Nations we can derive some satisfaction from the contribution of this Organization in placing economic cooperation for development on a sound, rational and dynamic basis. We have a long way to go, however, in order to realize the fundamental objectives of the Charter for creating conditions of stability and wellbeing and for ensuring a minimum standard of living necessary for human worth and dignity.\\n64.\\tThe gap separating the affluent and the poor nations has been widening rapidly; this is a serious threat to the independence of the developing countries and to international peace and security. Some of the recent trends in the field of international economic cooperation indicate that there has been a retreat from the high ideals of 1950s. Despite the endeavors of the developing countries to contribute their due and rightful share in the world economic life, the process of their continuous alienation from the mainstream of the world economy remains unabated.\\n65.\\tIndia views with favor, and looks forward with great expectation, to the effort of the international community to adopt an international development strategy for the seventies as a basis for solving the problem of poverty in a concerted manner and on a rational and comprehensive basis. My delegation would, therefore, commend to the Assembly the strong recommendation of the nonaligned nations that the General Assembly, at its commemorative session, should adopt a declaration on international development strategy for the 1970s.\\n66.\\tSuch a concept does not admit of halfhearted measures undertaken in an isolated manner. What we need is a definition of goals and objectives and time bound policy measures to achieve them. The adoption of a mere declaratory resolution by the General Assembly, launching the Second United Nations\\nDevelopment Decade, would not I repeat, not represent any point of departure, and hence our plea for a strategy of development which not only would provide for policy measures to enable the developing countries to overcome their current economic difficulties, but would also be l decisive move towards the objective of restructuring international economic relations on a just and equitable basis.\\n67.\\tThe primary task for the implementation of the strategy would rest on the developing countries themselves. One of the most hopeful features of the past decade has been the determination shown by the developing countries to try to achieve economic and social progress through their own efforts. At the same time they have progressed also towards broadening and diversifying economic relations among themselves, with a view to imparting strength, to their national endeavors. It is our sincere hope that, consistent with the commitments undertaken by the developed countries in the United Nations Conference on Trade and Development and other forums, and as reflected in the draft international development strategy for the Second United Nations Development Decade [A\\',7982, para. 16] now under consideration by the General Assembly, the developed countries will assist in the implementation of concrete and specific schemes to be put forward by developing countries in the field of economic cooperation, and regional and sub regional integration among themselves.\\n68.\\tWhile we attempt to build the edifice of a secure peace at the United Nations we cannot overlook the conflicts that are currently raging in the world. The situation in VietNam continues to cause us deep concern. We recognize that all parties to the conflict have declared their adherence to the Geneva Agreements and their desire to achieve a peaceful solution in VietNam. The cessation of the bombing of the Democratic Republic of VietNam has been appreciated generally, as also the desire of all sides to continue the talks in Paris to find a peaceful settlement. In our view those talks can progress if there is an indication that all foreign forces will be withdrawn from VietNam. The United States Government already has withdrawn some troops, and we believe that a firm timetable, together with a date for final withdrawal, will help the negotiations in Paris. A broad based Government, comprising all elements of South VietNam, would be another factor which could contribute to the success of the negotiations.\\n69.\\tThe eruption of fighting in Cambodia has increased the tension in that area. We earnestly hope that the people of Cambodia, with whom the Indian people have historic ties of culture and friendship, will be able to overcome all their internal difficulties and will be allowed to live in peace and friendship with their neighbors, without any interference from outside.\\n70.\\tIn Laos the proposed negotiations between the parties are not making much headway.\\n71.\\tThe conflict in the States of Indo-China has brought much distress and suffering to their people.\\nAs a result of this series of conflicts the people of those countries have suffered grievously through death and destruction over the years. India has an abiding interest in peace and stability in that area. Everything should be done to put an end to this human misery.\\n72.\\tAt present it would be difficult to discuss separately the problems of the States of Indo-China, and we believe that once the fighting in Indo-China is stopped it would be necessary to have an international conference to resolve the complex situation now gripping those States. India is prepared to join other States and interested parties in working out arrangements to ensure respect for the independence, territorial integrity, sovereignty and neutrality of all the States of Indo-China.\\n73.\\tWest Asia is another region which is torn by bitter conflict and has not seen peace for many years. Israel continues to occupy large Arab territories seized in the 1967 conflict from which they must withdraw. The human problem of Arab refugees exiled from their homeland cannot be ignored and the just rights of the Palestinian people must be respected.\\n74.\\tThe determination of the international community to take concrete steps to respect and protect the just and reasonable rights of the Palestinian people would provide the most effective and durable check against many desperate measures, including hijacking, which we all deplore and which cause much needless suffering to so many innocent people. We are glad that all the hostages have been released.\\n75.\\tThe foundations of a just and lasting peace in West Asia were laid three years ago when the Security Council adopted resolution 242 (1967). This resolution must be fully implemented. My delegation hopes that the talks under the auspices of the SecretaryGeneral\\'s Special Representative will take place without further delay or procrastination. We share the general concern for peace in this area and hope that the proposed talks will result in the implementation of the Security Council resolution of 1967 and a just and lasting peace in the area.\\n76.\\tWhile conflict and tension continue in Asia, there have been certain positive developments in Europe which we welcome. I refer to the nonaggression Treaty recently signed between the Soviet Union and the Federal Republic of Germany.  We hope that this development will open the way for further agreements to strengthen security in Europe. I should also like to express the hope that the bilateral talks between the United States and the Soviet Union on the limitation of strategic arms will bear fruit. This will not only be an important arms limitation measure but also a positive contribution to the general relaxation of tension in the world.\\n77.\\tInternational relations are entering a phase characterized by increasing interdependence on the one hand and the desire of States to pursue independent policies on the other. Scientific and technological innovations, rapid communication, increased commerce and ecological considerations are lowering the barriers between States and encouraging cooperation. Side by side, the international community remains separated by political, economic and racial barriers and prejudices; the weak continue to live in the shadow of the more powerful, and neither peace nor prosperity nor the right to independence and equality have yet become the integral attributes of all mankind. The United Nations is at the center of the world, attempting to restrain the aggressor, fighting greed and prejudice and promoting international cooperation on a just and equal basis.\\n78.\\tI am certain that the Heads of State and Government attending the commemorative session, beginning in a fortnight\\'s time, will give the requisite lead to make our Organization more effective.\\n79.\\tThe world today seems full of strife. Conflicts and conflagrations are unfortunately continuing. This naturally saddens us all especially when we meet to celebrate the twenty-fifth anniversary of the United Nations. However, the situation is not entirely full of gloom and despair. Let us not fail to take note of the many areas in which significant progress towards peace and prosperity is being made. World peace has been maintained for a quarter of a century even though we have been unable to stop local wars. The pace of development in many parts of the world is gathering momentum. The threat of starvation has been lifted. The production of food grains in countries like India is not only matching current needs but also rising faster than the growth in the population. Each year more and more countries are throwing off the colonial yoke and declaring their determination to play their full part as independent, free nations.\\n80.\\tAs the United Nations completes its twenty-fifth year, we can look to the future, not with despair and despondency but with hope and confidence.\\n\\n\\n\\n\\n'"
            ]
          },
          "execution_count": 13,
          "metadata": {},
          "output_type": "execute_result"
        }
      ],
      "source": [
        "#df.loc[0,'Speech']"
      ]
    },
    {
      "cell_type": "markdown",
      "metadata": {
        "id": "r7rbhz5Sh5XL"
      },
      "source": [
        "Now let's start working with out dataset!"
      ]
    },
    {
      "cell_type": "markdown",
      "metadata": {
        "id": "tLRPu_0Bh5XL"
      },
      "source": [
        "# Speech Text Pre-Processing"
      ]
    },
    {
      "cell_type": "markdown",
      "metadata": {
        "id": "oUaMlJ_4h5XL"
      },
      "source": [
        "First, we need to clean our text data. When I went over a few speeches, I found each paragraph in the speech was numbered to distinctly identify it. There were obviously unwanted characters like newline character, a hyphen, salutations, and apostrophes, like in any other text dataset.\n",
        "\n",
        "But another unique and unwanted information present were the references made in each speech to other documents. We obviously don’t want that either.\n",
        "\n",
        "I have written a simple function to clean the speeches. **An important point here is that I haven’t used lemmatization or changed the words to lowercase as it has the potential to change the POS tag of the word.** We certainly don’t want to do that as you will see in the upcoming subsections."
      ]
    },
    {
      "cell_type": "code",
      "execution_count": null,
      "metadata": {
        "colab": {
          "base_uri": "https://localhost:8080/",
          "height": 108
        },
        "id": "jNJG9r_Bh5XL",
        "outputId": "97ca220a-c0af-4d2e-950f-929b268174e8"
      },
      "outputs": [
        {
          "output_type": "execute_result",
          "data": {
            "text/plain": [
              "'\\n# function to preprocess speech\\ndef clean(text):\\n    \\n    # removing paragraph numbers\\n    text = re.sub(\\'[0-9]+.\\t\\',\\'\\',str(text))\\n    # removing new line characters\\n    text = re.sub(\\'\\n \\',\\'\\',str(text))\\n    text = re.sub(\\'\\n\\',\\' \\',str(text))\\n    # removing apostrophes\\n    text = re.sub(\"\\'s\",\\'\\',str(text))\\n    # removing hyphens\\n    text = re.sub(\"-\",\\' \\',str(text))\\n    text = re.sub(\"— \",\\'\\',str(text))\\n    # removing quotation marks\\n    text = re.sub(\\'\"\\',\\'\\',str(text))\\n    # removing salutations\\n    text = re.sub(\"Mr\\\\.\",\\'Mr\\',str(text))\\n    text = re.sub(\"Mrs\\\\.\",\\'Mrs\\',str(text))\\n    # removing any reference to outside text\\n    text = re.sub(\"[\\\\(\\\\[].*?[\\\\)\\\\]]\", \"\", str(text))\\n    \\n    return text\\n\\n# preprocessing speeches\\ndf[\\'Speech_clean\\'] = df[\\'Speech\\'].apply(clean)\\n'"
            ],
            "application/vnd.google.colaboratory.intrinsic+json": {
              "type": "string"
            }
          },
          "metadata": {},
          "execution_count": 11
        }
      ],
      "source": [
        "\"\"\"\n",
        "# function to preprocess speech\n",
        "def clean(text):\n",
        "\n",
        "    # removing paragraph numbers\n",
        "    text = re.sub('[0-9]+.\\t','',str(text))\n",
        "    # removing new line characters\n",
        "    text = re.sub('\\n ','',str(text))\n",
        "    text = re.sub('\\n',' ',str(text))\n",
        "    # removing apostrophes\n",
        "    text = re.sub(\"'s\",'',str(text))\n",
        "    # removing hyphens\n",
        "    text = re.sub(\"-\",' ',str(text))\n",
        "    text = re.sub(\"— \",'',str(text))\n",
        "    # removing quotation marks\n",
        "    text = re.sub('\\\"','',str(text))\n",
        "    # removing salutations\n",
        "    text = re.sub(\"Mr\\.\",'Mr',str(text))\n",
        "    text = re.sub(\"Mrs\\.\",'Mrs',str(text))\n",
        "    # removing any reference to outside text\n",
        "    text = re.sub(\"[\\(\\[].*?[\\)\\]]\", \"\", str(text))\n",
        "\n",
        "    return text\n",
        "\n",
        "# preprocessing speeches\n",
        "df['Speech_clean'] = df['Speech'].apply(clean)\n",
        "\"\"\""
      ]
    },
    {
      "cell_type": "markdown",
      "metadata": {
        "id": "tTRSB5XDh5XL"
      },
      "source": [
        "Right, now that we have our minimally cleaned speeches, we can split it up into separate sentences."
      ]
    },
    {
      "cell_type": "markdown",
      "metadata": {
        "id": "bb0zMvPgh5XM"
      },
      "source": [
        "# Split the Speech into Different Sentences"
      ]
    },
    {
      "cell_type": "markdown",
      "metadata": {
        "id": "NE-DT2hlh5XM"
      },
      "source": [
        "Spliting our speeches into separate sentences will allow us to extract information from each sentence and later we can combine it to get cummulative information from any specific year."
      ]
    },
    {
      "cell_type": "code",
      "execution_count": null,
      "metadata": {
        "colab": {
          "base_uri": "https://localhost:8080/",
          "height": 54
        },
        "id": "K4XIoMi1h5XM",
        "outputId": "9e377660-8e68-46ac-83fb-d431a3837af9"
      },
      "outputs": [
        {
          "output_type": "execute_result",
          "data": {
            "text/plain": [
              "\"\\n# split sentences\\ndef sentences(text):\\n    # split sentences and questions\\n    text = re.split('[.?]', text)\\n    clean_sent = []\\n    for sent in text:\\n        clean_sent.append(sent)\\n    return clean_sent\\n\\n# sentences\\ndf['sent'] = df['Speech_clean'].apply(sentences)\\n\""
            ],
            "application/vnd.google.colaboratory.intrinsic+json": {
              "type": "string"
            }
          },
          "metadata": {},
          "execution_count": 12
        }
      ],
      "source": [
        "\"\"\"\n",
        "# split sentences\n",
        "def sentences(text):\n",
        "    # split sentences and questions\n",
        "    text = re.split('[.?]', text)\n",
        "    clean_sent = []\n",
        "    for sent in text:\n",
        "        clean_sent.append(sent)\n",
        "    return clean_sent\n",
        "\n",
        "# sentences\n",
        "df['sent'] = df['Speech_clean'].apply(sentences)\n",
        "\"\"\""
      ]
    },
    {
      "cell_type": "code",
      "execution_count": null,
      "metadata": {
        "colab": {
          "base_uri": "https://localhost:8080/",
          "height": 206
        },
        "id": "KjOvD1XHh5XM",
        "outputId": "51522ca0-3c65-4b33-b35b-85f1fbfe4246"
      },
      "outputs": [
        {
          "output_type": "execute_result",
          "data": {
            "text/plain": [
              "      Unnamed: 0            status_id  date  \\\n",
              "2323        4485  1387432736206442498  2021   \n",
              "2332        4499  1387430069296111618  2021   \n",
              "2333        4503  1387424008304357385  2021   \n",
              "2346        4527  1387417262714466304  2021   \n",
              "2358        4548  1387409719447457794  2021   \n",
              "\n",
              "                                                 tweets  misinformation  \\\n",
              "2323  Newscaster Slips Up On Live TV: 'They're Runni...               1   \n",
              "2332  Former-#Pfizer VP Yeadon: 'I don’t think you c...               1   \n",
              "2333  Signal Not Noise April 27\\n- The dems love pla...               1   \n",
              "2346  When people are afraid, they will do anything,...               1   \n",
              "2358  Tunisia: Angelina Jolie lookalike delivers 'de...               1   \n",
              "\n",
              "      polarity  subjectivity  Sentiment  \n",
              "2323  0.318182          0.50          1  \n",
              "2332  0.500000          0.50          1  \n",
              "2333  0.625000          0.55          1  \n",
              "2346 -0.600000          0.90          0  \n",
              "2358  0.100000          0.50          1  "
            ],
            "text/html": [
              "\n",
              "  <div id=\"df-aa0d1025-de2e-4d39-b3ef-60227e123a7a\">\n",
              "    <div class=\"colab-df-container\">\n",
              "      <div>\n",
              "<style scoped>\n",
              "    .dataframe tbody tr th:only-of-type {\n",
              "        vertical-align: middle;\n",
              "    }\n",
              "\n",
              "    .dataframe tbody tr th {\n",
              "        vertical-align: top;\n",
              "    }\n",
              "\n",
              "    .dataframe thead th {\n",
              "        text-align: right;\n",
              "    }\n",
              "</style>\n",
              "<table border=\"1\" class=\"dataframe\">\n",
              "  <thead>\n",
              "    <tr style=\"text-align: right;\">\n",
              "      <th></th>\n",
              "      <th>Unnamed: 0</th>\n",
              "      <th>status_id</th>\n",
              "      <th>date</th>\n",
              "      <th>tweets</th>\n",
              "      <th>misinformation</th>\n",
              "      <th>polarity</th>\n",
              "      <th>subjectivity</th>\n",
              "      <th>Sentiment</th>\n",
              "    </tr>\n",
              "  </thead>\n",
              "  <tbody>\n",
              "    <tr>\n",
              "      <th>2323</th>\n",
              "      <td>4485</td>\n",
              "      <td>1387432736206442498</td>\n",
              "      <td>2021</td>\n",
              "      <td>Newscaster Slips Up On Live TV: 'They're Runni...</td>\n",
              "      <td>1</td>\n",
              "      <td>0.318182</td>\n",
              "      <td>0.50</td>\n",
              "      <td>1</td>\n",
              "    </tr>\n",
              "    <tr>\n",
              "      <th>2332</th>\n",
              "      <td>4499</td>\n",
              "      <td>1387430069296111618</td>\n",
              "      <td>2021</td>\n",
              "      <td>Former-#Pfizer VP Yeadon: 'I don’t think you c...</td>\n",
              "      <td>1</td>\n",
              "      <td>0.500000</td>\n",
              "      <td>0.50</td>\n",
              "      <td>1</td>\n",
              "    </tr>\n",
              "    <tr>\n",
              "      <th>2333</th>\n",
              "      <td>4503</td>\n",
              "      <td>1387424008304357385</td>\n",
              "      <td>2021</td>\n",
              "      <td>Signal Not Noise April 27\\n- The dems love pla...</td>\n",
              "      <td>1</td>\n",
              "      <td>0.625000</td>\n",
              "      <td>0.55</td>\n",
              "      <td>1</td>\n",
              "    </tr>\n",
              "    <tr>\n",
              "      <th>2346</th>\n",
              "      <td>4527</td>\n",
              "      <td>1387417262714466304</td>\n",
              "      <td>2021</td>\n",
              "      <td>When people are afraid, they will do anything,...</td>\n",
              "      <td>1</td>\n",
              "      <td>-0.600000</td>\n",
              "      <td>0.90</td>\n",
              "      <td>0</td>\n",
              "    </tr>\n",
              "    <tr>\n",
              "      <th>2358</th>\n",
              "      <td>4548</td>\n",
              "      <td>1387409719447457794</td>\n",
              "      <td>2021</td>\n",
              "      <td>Tunisia: Angelina Jolie lookalike delivers 'de...</td>\n",
              "      <td>1</td>\n",
              "      <td>0.100000</td>\n",
              "      <td>0.50</td>\n",
              "      <td>1</td>\n",
              "    </tr>\n",
              "  </tbody>\n",
              "</table>\n",
              "</div>\n",
              "      <button class=\"colab-df-convert\" onclick=\"convertToInteractive('df-aa0d1025-de2e-4d39-b3ef-60227e123a7a')\"\n",
              "              title=\"Convert this dataframe to an interactive table.\"\n",
              "              style=\"display:none;\">\n",
              "        \n",
              "  <svg xmlns=\"http://www.w3.org/2000/svg\" height=\"24px\"viewBox=\"0 0 24 24\"\n",
              "       width=\"24px\">\n",
              "    <path d=\"M0 0h24v24H0V0z\" fill=\"none\"/>\n",
              "    <path d=\"M18.56 5.44l.94 2.06.94-2.06 2.06-.94-2.06-.94-.94-2.06-.94 2.06-2.06.94zm-11 1L8.5 8.5l.94-2.06 2.06-.94-2.06-.94L8.5 2.5l-.94 2.06-2.06.94zm10 10l.94 2.06.94-2.06 2.06-.94-2.06-.94-.94-2.06-.94 2.06-2.06.94z\"/><path d=\"M17.41 7.96l-1.37-1.37c-.4-.4-.92-.59-1.43-.59-.52 0-1.04.2-1.43.59L10.3 9.45l-7.72 7.72c-.78.78-.78 2.05 0 2.83L4 21.41c.39.39.9.59 1.41.59.51 0 1.02-.2 1.41-.59l7.78-7.78 2.81-2.81c.8-.78.8-2.07 0-2.86zM5.41 20L4 18.59l7.72-7.72 1.47 1.35L5.41 20z\"/>\n",
              "  </svg>\n",
              "      </button>\n",
              "      \n",
              "  <style>\n",
              "    .colab-df-container {\n",
              "      display:flex;\n",
              "      flex-wrap:wrap;\n",
              "      gap: 12px;\n",
              "    }\n",
              "\n",
              "    .colab-df-convert {\n",
              "      background-color: #E8F0FE;\n",
              "      border: none;\n",
              "      border-radius: 50%;\n",
              "      cursor: pointer;\n",
              "      display: none;\n",
              "      fill: #1967D2;\n",
              "      height: 32px;\n",
              "      padding: 0 0 0 0;\n",
              "      width: 32px;\n",
              "    }\n",
              "\n",
              "    .colab-df-convert:hover {\n",
              "      background-color: #E2EBFA;\n",
              "      box-shadow: 0px 1px 2px rgba(60, 64, 67, 0.3), 0px 1px 3px 1px rgba(60, 64, 67, 0.15);\n",
              "      fill: #174EA6;\n",
              "    }\n",
              "\n",
              "    [theme=dark] .colab-df-convert {\n",
              "      background-color: #3B4455;\n",
              "      fill: #D2E3FC;\n",
              "    }\n",
              "\n",
              "    [theme=dark] .colab-df-convert:hover {\n",
              "      background-color: #434B5C;\n",
              "      box-shadow: 0px 1px 3px 1px rgba(0, 0, 0, 0.15);\n",
              "      filter: drop-shadow(0px 1px 2px rgba(0, 0, 0, 0.3));\n",
              "      fill: #FFFFFF;\n",
              "    }\n",
              "  </style>\n",
              "\n",
              "      <script>\n",
              "        const buttonEl =\n",
              "          document.querySelector('#df-aa0d1025-de2e-4d39-b3ef-60227e123a7a button.colab-df-convert');\n",
              "        buttonEl.style.display =\n",
              "          google.colab.kernel.accessAllowed ? 'block' : 'none';\n",
              "\n",
              "        async function convertToInteractive(key) {\n",
              "          const element = document.querySelector('#df-aa0d1025-de2e-4d39-b3ef-60227e123a7a');\n",
              "          const dataTable =\n",
              "            await google.colab.kernel.invokeFunction('convertToInteractive',\n",
              "                                                     [key], {});\n",
              "          if (!dataTable) return;\n",
              "\n",
              "          const docLinkHtml = 'Like what you see? Visit the ' +\n",
              "            '<a target=\"_blank\" href=https://colab.research.google.com/notebooks/data_table.ipynb>data table notebook</a>'\n",
              "            + ' to learn more about interactive tables.';\n",
              "          element.innerHTML = '';\n",
              "          dataTable['output_type'] = 'display_data';\n",
              "          await google.colab.output.renderOutput(dataTable, element);\n",
              "          const docLink = document.createElement('div');\n",
              "          docLink.innerHTML = docLinkHtml;\n",
              "          element.appendChild(docLink);\n",
              "        }\n",
              "      </script>\n",
              "    </div>\n",
              "  </div>\n",
              "  "
            ]
          },
          "metadata": {},
          "execution_count": 13
        }
      ],
      "source": [
        "sentiment_tweets2021.head()"
      ]
    },
    {
      "cell_type": "markdown",
      "metadata": {
        "id": "d8A7hQMlh5XM"
      },
      "source": [
        "Finally, we can create a dataframe containing the sentences from different years:"
      ]
    },
    {
      "cell_type": "code",
      "source": [
        "sentiment_tweets2020.head()"
      ],
      "metadata": {
        "colab": {
          "base_uri": "https://localhost:8080/",
          "height": 206
        },
        "id": "SJKbxlwCi02-",
        "outputId": "e31006bf-62d3-4a50-fe8c-ed74cca07f40"
      },
      "execution_count": null,
      "outputs": [
        {
          "output_type": "execute_result",
          "data": {
            "text/plain": [
              "    Unnamed: 0            status_id  date  \\\n",
              "0            0  1237387231779840000  2020   \n",
              "1            1  1240175235304960000  2020   \n",
              "2            2  1241324844920320000  2020   \n",
              "3            3  1243024442621440000  2020   \n",
              "12          18  1227362900970479617  2020   \n",
              "\n",
              "                                               tweets  misinformation  \\\n",
              "0   pags parody plus joe talks coronavirus and has...               1   \n",
              "1   coronavirus shows that racists have absolutely...               1   \n",
              "2   would expect front line staff to be more of ri...               1   \n",
              "3   the coronavirus is not only affecting the way ...               1   \n",
              "12  do you think the coronavirus is natural occurr...               1   \n",
              "\n",
              "    polarity  subjectivity  Sentiment  \n",
              "0   0.246753      0.512987          1  \n",
              "1  -0.116667      0.477778          0  \n",
              "2   0.175000      0.450000          1  \n",
              "3   0.068182      0.750000          1  \n",
              "12  0.100000      0.400000          1  "
            ],
            "text/html": [
              "\n",
              "  <div id=\"df-cb64b66e-ef33-4412-9291-48088b5dc64c\">\n",
              "    <div class=\"colab-df-container\">\n",
              "      <div>\n",
              "<style scoped>\n",
              "    .dataframe tbody tr th:only-of-type {\n",
              "        vertical-align: middle;\n",
              "    }\n",
              "\n",
              "    .dataframe tbody tr th {\n",
              "        vertical-align: top;\n",
              "    }\n",
              "\n",
              "    .dataframe thead th {\n",
              "        text-align: right;\n",
              "    }\n",
              "</style>\n",
              "<table border=\"1\" class=\"dataframe\">\n",
              "  <thead>\n",
              "    <tr style=\"text-align: right;\">\n",
              "      <th></th>\n",
              "      <th>Unnamed: 0</th>\n",
              "      <th>status_id</th>\n",
              "      <th>date</th>\n",
              "      <th>tweets</th>\n",
              "      <th>misinformation</th>\n",
              "      <th>polarity</th>\n",
              "      <th>subjectivity</th>\n",
              "      <th>Sentiment</th>\n",
              "    </tr>\n",
              "  </thead>\n",
              "  <tbody>\n",
              "    <tr>\n",
              "      <th>0</th>\n",
              "      <td>0</td>\n",
              "      <td>1237387231779840000</td>\n",
              "      <td>2020</td>\n",
              "      <td>pags parody plus joe talks coronavirus and has...</td>\n",
              "      <td>1</td>\n",
              "      <td>0.246753</td>\n",
              "      <td>0.512987</td>\n",
              "      <td>1</td>\n",
              "    </tr>\n",
              "    <tr>\n",
              "      <th>1</th>\n",
              "      <td>1</td>\n",
              "      <td>1240175235304960000</td>\n",
              "      <td>2020</td>\n",
              "      <td>coronavirus shows that racists have absolutely...</td>\n",
              "      <td>1</td>\n",
              "      <td>-0.116667</td>\n",
              "      <td>0.477778</td>\n",
              "      <td>0</td>\n",
              "    </tr>\n",
              "    <tr>\n",
              "      <th>2</th>\n",
              "      <td>2</td>\n",
              "      <td>1241324844920320000</td>\n",
              "      <td>2020</td>\n",
              "      <td>would expect front line staff to be more of ri...</td>\n",
              "      <td>1</td>\n",
              "      <td>0.175000</td>\n",
              "      <td>0.450000</td>\n",
              "      <td>1</td>\n",
              "    </tr>\n",
              "    <tr>\n",
              "      <th>3</th>\n",
              "      <td>3</td>\n",
              "      <td>1243024442621440000</td>\n",
              "      <td>2020</td>\n",
              "      <td>the coronavirus is not only affecting the way ...</td>\n",
              "      <td>1</td>\n",
              "      <td>0.068182</td>\n",
              "      <td>0.750000</td>\n",
              "      <td>1</td>\n",
              "    </tr>\n",
              "    <tr>\n",
              "      <th>12</th>\n",
              "      <td>18</td>\n",
              "      <td>1227362900970479617</td>\n",
              "      <td>2020</td>\n",
              "      <td>do you think the coronavirus is natural occurr...</td>\n",
              "      <td>1</td>\n",
              "      <td>0.100000</td>\n",
              "      <td>0.400000</td>\n",
              "      <td>1</td>\n",
              "    </tr>\n",
              "  </tbody>\n",
              "</table>\n",
              "</div>\n",
              "      <button class=\"colab-df-convert\" onclick=\"convertToInteractive('df-cb64b66e-ef33-4412-9291-48088b5dc64c')\"\n",
              "              title=\"Convert this dataframe to an interactive table.\"\n",
              "              style=\"display:none;\">\n",
              "        \n",
              "  <svg xmlns=\"http://www.w3.org/2000/svg\" height=\"24px\"viewBox=\"0 0 24 24\"\n",
              "       width=\"24px\">\n",
              "    <path d=\"M0 0h24v24H0V0z\" fill=\"none\"/>\n",
              "    <path d=\"M18.56 5.44l.94 2.06.94-2.06 2.06-.94-2.06-.94-.94-2.06-.94 2.06-2.06.94zm-11 1L8.5 8.5l.94-2.06 2.06-.94-2.06-.94L8.5 2.5l-.94 2.06-2.06.94zm10 10l.94 2.06.94-2.06 2.06-.94-2.06-.94-.94-2.06-.94 2.06-2.06.94z\"/><path d=\"M17.41 7.96l-1.37-1.37c-.4-.4-.92-.59-1.43-.59-.52 0-1.04.2-1.43.59L10.3 9.45l-7.72 7.72c-.78.78-.78 2.05 0 2.83L4 21.41c.39.39.9.59 1.41.59.51 0 1.02-.2 1.41-.59l7.78-7.78 2.81-2.81c.8-.78.8-2.07 0-2.86zM5.41 20L4 18.59l7.72-7.72 1.47 1.35L5.41 20z\"/>\n",
              "  </svg>\n",
              "      </button>\n",
              "      \n",
              "  <style>\n",
              "    .colab-df-container {\n",
              "      display:flex;\n",
              "      flex-wrap:wrap;\n",
              "      gap: 12px;\n",
              "    }\n",
              "\n",
              "    .colab-df-convert {\n",
              "      background-color: #E8F0FE;\n",
              "      border: none;\n",
              "      border-radius: 50%;\n",
              "      cursor: pointer;\n",
              "      display: none;\n",
              "      fill: #1967D2;\n",
              "      height: 32px;\n",
              "      padding: 0 0 0 0;\n",
              "      width: 32px;\n",
              "    }\n",
              "\n",
              "    .colab-df-convert:hover {\n",
              "      background-color: #E2EBFA;\n",
              "      box-shadow: 0px 1px 2px rgba(60, 64, 67, 0.3), 0px 1px 3px 1px rgba(60, 64, 67, 0.15);\n",
              "      fill: #174EA6;\n",
              "    }\n",
              "\n",
              "    [theme=dark] .colab-df-convert {\n",
              "      background-color: #3B4455;\n",
              "      fill: #D2E3FC;\n",
              "    }\n",
              "\n",
              "    [theme=dark] .colab-df-convert:hover {\n",
              "      background-color: #434B5C;\n",
              "      box-shadow: 0px 1px 3px 1px rgba(0, 0, 0, 0.15);\n",
              "      filter: drop-shadow(0px 1px 2px rgba(0, 0, 0, 0.3));\n",
              "      fill: #FFFFFF;\n",
              "    }\n",
              "  </style>\n",
              "\n",
              "      <script>\n",
              "        const buttonEl =\n",
              "          document.querySelector('#df-cb64b66e-ef33-4412-9291-48088b5dc64c button.colab-df-convert');\n",
              "        buttonEl.style.display =\n",
              "          google.colab.kernel.accessAllowed ? 'block' : 'none';\n",
              "\n",
              "        async function convertToInteractive(key) {\n",
              "          const element = document.querySelector('#df-cb64b66e-ef33-4412-9291-48088b5dc64c');\n",
              "          const dataTable =\n",
              "            await google.colab.kernel.invokeFunction('convertToInteractive',\n",
              "                                                     [key], {});\n",
              "          if (!dataTable) return;\n",
              "\n",
              "          const docLinkHtml = 'Like what you see? Visit the ' +\n",
              "            '<a target=\"_blank\" href=https://colab.research.google.com/notebooks/data_table.ipynb>data table notebook</a>'\n",
              "            + ' to learn more about interactive tables.';\n",
              "          element.innerHTML = '';\n",
              "          dataTable['output_type'] = 'display_data';\n",
              "          await google.colab.output.renderOutput(dataTable, element);\n",
              "          const docLink = document.createElement('div');\n",
              "          docLink.innerHTML = docLinkHtml;\n",
              "          element.appendChild(docLink);\n",
              "        }\n",
              "      </script>\n",
              "    </div>\n",
              "  </div>\n",
              "  "
            ]
          },
          "metadata": {},
          "execution_count": 14
        }
      ]
    },
    {
      "cell_type": "code",
      "source": [
        "sentiment_tweets2020.iloc[:,3]"
      ],
      "metadata": {
        "colab": {
          "base_uri": "https://localhost:8080/"
        },
        "id": "Qa_p8nvPkK6E",
        "outputId": "adc84064-70be-4f5c-a18e-956869536465"
      },
      "execution_count": null,
      "outputs": [
        {
          "output_type": "execute_result",
          "data": {
            "text/plain": [
              "0       pags parody plus joe talks coronavirus and has...\n",
              "1       coronavirus shows that racists have absolutely...\n",
              "2       would expect front line staff to be more of ri...\n",
              "3       the coronavirus is not only affecting the way ...\n",
              "12      do you think the coronavirus is natural occurr...\n",
              "                              ...                        \n",
              "2316    what does mask do blocks respiratory droplets ...\n",
              "2317    the main argument getting against my prior thr...\n",
              "2318    feel like this is the video that perfectly dep...\n",
              "2319                                        more and more\n",
              "2320    today during my weekly press conference told t...\n",
              "Name: tweets, Length: 1372, dtype: object"
            ]
          },
          "metadata": {},
          "execution_count": 22
        }
      ]
    },
    {
      "cell_type": "code",
      "source": [
        "sentiment_tweets2020.iloc[:,2]"
      ],
      "metadata": {
        "colab": {
          "base_uri": "https://localhost:8080/"
        },
        "id": "pQ8_Vcv9k4eP",
        "outputId": "7ed2bb85-8e01-44d7-fbf8-f28683fdff5a"
      },
      "execution_count": null,
      "outputs": [
        {
          "output_type": "execute_result",
          "data": {
            "text/plain": [
              "0       2020\n",
              "1       2020\n",
              "2       2020\n",
              "3       2020\n",
              "12      2020\n",
              "        ... \n",
              "2316    2020\n",
              "2317    2020\n",
              "2318    2020\n",
              "2319    2020\n",
              "2320    2020\n",
              "Name: date, Length: 1372, dtype: int64"
            ]
          },
          "metadata": {},
          "execution_count": 28
        }
      ]
    },
    {
      "cell_type": "code",
      "execution_count": null,
      "metadata": {
        "id": "RGwfASrhh5XM"
      },
      "outputs": [],
      "source": [
        "# Create a dataframe containing sentences\n",
        "df2 = pd.DataFrame(columns=['Sent','Year','Len'])\n",
        "\n",
        "# List of sentences for new df\n",
        "row_list = []\n",
        "\n",
        "# for-loop to go over the df speeches\n",
        "for i in range(len(sentiment_tweets2020)):\n",
        "\n",
        "    # for-loop to go over the sentences in the speech\n",
        "    for sent in sentiment_tweets2020.iloc[:,3]:\n",
        "        wordcount = len(sent.split())  # Word count\n",
        "        year = sentiment_tweets2020.iloc[:,2]  # Year\n",
        "        dict1 = {'Year':year,'Sent':sent,'Len':wordcount}  # Dictionary\n",
        "        row_list.append(dict1)  # Append dictionary to list\n",
        "\n",
        "# Create the new df\n",
        "df2 = pd.DataFrame(row_list)"
      ]
    },
    {
      "cell_type": "code",
      "execution_count": null,
      "metadata": {
        "id": "iBrtQoY9h5XM"
      },
      "outputs": [],
      "source": [
        "df2.loc[:, (\"Year\")]= '2020'"
      ]
    },
    {
      "cell_type": "code",
      "source": [
        "df2"
      ],
      "metadata": {
        "colab": {
          "base_uri": "https://localhost:8080/",
          "height": 424
        },
        "id": "MV0NFlJUlJy3",
        "outputId": "0a6121a5-1a4b-4701-d130-b11ce34809bc"
      },
      "execution_count": null,
      "outputs": [
        {
          "output_type": "execute_result",
          "data": {
            "text/plain": [
              "         Year                                               Sent  Len\n",
              "0        2020  pags parody plus joe talks coronavirus and has...   16\n",
              "1        2020  coronavirus shows that racists have absolutely...   17\n",
              "2        2020  would expect front line staff to be more of ri...   16\n",
              "3        2020  the coronavirus is not only affecting the way ...   18\n",
              "4        2020  do you think the coronavirus is natural occurr...   20\n",
              "...       ...                                                ...  ...\n",
              "1882379  2020  what does mask do blocks respiratory droplets ...   18\n",
              "1882380  2020  the main argument getting against my prior thr...   20\n",
              "1882381  2020  feel like this is the video that perfectly dep...   21\n",
              "1882382  2020                                      more and more    3\n",
              "1882383  2020  today during my weekly press conference told t...   19\n",
              "\n",
              "[1882384 rows x 3 columns]"
            ],
            "text/html": [
              "\n",
              "  <div id=\"df-021d71f2-e286-476e-b82e-e9c43178412d\">\n",
              "    <div class=\"colab-df-container\">\n",
              "      <div>\n",
              "<style scoped>\n",
              "    .dataframe tbody tr th:only-of-type {\n",
              "        vertical-align: middle;\n",
              "    }\n",
              "\n",
              "    .dataframe tbody tr th {\n",
              "        vertical-align: top;\n",
              "    }\n",
              "\n",
              "    .dataframe thead th {\n",
              "        text-align: right;\n",
              "    }\n",
              "</style>\n",
              "<table border=\"1\" class=\"dataframe\">\n",
              "  <thead>\n",
              "    <tr style=\"text-align: right;\">\n",
              "      <th></th>\n",
              "      <th>Year</th>\n",
              "      <th>Sent</th>\n",
              "      <th>Len</th>\n",
              "    </tr>\n",
              "  </thead>\n",
              "  <tbody>\n",
              "    <tr>\n",
              "      <th>0</th>\n",
              "      <td>2020</td>\n",
              "      <td>pags parody plus joe talks coronavirus and has...</td>\n",
              "      <td>16</td>\n",
              "    </tr>\n",
              "    <tr>\n",
              "      <th>1</th>\n",
              "      <td>2020</td>\n",
              "      <td>coronavirus shows that racists have absolutely...</td>\n",
              "      <td>17</td>\n",
              "    </tr>\n",
              "    <tr>\n",
              "      <th>2</th>\n",
              "      <td>2020</td>\n",
              "      <td>would expect front line staff to be more of ri...</td>\n",
              "      <td>16</td>\n",
              "    </tr>\n",
              "    <tr>\n",
              "      <th>3</th>\n",
              "      <td>2020</td>\n",
              "      <td>the coronavirus is not only affecting the way ...</td>\n",
              "      <td>18</td>\n",
              "    </tr>\n",
              "    <tr>\n",
              "      <th>4</th>\n",
              "      <td>2020</td>\n",
              "      <td>do you think the coronavirus is natural occurr...</td>\n",
              "      <td>20</td>\n",
              "    </tr>\n",
              "    <tr>\n",
              "      <th>...</th>\n",
              "      <td>...</td>\n",
              "      <td>...</td>\n",
              "      <td>...</td>\n",
              "    </tr>\n",
              "    <tr>\n",
              "      <th>1882379</th>\n",
              "      <td>2020</td>\n",
              "      <td>what does mask do blocks respiratory droplets ...</td>\n",
              "      <td>18</td>\n",
              "    </tr>\n",
              "    <tr>\n",
              "      <th>1882380</th>\n",
              "      <td>2020</td>\n",
              "      <td>the main argument getting against my prior thr...</td>\n",
              "      <td>20</td>\n",
              "    </tr>\n",
              "    <tr>\n",
              "      <th>1882381</th>\n",
              "      <td>2020</td>\n",
              "      <td>feel like this is the video that perfectly dep...</td>\n",
              "      <td>21</td>\n",
              "    </tr>\n",
              "    <tr>\n",
              "      <th>1882382</th>\n",
              "      <td>2020</td>\n",
              "      <td>more and more</td>\n",
              "      <td>3</td>\n",
              "    </tr>\n",
              "    <tr>\n",
              "      <th>1882383</th>\n",
              "      <td>2020</td>\n",
              "      <td>today during my weekly press conference told t...</td>\n",
              "      <td>19</td>\n",
              "    </tr>\n",
              "  </tbody>\n",
              "</table>\n",
              "<p>1882384 rows × 3 columns</p>\n",
              "</div>\n",
              "      <button class=\"colab-df-convert\" onclick=\"convertToInteractive('df-021d71f2-e286-476e-b82e-e9c43178412d')\"\n",
              "              title=\"Convert this dataframe to an interactive table.\"\n",
              "              style=\"display:none;\">\n",
              "        \n",
              "  <svg xmlns=\"http://www.w3.org/2000/svg\" height=\"24px\"viewBox=\"0 0 24 24\"\n",
              "       width=\"24px\">\n",
              "    <path d=\"M0 0h24v24H0V0z\" fill=\"none\"/>\n",
              "    <path d=\"M18.56 5.44l.94 2.06.94-2.06 2.06-.94-2.06-.94-.94-2.06-.94 2.06-2.06.94zm-11 1L8.5 8.5l.94-2.06 2.06-.94-2.06-.94L8.5 2.5l-.94 2.06-2.06.94zm10 10l.94 2.06.94-2.06 2.06-.94-2.06-.94-.94-2.06-.94 2.06-2.06.94z\"/><path d=\"M17.41 7.96l-1.37-1.37c-.4-.4-.92-.59-1.43-.59-.52 0-1.04.2-1.43.59L10.3 9.45l-7.72 7.72c-.78.78-.78 2.05 0 2.83L4 21.41c.39.39.9.59 1.41.59.51 0 1.02-.2 1.41-.59l7.78-7.78 2.81-2.81c.8-.78.8-2.07 0-2.86zM5.41 20L4 18.59l7.72-7.72 1.47 1.35L5.41 20z\"/>\n",
              "  </svg>\n",
              "      </button>\n",
              "      \n",
              "  <style>\n",
              "    .colab-df-container {\n",
              "      display:flex;\n",
              "      flex-wrap:wrap;\n",
              "      gap: 12px;\n",
              "    }\n",
              "\n",
              "    .colab-df-convert {\n",
              "      background-color: #E8F0FE;\n",
              "      border: none;\n",
              "      border-radius: 50%;\n",
              "      cursor: pointer;\n",
              "      display: none;\n",
              "      fill: #1967D2;\n",
              "      height: 32px;\n",
              "      padding: 0 0 0 0;\n",
              "      width: 32px;\n",
              "    }\n",
              "\n",
              "    .colab-df-convert:hover {\n",
              "      background-color: #E2EBFA;\n",
              "      box-shadow: 0px 1px 2px rgba(60, 64, 67, 0.3), 0px 1px 3px 1px rgba(60, 64, 67, 0.15);\n",
              "      fill: #174EA6;\n",
              "    }\n",
              "\n",
              "    [theme=dark] .colab-df-convert {\n",
              "      background-color: #3B4455;\n",
              "      fill: #D2E3FC;\n",
              "    }\n",
              "\n",
              "    [theme=dark] .colab-df-convert:hover {\n",
              "      background-color: #434B5C;\n",
              "      box-shadow: 0px 1px 3px 1px rgba(0, 0, 0, 0.15);\n",
              "      filter: drop-shadow(0px 1px 2px rgba(0, 0, 0, 0.3));\n",
              "      fill: #FFFFFF;\n",
              "    }\n",
              "  </style>\n",
              "\n",
              "      <script>\n",
              "        const buttonEl =\n",
              "          document.querySelector('#df-021d71f2-e286-476e-b82e-e9c43178412d button.colab-df-convert');\n",
              "        buttonEl.style.display =\n",
              "          google.colab.kernel.accessAllowed ? 'block' : 'none';\n",
              "\n",
              "        async function convertToInteractive(key) {\n",
              "          const element = document.querySelector('#df-021d71f2-e286-476e-b82e-e9c43178412d');\n",
              "          const dataTable =\n",
              "            await google.colab.kernel.invokeFunction('convertToInteractive',\n",
              "                                                     [key], {});\n",
              "          if (!dataTable) return;\n",
              "\n",
              "          const docLinkHtml = 'Like what you see? Visit the ' +\n",
              "            '<a target=\"_blank\" href=https://colab.research.google.com/notebooks/data_table.ipynb>data table notebook</a>'\n",
              "            + ' to learn more about interactive tables.';\n",
              "          element.innerHTML = '';\n",
              "          dataTable['output_type'] = 'display_data';\n",
              "          await google.colab.output.renderOutput(dataTable, element);\n",
              "          const docLink = document.createElement('div');\n",
              "          docLink.innerHTML = docLinkHtml;\n",
              "          element.appendChild(docLink);\n",
              "        }\n",
              "      </script>\n",
              "    </div>\n",
              "  </div>\n",
              "  "
            ]
          },
          "metadata": {},
          "execution_count": 35
        }
      ]
    },
    {
      "cell_type": "code",
      "execution_count": null,
      "metadata": {
        "id": "nkl3WYewh5XM",
        "outputId": "fa6a1584-3e77-4ef5-bccc-173f68e6c7b8"
      },
      "outputs": [
        {
          "data": {
            "text/plain": [
              "(7150, 3)"
            ]
          },
          "execution_count": 20,
          "metadata": {},
          "output_type": "execute_result"
        }
      ],
      "source": [
        "df2.shape"
      ]
    },
    {
      "cell_type": "markdown",
      "metadata": {
        "id": "rvI6TiPQh5XM"
      },
      "source": [
        "After performing this operation, we end up with 7150 sentences. Going over them and extracting information manually will be a difficult task. That’s why we are looking at Information Extraction using NLP techniques!"
      ]
    },
    {
      "cell_type": "markdown",
      "metadata": {
        "id": "yWRAbzMGh5XN"
      },
      "source": [
        "# Information Extraction using SpaCy"
      ]
    },
    {
      "cell_type": "markdown",
      "metadata": {
        "id": "Xie1LClph5XN"
      },
      "source": [
        "Now to get to the crux of the discussion at hand, Information Extraction. We will be using the [Spacy](https://www.analyticsvidhya.com/blog/2020/03/spacy-tutorial-learn-natural-language-processing/) library for working with the text data. It has all the necessary tools that we can exploit for all the tasks we need for Information Extraction."
      ]
    },
    {
      "cell_type": "markdown",
      "metadata": {
        "id": "82U1CtEph5XN"
      },
      "source": [
        "Let me import the relevant SpaCy modules that we will require for the task ahead:"
      ]
    },
    {
      "cell_type": "code",
      "execution_count": null,
      "metadata": {
        "id": "deGHRFl2h5XN"
      },
      "outputs": [],
      "source": [
        "import spacy\n",
        "from spacy.matcher import Matcher\n",
        "\n",
        "from spacy import displacy\n",
        "from IPython.display import Image, display\n",
        "\n",
        "# load english language model\n",
        "nlp = spacy.load('en_core_web_sm',disable=['ner','textcat'])"
      ]
    },
    {
      "cell_type": "markdown",
      "metadata": {
        "id": "CyAH7BOlh5XN"
      },
      "source": [
        "We will need the spaCy Matcher class to create a pattern to match phrases in the text. We’ll also require the displaCy module for visualizing the dependency graph of sentences.\n",
        "\n",
        "The **visualise_spacy_tree** library will be needed for creating a tree-like structure out of the Dependency graph. This helps in visualizing the graph in a better way. Finally, IPython Image and display classes are required to output the tree.\n",
        "\n",
        "But you don’t need to worry about these too much. It will become clear as you look at the code."
      ]
    },
    {
      "cell_type": "markdown",
      "metadata": {
        "heading_collapsed": true,
        "id": "flOukevRh5XN"
      },
      "source": [
        "## Information Extraction #1 – Finding Mentions of Prime Minister in the Speech"
      ]
    },
    {
      "cell_type": "markdown",
      "metadata": {
        "hidden": true,
        "id": "KTlvCV0Hh5XN"
      },
      "source": [
        "When working on Information extraction task, it is important to manually go over a subset of the dataset to understand what the text is like and determine if anything catches your attention at first glance.\n",
        "\n",
        "When I first went over the speeches, I found out that many of them referred to what the Prime Minister had said, thought or achieved in the past. We know that a country is nothing without its leader. The destination a country ends up in is by and large the result of the able guidance of its leader. Therefore, I believe it is important to extract those sentences from the speeches that referred to Prime Ministers of India, and try and understand what their thinking and perspective was, and also try to unravel any common or differing beliefs over the years.\n",
        "\n",
        "To achieve this task, I used [Spacy's Matcher class](https://spacy.io/api/matcher). It allows you to match a sequence of words based on certain patterns. For the current task, we know that whenever a Prime Minister is reffered to in the speech, it will be in one of the following ways:\n",
        "* Prime Minister of [Country] ...\n",
        "* Prime Minister [Name] ...\n",
        "\n",
        "Using this general understanding one can come up with a pattern as follows:\n",
        "\n",
        "pattern = [{'LOWER':'prime'},\n",
        "\n",
        "           {'LOWER':'minister'},\n",
        "              \n",
        "           {'POS':'ADP','OP':'?'},\n",
        "              \n",
        "           {'POS':'PROPN'}]\n",
        "        \n",
        "Let me walk you through this pattern:     \n",
        "* Here, each dictionary in the list is a unique word.\n",
        "* The first and second words match the keyword \"Prime Minister\" irrespective of whether it is in uppercase or not, which is why I have included the key \"LOWER\".\n",
        "* The third keyword matches a word that is a preposition. What I am looking for here is the word \"of\". Now, as discussed before, it may or may not be present in the pattern, therefore, an additional key, \"OP\", is mentioned to point out just that.\n",
        "* Finally, the last keyword in the phrase should be a proper noun. This is either be the name of the country or name of the prime minister.\n",
        "* The matched keywords have to be in continuation otherwise the pattern will not match the phrase."
      ]
    },
    {
      "cell_type": "code",
      "execution_count": null,
      "metadata": {
        "hidden": true,
        "id": "qMN1c8C2h5XN"
      },
      "outputs": [],
      "source": [
        "# Function to find sentences containing PMs of India\n",
        "def find_names(text):\n",
        "\n",
        "    names = []\n",
        "\n",
        "    # Create a spacy doc\n",
        "    doc = nlp(text)\n",
        "\n",
        "    # Define the pattern\n",
        "    pattern = [{'LOWER':'trump'},\n",
        "              {'POS':'ADP','OP':'?'},\n",
        "              {'POS':'PROPN'}]\n",
        "\n",
        "    # Matcher class object\n",
        "    matcher = Matcher(nlp.vocab)\n",
        "    matcher.add(\"names\", None, pattern)\n",
        "\n",
        "    matches = matcher(doc)\n",
        "\n",
        "    # Finding patterns in the text\n",
        "    for i in range(0,len(matches)):\n",
        "\n",
        "        # match: id, start, end\n",
        "        token = doc[matches[i][1]:matches[i][2]]\n",
        "        # append token to list\n",
        "        names.append(str(token))\n",
        "\n",
        "    # Only keep sentences containing Indian PMs\n",
        "    for name in names:\n",
        "        if (name.split()[2] == 'of') and (name.split()[3] != \"\"):\n",
        "                names.remove(name)\n",
        "\n",
        "    return names\n",
        "\n",
        "# Apply function\n",
        "df2['PM_Names'] = df2['Sent'].apply(find_names)"
      ]
    },
    {
      "cell_type": "markdown",
      "metadata": {
        "hidden": true,
        "id": "EBvguGE5h5XN"
      },
      "source": [
        "Here are some sample sentences from the year 1984 that matched our pattern:"
      ]
    },
    {
      "cell_type": "code",
      "execution_count": null,
      "metadata": {
        "hidden": true,
        "id": "GAQA_FCxh5XN",
        "outputId": "7188a40c-c3d1-4a94-8e50-6ad0fa721981"
      },
      "outputs": [
        {
          "name": "stdout",
          "output_type": "stream",
          "text": [
            "->  In November 1948, the first Prime Minister of India, Pandit Jawaharlal Nehru, addressing the General Assembly' on behalf of newly independent India, stated that the Charter of the United Nations, in noble language, had laid down the principles and purposes of that great Organization, and he thought it would not be possible to improve upon that language \n",
            "\n",
            "->  As Prime Minister Indira Gandhi said in her address to the Seventh Conference of Heads of State or Government of Non Aligned Countries, held at New Delhi from 7 to 12 March 1983: Its significance is not to be measured by the number of divisions or the megatons of destructive power we command, but by the intensity with which we desire peace and freedom, development and international justice \n",
            "\n",
            "->  A major peace initiative in this regard was taken recently by the Prime Minister of India, Mrs Indira Gandhi, together with the Heads of State or Government of Argentina, Greece, Mexico, Sweden and the United Republic of Tanzania \n",
            "\n",
            "->  After the communal violence of 1983, the Prime Minister of India offered her good offices to help find a political solution to the problem \n",
            "\n",
            "->  The Prime Minister of India has categorically stated that India does not intervene in the internal affairs of Sri Lanka or, indeed, of any other country \n",
            "\n",
            "->  As the Prime Minister of India, Mrs Indira Gandhi, stated in a recent message: cannot be reformed; it must be ended \n",
            "\n",
            "->  Recently, a group of five eminent experts appointed by the Chairman of the Movement of Non Aligned Countries, the Prime Minister of India, Mrs Indira Gandhi, completed a detailed study of the substantive and procedural issues that would arise in the context of convening such a conference \n",
            "\n",
            "->  As the Prime Minister of India said at the thirty eighth session of the General Assembly on behalf of the non aligned countries: Firm faith in the United Nations is central to the non aligned \n",
            "\n",
            "->  In her address to the General Assembly last year, at its thirty eighth session, Prime Minister Indira Gandhi referred to a new order struggling to be born amidst the upheavals of the present day world: For us, the non aligned, and for all who are deeply concerned with the future of humanity, the question is whether we help the birth of this new creation or throttle it before it can draw breath \n",
            "\n"
          ]
        }
      ],
      "source": [
        "# look at sentences for a specific year\n",
        "for i in range(len(df2)):\n",
        "    if df2.loc[i,'Year'] in ['1984']:\n",
        "        if len(df2.loc[i,'PM_Names'])!=0:\n",
        "            print('->',df2.loc[i,'Sent'],'\\n')"
      ]
    },
    {
      "cell_type": "code",
      "execution_count": null,
      "metadata": {
        "hidden": true,
        "id": "MY-13gI_h5XN",
        "outputId": "ed93d773-583e-437d-af24-c55d9514ebdd"
      },
      "outputs": [
        {
          "name": "stdout",
          "output_type": "stream",
          "text": [
            "58\n"
          ]
        }
      ],
      "source": [
        "count=0\n",
        "for i in range(len(df2)):\n",
        "    if len(df2.loc[i,'PM_Names'])!=0:\n",
        "        count+=1\n",
        "print(count)"
      ]
    },
    {
      "cell_type": "markdown",
      "metadata": {
        "hidden": true,
        "id": "5HRfpLAXh5XO"
      },
      "source": [
        "Now, since only 58 sentences out of 7150 total sentences gave an output that matched our pattern, I have summarised the relevant information from these outputs here:\n",
        "\n",
        "- PM Indira Gandhi and PM Jawaharlal Nehru believed in working together in unity and with the principles of the UN\n",
        "- PM Indira Gandhi believed in striking a balance between global production and consumption. She set out policies dedicated to national reconstruction and the consolidation of a secular and pluralistic political system\n",
        "- PM Indira Gandhi emphasized that India does not intervene in the internal affairs of other countries. However, this stand on foreign policy took a U-turn under PM Rajiv Gandhi when he signed an agreement with the Sri Lankan Prime Minister which brought peace to Sri Lanka\n",
        "- Both PM Indira Gandhi and PM Rajiv Gandhi believed in the link between economic development and protection of the environment\n",
        "- PM Rajiv Gandhi advocated for the disarmament of nuclear weapons, a belief that was upheld by India over the years\n",
        "- Indian, under different PMs, has always extended a hand of peace towards Pakistan over the years\n",
        "- PM Narendra Modi believes that economic empowerment and upliftment of any nation involves the empowerment of its women\n",
        "- PM Narendra Modi has launched several schemes that will help India achieve its SGD goals\n",
        "\n",
        "Using information extraction, we were able to isolate only a few sentences that we required that gave us maximum results."
      ]
    },
    {
      "cell_type": "markdown",
      "metadata": {
        "heading_collapsed": true,
        "id": "6Qnf8IC1h5XO"
      },
      "source": [
        "## Information Extraction #2 – Finding Initiatives"
      ]
    },
    {
      "cell_type": "markdown",
      "metadata": {
        "hidden": true,
        "id": "t8QfWTeLh5XO"
      },
      "source": [
        "The second interesting thing I noticed while going through the speeches is that there were a lot of initiatives, schemes, agreements, conferences, programs, etc. that were mentioned in the speeches. For example, ‘Paris agreement’, ‘Simla Agreement’, ‘Conference on Security Council’, ‘Conference of Non Aligned Countries’, ‘International Solar Alliance’, ‘Skill India initiative’, etc.\n",
        "\n",
        "Extracting these would give us an idea about what are the priorities for India and whether there is a pattern as to why they are mentioned quite often in the speeches.\n",
        "\n",
        "I am going to refer to all the schemes, initiatives, conferences, programmes, etc. keywords as initiatives.\n",
        "\n",
        "To extract initiatives from the text, the first thing I am going to do is identify those sentences that talk about the initiatives. For that, I will use simple regex to select only those sentences that contain the keyword ‘initiative’, ‘scheme’, ‘agreement’, etc. This will reduce our search for the initiative pattern that we are looking for:"
      ]
    },
    {
      "cell_type": "code",
      "execution_count": null,
      "metadata": {
        "hidden": true,
        "id": "LCR1NyIOh5XO",
        "outputId": "b9026ff9-9ce4-46bd-cb7c-c3355d8f2020"
      },
      "outputs": [
        {
          "name": "stderr",
          "output_type": "stream",
          "text": [
            "C:\\Users\\Dell\\Anaconda3\\lib\\site-packages\\ipykernel_launcher.py:19: DeprecationWarning: Flags not at the start of the expression '\\\\b(?i)plan\\\\b'\n",
            "C:\\Users\\Dell\\Anaconda3\\lib\\site-packages\\ipykernel_launcher.py:19: DeprecationWarning: Flags not at the start of the expression '\\\\b(?i)programme\\\\b'\n",
            "C:\\Users\\Dell\\Anaconda3\\lib\\site-packages\\ipykernel_launcher.py:19: DeprecationWarning: Flags not at the start of the expression '\\\\b(?i)scheme\\\\b'\n",
            "C:\\Users\\Dell\\Anaconda3\\lib\\site-packages\\ipykernel_launcher.py:19: DeprecationWarning: Flags not at the start of the expression '\\\\b(?i)campaign\\\\b'\n",
            "C:\\Users\\Dell\\Anaconda3\\lib\\site-packages\\ipykernel_launcher.py:19: DeprecationWarning: Flags not at the start of the expression '\\\\b(?i)initiative\\\\b'\n",
            "C:\\Users\\Dell\\Anaconda3\\lib\\site-packages\\ipykernel_launcher.py:19: DeprecationWarning: Flags not at the start of the expression '\\\\b(?i)conference\\\\b'\n",
            "C:\\Users\\Dell\\Anaconda3\\lib\\site-packages\\ipykernel_launcher.py:19: DeprecationWarning: Flags not at the start of the expression '\\\\b(?i)agreement\\\\b'\n",
            "C:\\Users\\Dell\\Anaconda3\\lib\\site-packages\\ipykernel_launcher.py:19: DeprecationWarning: Flags not at the start of the expression '\\\\b(?i)alliance\\\\b'\n"
          ]
        }
      ],
      "source": [
        "# Function to check if keyswords like 'programs','schemes', etc. present in sentences\n",
        "\n",
        "def prog_sent(text):\n",
        "\n",
        "    patterns = [r'\\b(?i)'+'plan'+r'\\b',\n",
        "               r'\\b(?i)'+'programme'+r'\\b',\n",
        "               r'\\b(?i)'+'scheme'+r'\\b',\n",
        "               r'\\b(?i)'+'campaign'+r'\\b',\n",
        "               r'\\b(?i)'+'initiative'+r'\\b',\n",
        "               r'\\b(?i)'+'conference'+r'\\b',\n",
        "               r'\\b(?i)'+'agreement'+r'\\b',\n",
        "               r'\\b(?i)'+'alliance'+r'\\b']\n",
        "\n",
        "    output = []\n",
        "    flag = 0\n",
        "\n",
        "    # Look for patterns in the text\n",
        "    for pat in patterns:\n",
        "        if re.search(pat, text) != None:\n",
        "            flag = 1\n",
        "            break\n",
        "    return flag\n",
        "\n",
        "# Apply function\n",
        "df2['Check_Schemes'] = df2['Sent'].apply(prog_sent)"
      ]
    },
    {
      "cell_type": "code",
      "execution_count": null,
      "metadata": {
        "hidden": true,
        "id": "vytTEuEuh5XO",
        "outputId": "2cdaf23f-edf9-4777-b31f-6b21152ea5f2"
      },
      "outputs": [
        {
          "name": "stdout",
          "output_type": "stream",
          "text": [
            "416\n"
          ]
        }
      ],
      "source": [
        "# Sentences that contain the initiative words\n",
        "count = 0\n",
        "for i in range(len(df2)):\n",
        "    if df2.loc[i,'Check_Schemes'] == 1:\n",
        "        count+=1\n",
        "print(count)"
      ]
    },
    {
      "cell_type": "markdown",
      "metadata": {
        "hidden": true,
        "id": "nJpPp6LJh5XO"
      },
      "source": [
        "Now, you might be thinking that our task is done here as we have already identified the sentences. We can easily look these up and determine what is being talked about in these sentences. But, think about it, not all of these will contain the initiative name. Some of these might be generally talking about initiatives but no initiative name might be present in them.\n",
        "\n",
        "Therefore, we need to come up with a better solution that extracts only those sentences that contain the initiative names. For that, I am going to use the spaCy Matcher, once again, to come up with a pattern that matches these initiatives.\n",
        "\n",
        "As you might have noticed, the initiative name is a proper noun that starts with a determiner and ends with either ‘initiative’/’programme’/’agreement’ etc. words in the end. It also includes an occasional preposition in the middle. I also noticed that most of the initiative names were between two to five words long. Keeping this in mind, I came up with the following pattern to match the initiative names:"
      ]
    },
    {
      "cell_type": "code",
      "execution_count": null,
      "metadata": {
        "hidden": true,
        "id": "5_vY4C2ch5XO"
      },
      "outputs": [],
      "source": [
        "# To extract initiatives using pattern matching\n",
        "def all_schemes(text,check):\n",
        "\n",
        "    schemes = []\n",
        "\n",
        "    doc = nlp(text)\n",
        "\n",
        "    # Initiatives keywords\n",
        "    prog_list = ['programme','scheme',\n",
        "                 'initiative','campaign',\n",
        "                 'agreement','conference',\n",
        "                 'alliance','plan']\n",
        "\n",
        "    # Define pattern to match initiatives names\n",
        "    pattern = [{'POS':'DET'},\n",
        "               {'POS':'PROPN','DEP':'compound'},\n",
        "               {'POS':'PROPN','DEP':'compound'},\n",
        "               {'POS':'PROPN','OP':'?'},\n",
        "               {'POS':'PROPN','OP':'?'},\n",
        "               {'POS':'PROPN','OP':'?'},\n",
        "               {'LOWER':{'IN':prog_list},'OP':'+'}\n",
        "              ]\n",
        "\n",
        "    if check == 0:\n",
        "        # return blank list\n",
        "        return schemes\n",
        "\n",
        "    # Matcher class object\n",
        "    matcher = Matcher(nlp.vocab)\n",
        "    matcher.add(\"matching\", None, pattern)\n",
        "    matches = matcher(doc)\n",
        "\n",
        "    for i in range(0,len(matches)):\n",
        "\n",
        "        # match: id, start, end\n",
        "        start, end = matches[i][1], matches[i][2]\n",
        "\n",
        "        if doc[start].pos_=='DET':\n",
        "            start = start+1\n",
        "\n",
        "        # matched string\n",
        "        span = str(doc[start:end])\n",
        "\n",
        "        if (len(schemes)!=0) and (schemes[-1] in span):\n",
        "            schemes[-1] = span\n",
        "        else:\n",
        "            schemes.append(span)\n",
        "\n",
        "    return schemes\n",
        "\n",
        "# apply function\n",
        "df2['Schemes1'] = df2.apply(lambda x:all_schemes(x.Sent,x.Check_Schemes),axis=1)"
      ]
    },
    {
      "cell_type": "markdown",
      "metadata": {
        "hidden": true,
        "id": "zPnZkXb2h5XO"
      },
      "source": [
        "Lets see how many of the sentences contain an initiative name."
      ]
    },
    {
      "cell_type": "code",
      "execution_count": null,
      "metadata": {
        "hidden": true,
        "id": "UpWIgrDXh5XO",
        "outputId": "d1c0cf0e-4d2d-43c1-9278-407c57007dc8"
      },
      "outputs": [
        {
          "name": "stdout",
          "output_type": "stream",
          "text": [
            "62\n"
          ]
        }
      ],
      "source": [
        "count = 0\n",
        "for i in range(len(df2)):\n",
        "    if len(df2.loc[i,'Schemes1'])!=0:\n",
        "        count+=1\n",
        "print(count)"
      ]
    },
    {
      "cell_type": "markdown",
      "metadata": {
        "hidden": true,
        "id": "D_WhMTRBh5XO"
      },
      "source": [
        "62, not bad. Now lets have a look at a few of the outputs."
      ]
    },
    {
      "cell_type": "code",
      "execution_count": null,
      "metadata": {
        "hidden": true,
        "id": "bH2thAheh5XO",
        "outputId": "4820511f-a426-48b2-97ae-3a128a61210e"
      },
      "outputs": [
        {
          "name": "stdout",
          "output_type": "stream",
          "text": [
            "-> 2018 , ['International Solar Alliance'] :\n",
            " Prime Minister Modi, together with the Prime Minister of France, launched the International Solar Alliance\n"
          ]
        }
      ],
      "source": [
        "year = '2018'\n",
        "for i in range(len(df2)):\n",
        "    if df2.loc[i,'Year']==year:\n",
        "        if len(df2.loc[i,'Schemes1'])!=0:\n",
        "            print('->',df2.loc[i,'Year'],',',df2.loc[i,'Schemes1'],':')\n",
        "            print(df2.loc[i,'Sent'])"
      ]
    },
    {
      "cell_type": "markdown",
      "metadata": {
        "hidden": true,
        "id": "-V1UGNkPh5XP"
      },
      "source": [
        "But one thing I must point out here is that there were a lot more initiatives in the speeches that did not match our pattern. For example, in the year 2018, there were other initiatives too like “MUDRA”, ”Ujjwala”, ”Paris Agreement”, etc. So is there a better way to extract them?\n",
        "\n",
        "Remember how we looked at dependencies at the beginning of the article? Well, we are going to use those to make some rules to match the initiative name. But before making a rule, you need to understand how a sentence is structured, only then can you come up with a general rule to extract relevant information.\n",
        "\n",
        "To understand the structure of the sentence I am going to print the dependency graph of a sample example but in a tree fashion which gives a better intuition of the structure. Have a look below:"
      ]
    },
    {
      "cell_type": "code",
      "execution_count": null,
      "metadata": {
        "hidden": true,
        "id": "rmtoQdinh5XP",
        "outputId": "18023bc1-b89f-47e1-b9ee-0cc0ae2a14f1"
      },
      "outputs": [
        {
          "data": {
            "image/png": "[encoded data removed]",
            "text/plain": [
              "<IPython.core.display.Image object>"
            ]
          },
          "metadata": {},
          "output_type": "display_data"
        }
      ],
      "source": [
        "# Printing dependency tree\n",
        "doc = nlp(' Last year, I spoke about the Ujjwala programme , through which, I am happy to report, 50 million free liquid-gas connections have been provided so far')\n",
        "png = visualise_spacy_tree.create_png(doc)\n",
        "display(Image(png))"
      ]
    },
    {
      "cell_type": "markdown",
      "metadata": {
        "hidden": true,
        "id": "RY_SB0Lvh5XP"
      },
      "source": [
        "See how 'Ujjwala' is a child node of 'programme'. Have a look at another example."
      ]
    },
    {
      "cell_type": "code",
      "execution_count": null,
      "metadata": {
        "hidden": true,
        "id": "rGXl23DFh5XP",
        "outputId": "6a38015f-1424-45d0-d393-515ac9c0eb33"
      },
      "outputs": [
        {
          "data": {
            "image/png": "[encoded data removed]",
            "text/plain": [
              "<IPython.core.display.Image object>"
            ]
          },
          "metadata": {},
          "output_type": "display_data"
        }
      ],
      "source": [
        "doc = nlp('Prime Minister Modi, together with the Prime Minister of France, launched the International Solar Alliance')\n",
        "png = visualise_spacy_tree.create_png(doc)\n",
        "display(Image(png))"
      ]
    },
    {
      "cell_type": "markdown",
      "metadata": {
        "hidden": true,
        "id": "g1AIumoEh5XP"
      },
      "source": [
        "Notice how the 'International Solar Alliance' is structured.\n",
        "\n",
        "You must got the idea by now that the initiative names are usually children of nodes that containing words like 'initiative','programme',etc. Based on this knowledge we can develop our own rule.\n",
        "\n",
        "The rule I am suggesting is pretty simple. Let me walk you through it.\n",
        "* I am going to look for tokens in sentences that contain my initiative keywords.\n",
        "* Then I am going to look at its subtree (or words dependent on it) using *token.subtree* and extract only those nodes/words that are proper nouns, since they are most likely going to contain the name of the initiative."
      ]
    },
    {
      "cell_type": "code",
      "execution_count": null,
      "metadata": {
        "hidden": true,
        "id": "2yxbJ-ikh5XP"
      },
      "outputs": [],
      "source": [
        "# rule to extract initiative name\n",
        "def sent_subtree(text):\n",
        "\n",
        "    # pattern match for schemes or initiatives\n",
        "    patterns = [r'\\b(?i)'+'plan'+r'\\b',\n",
        "           r'\\b(?i)'+'programme'+r'\\b',\n",
        "           r'\\b(?i)'+'scheme'+r'\\b',\n",
        "           r'\\b(?i)'+'campaign'+r'\\b',\n",
        "           r'\\b(?i)'+'initiative'+r'\\b',\n",
        "           r'\\b(?i)'+'conference'+r'\\b',\n",
        "           r'\\b(?i)'+'agreement'+r'\\b',\n",
        "           r'\\b(?i)'+'alliance'+r'\\b']\n",
        "\n",
        "    schemes = []\n",
        "    doc = nlp(text)\n",
        "    flag = 0\n",
        "    # if no initiative present in sentence\n",
        "    for pat in patterns:\n",
        "\n",
        "        if re.search(pat, text) != None:\n",
        "            flag = 1\n",
        "            break\n",
        "\n",
        "    if flag == 0:\n",
        "        return schemes\n",
        "\n",
        "    # iterating over sentence tokens\n",
        "    for token in doc:\n",
        "\n",
        "        for pat in patterns:\n",
        "\n",
        "            # if we get a pattern match\n",
        "            if re.search(pat, token.text) != None:\n",
        "\n",
        "                word = ''\n",
        "                # iterating over token subtree\n",
        "                for node in token.subtree:\n",
        "                    # only extract the proper nouns\n",
        "                    if (node.pos_ == 'PROPN'):\n",
        "                        word += node.text+' '\n",
        "\n",
        "                if len(word)!=0:\n",
        "                    schemes.append(word)\n",
        "\n",
        "    return schemes\n",
        "\n",
        "# derive initiatives\n",
        "df2['Schemes2'] = df2['Sent'].apply(sent_subtree)"
      ]
    },
    {
      "cell_type": "markdown",
      "metadata": {
        "hidden": true,
        "id": "h14qkmQuh5XP"
      },
      "source": [
        "Now let's see if we did any better than the last approach."
      ]
    },
    {
      "cell_type": "code",
      "execution_count": null,
      "metadata": {
        "hidden": true,
        "id": "x8GbezPsh5XP",
        "outputId": "5807b8be-31aa-4f3d-bc9d-f34c0cd423ca"
      },
      "outputs": [
        {
          "name": "stdout",
          "output_type": "stream",
          "text": [
            "273\n"
          ]
        }
      ],
      "source": [
        "count = 0\n",
        "for i in range(len(df2)):\n",
        "    if len(df2.loc[i,'Schemes2'])!=0:\n",
        "        count+=1\n",
        "print(count)"
      ]
    },
    {
      "cell_type": "markdown",
      "metadata": {
        "hidden": true,
        "id": "eQQ6fvboh5XP"
      },
      "source": [
        "Wow, we matched 273 entries! That is a significant improvement over the previous result. Lets go over some of the sample outputs."
      ]
    },
    {
      "cell_type": "code",
      "execution_count": null,
      "metadata": {
        "hidden": true,
        "id": "gWK6DBPVh5XP",
        "outputId": "46c9798e-cba9-443e-947f-e35882e43f5a"
      },
      "outputs": [
        {
          "name": "stdout",
          "output_type": "stream",
          "text": [
            "-> 2018 , ['National Health Protection Scheme '] :\n",
            " The Ayushman Bharat Yojana, or National Health Protection Scheme, is the answer to that prayer\n",
            "-> 2018 , ['Micro Units Development Refinance Agency '] :\n",
            " Two extremely effective programmes have also been initiated to increase the skill levels of those waiting to be employed through the National Skill Development Corporation and the Micro Units Development and Refinance Agency  programme, which seeks to turn the poor into entrepreneurs\n",
            "-> 2018 , ['MUDRA '] :\n",
            " The most significant aspect of the MUDRA scheme is the fact that 76 per cent of its beneficiaries are women\n",
            "-> 2018 , ['Ujjwala '] :\n",
            " Last year, I spoke about the Ujjwala programme , through which, I am happy to report, 50 million free liquid gas connections have been provided so far\n",
            "-> 2018 , ['India '] :\n",
            " Another such initiative is the maternity benefit programme, in which women in India are provided with 26 weeks of paid leave to care for their newborns\n",
            "-> 2018 , ['Paris Agreement '] :\n",
            " The principle of common but differentiated responsibilities and respective capabilities was reiterated in the 2015 Paris Agreement\n",
            "-> 2018 , ['International Solar Alliance '] :\n",
            " Prime Minister Modi, together with the Prime Minister of France, launched the International Solar Alliance\n",
            "-> 2018 , ['Alliance '] :\n",
            " Sixty eight nations have become members of the Alliance so far\n",
            "-> 2018 , ['Alliance ', 'Alliance '] :\n",
            " In March, India and France chaired the founding conference of the Alliance, in which 120 countries participated\n"
          ]
        }
      ],
      "source": [
        "year = '2018'\n",
        "for i in range(len(df2)):\n",
        "    if df2.loc[i,'Year']==year:\n",
        "        if len(df2.loc[i,'Schemes2'])!=0:\n",
        "            print('->',df2.loc[i,'Year'],',',df2.loc[i,'Schemes2'],':')\n",
        "            print(df2.loc[i,'Sent'])"
      ]
    },
    {
      "cell_type": "markdown",
      "metadata": {
        "hidden": true,
        "id": "2ovZ-NXQh5XP"
      },
      "source": [
        "Out of 7000+ sentences, we were able to zero down to just 282 sentences that talked about initiatives. I looped over these outputs and below is how I would summarise the output:\n",
        "\n",
        "* There are a lot of different international initiatives or schemes that India has mentioned in its speeches. This goes to show that India has been an active member of the international community working towards building a better future by solving problems through these intiavtives.\n",
        "\n",
        "* Another point to highlight here is that the initiatives mentioned in the initial years have been more focused on those that concern the international coomunity. However, during recent times, especially after 2014, a lot of domestic initiatives have been mentioned in the speeches like 'Ayushman Bharat', 'Pradhan Mantri Jan Dhan Yojana', etc. This shows a shift in how the country percevies its role in the community. By mentioning a lot of domestic initiatives, India has started to put more of the domestic work in front of the international community to witness and, probably, even follow in their footsteps.\n",
        "\n",
        "Having said that, the results were definitely not perfect. There were instances when unwanted words were also got extracted with the initiative names. But the output derived by making our own rules was definitely better than the ones derived by using Spacy's pattern matcher. This goes to show the felixibility that one can achieve with making your own rules."
      ]
    },
    {
      "cell_type": "markdown",
      "metadata": {
        "heading_collapsed": true,
        "id": "7oJfB6_6h5XP"
      },
      "source": [
        "## Finding Patterns in the Speeches"
      ]
    },
    {
      "cell_type": "markdown",
      "metadata": {
        "hidden": true,
        "id": "wBHDVH24h5XP"
      },
      "source": [
        "So far, we extracted only that information that met our analytical eye when we skimmed over the data. But is there any other information hidden in our dataset? Surely there is and we are going to explore that by making our own rules using the dependency of the words, as we did in the previous section.\n",
        "\n",
        "But before that, I want to point out two things.\n",
        "\n",
        "First, when we are trying to understand the structure of the speech, we cannot look at the entire speech, that would take an eternity, and time is of the essence here. What we are going to do instead is look at random sentences from the dataset and then, based on their structure, try to come up with general rules to extract information.\n",
        "\n",
        "But how do we test the validity of these rules? That’s where my second point comes in! Not all of the rules that we come up with will yield satisfactory results. So, to sift out the irrelevant rules, we can look at the percentage of sentences that matched our rule out of all sentences. This will give us a fair idea about how well the rule is performing, and whether, in fact, there is any such general structure in the corpus!\n",
        "\n",
        "Another very important point that needs to be highlighted here is that any corpus is bound to contain long complex sentences. Working with these sentences to try and understand their structure will be a very difficult task. Therefore, we are going to look at smaller sentences. This will give us the opportunity to better understand their structure. So what’s the magic number? Let’s first look at how the sentence length varies in our corpus."
      ]
    },
    {
      "cell_type": "code",
      "execution_count": null,
      "metadata": {
        "hidden": true,
        "colab": {
          "base_uri": "https://localhost:8080/",
          "height": 276
        },
        "id": "4FKUGdYFh5XQ",
        "outputId": "136fa753-4152-41e5-b9e7-cfb378e5a63b"
      },
      "outputs": [
        {
          "output_type": "display_data",
          "data": {
            "text/plain": [
              "<Figure size 432x288 with 1 Axes>"
            ],
            "image/png": "[encoded data removed]"
          },
          "metadata": {
            "needs_background": "light"
          }
        }
      ],
      "source": [
        "plt.hist(df2['Len'],bins=20,range=[0,100])\n",
        "plt.xticks(np.arange(0,100,5));"
      ]
    },
    {
      "cell_type": "markdown",
      "metadata": {
        "hidden": true,
        "id": "7yjc-QLth5XQ"
      },
      "source": [
        "Looking at the histogram, we can see that most of the sentences range from 15-20 words. So I am going to work with sentences that have no more than 15 words."
      ]
    },
    {
      "cell_type": "code",
      "execution_count": null,
      "metadata": {
        "hidden": true,
        "id": "T5VIsSB8h5XQ"
      },
      "outputs": [],
      "source": [
        "row_list = []\n",
        "# df2 contains all sentences from all speeches\n",
        "for i in range(len(df2)):\n",
        "    sent = df2.loc[i,'Sent']\n",
        "\n",
        "    if (',' not in sent) and (len(sent.split()) <= 20):\n",
        "\n",
        "        year = df2.loc[i,'Year']\n",
        "        length = len(sent.split())\n",
        "\n",
        "        dict1 = {'Year':year,'Sent':sent,'Len':length}\n",
        "        row_list.append(dict1)\n",
        "\n",
        "# df with shorter sentences\n",
        "df3 = pd.DataFrame(columns=['Year','Sent',\"Len\"])\n",
        "df3 = pd.DataFrame(row_list)"
      ]
    },
    {
      "cell_type": "code",
      "execution_count": null,
      "metadata": {
        "hidden": true,
        "colab": {
          "base_uri": "https://localhost:8080/",
          "height": 206
        },
        "id": "kQPzUNNIh5XQ",
        "outputId": "781bdd3d-dde5-4cbf-f228-772f8c5d2b67"
      },
      "outputs": [
        {
          "output_type": "execute_result",
          "data": {
            "text/plain": [
              "   Year                                               Sent  Len\n",
              "0  2020  pags parody plus joe talks coronavirus and has...   16\n",
              "1  2020  coronavirus shows that racists have absolutely...   17\n",
              "2  2020  would expect front line staff to be more of ri...   16\n",
              "3  2020  the coronavirus is not only affecting the way ...   18\n",
              "4  2020  do you think the coronavirus is natural occurr...   20"
            ],
            "text/html": [
              "\n",
              "  <div id=\"df-4cf4595c-ef35-4f9c-bf66-88c2f46f1ca8\">\n",
              "    <div class=\"colab-df-container\">\n",
              "      <div>\n",
              "<style scoped>\n",
              "    .dataframe tbody tr th:only-of-type {\n",
              "        vertical-align: middle;\n",
              "    }\n",
              "\n",
              "    .dataframe tbody tr th {\n",
              "        vertical-align: top;\n",
              "    }\n",
              "\n",
              "    .dataframe thead th {\n",
              "        text-align: right;\n",
              "    }\n",
              "</style>\n",
              "<table border=\"1\" class=\"dataframe\">\n",
              "  <thead>\n",
              "    <tr style=\"text-align: right;\">\n",
              "      <th></th>\n",
              "      <th>Year</th>\n",
              "      <th>Sent</th>\n",
              "      <th>Len</th>\n",
              "    </tr>\n",
              "  </thead>\n",
              "  <tbody>\n",
              "    <tr>\n",
              "      <th>0</th>\n",
              "      <td>2020</td>\n",
              "      <td>pags parody plus joe talks coronavirus and has...</td>\n",
              "      <td>16</td>\n",
              "    </tr>\n",
              "    <tr>\n",
              "      <th>1</th>\n",
              "      <td>2020</td>\n",
              "      <td>coronavirus shows that racists have absolutely...</td>\n",
              "      <td>17</td>\n",
              "    </tr>\n",
              "    <tr>\n",
              "      <th>2</th>\n",
              "      <td>2020</td>\n",
              "      <td>would expect front line staff to be more of ri...</td>\n",
              "      <td>16</td>\n",
              "    </tr>\n",
              "    <tr>\n",
              "      <th>3</th>\n",
              "      <td>2020</td>\n",
              "      <td>the coronavirus is not only affecting the way ...</td>\n",
              "      <td>18</td>\n",
              "    </tr>\n",
              "    <tr>\n",
              "      <th>4</th>\n",
              "      <td>2020</td>\n",
              "      <td>do you think the coronavirus is natural occurr...</td>\n",
              "      <td>20</td>\n",
              "    </tr>\n",
              "  </tbody>\n",
              "</table>\n",
              "</div>\n",
              "      <button class=\"colab-df-convert\" onclick=\"convertToInteractive('df-4cf4595c-ef35-4f9c-bf66-88c2f46f1ca8')\"\n",
              "              title=\"Convert this dataframe to an interactive table.\"\n",
              "              style=\"display:none;\">\n",
              "        \n",
              "  <svg xmlns=\"http://www.w3.org/2000/svg\" height=\"24px\"viewBox=\"0 0 24 24\"\n",
              "       width=\"24px\">\n",
              "    <path d=\"M0 0h24v24H0V0z\" fill=\"none\"/>\n",
              "    <path d=\"M18.56 5.44l.94 2.06.94-2.06 2.06-.94-2.06-.94-.94-2.06-.94 2.06-2.06.94zm-11 1L8.5 8.5l.94-2.06 2.06-.94-2.06-.94L8.5 2.5l-.94 2.06-2.06.94zm10 10l.94 2.06.94-2.06 2.06-.94-2.06-.94-.94-2.06-.94 2.06-2.06.94z\"/><path d=\"M17.41 7.96l-1.37-1.37c-.4-.4-.92-.59-1.43-.59-.52 0-1.04.2-1.43.59L10.3 9.45l-7.72 7.72c-.78.78-.78 2.05 0 2.83L4 21.41c.39.39.9.59 1.41.59.51 0 1.02-.2 1.41-.59l7.78-7.78 2.81-2.81c.8-.78.8-2.07 0-2.86zM5.41 20L4 18.59l7.72-7.72 1.47 1.35L5.41 20z\"/>\n",
              "  </svg>\n",
              "      </button>\n",
              "      \n",
              "  <style>\n",
              "    .colab-df-container {\n",
              "      display:flex;\n",
              "      flex-wrap:wrap;\n",
              "      gap: 12px;\n",
              "    }\n",
              "\n",
              "    .colab-df-convert {\n",
              "      background-color: #E8F0FE;\n",
              "      border: none;\n",
              "      border-radius: 50%;\n",
              "      cursor: pointer;\n",
              "      display: none;\n",
              "      fill: #1967D2;\n",
              "      height: 32px;\n",
              "      padding: 0 0 0 0;\n",
              "      width: 32px;\n",
              "    }\n",
              "\n",
              "    .colab-df-convert:hover {\n",
              "      background-color: #E2EBFA;\n",
              "      box-shadow: 0px 1px 2px rgba(60, 64, 67, 0.3), 0px 1px 3px 1px rgba(60, 64, 67, 0.15);\n",
              "      fill: #174EA6;\n",
              "    }\n",
              "\n",
              "    [theme=dark] .colab-df-convert {\n",
              "      background-color: #3B4455;\n",
              "      fill: #D2E3FC;\n",
              "    }\n",
              "\n",
              "    [theme=dark] .colab-df-convert:hover {\n",
              "      background-color: #434B5C;\n",
              "      box-shadow: 0px 1px 3px 1px rgba(0, 0, 0, 0.15);\n",
              "      filter: drop-shadow(0px 1px 2px rgba(0, 0, 0, 0.3));\n",
              "      fill: #FFFFFF;\n",
              "    }\n",
              "  </style>\n",
              "\n",
              "      <script>\n",
              "        const buttonEl =\n",
              "          document.querySelector('#df-4cf4595c-ef35-4f9c-bf66-88c2f46f1ca8 button.colab-df-convert');\n",
              "        buttonEl.style.display =\n",
              "          google.colab.kernel.accessAllowed ? 'block' : 'none';\n",
              "\n",
              "        async function convertToInteractive(key) {\n",
              "          const element = document.querySelector('#df-4cf4595c-ef35-4f9c-bf66-88c2f46f1ca8');\n",
              "          const dataTable =\n",
              "            await google.colab.kernel.invokeFunction('convertToInteractive',\n",
              "                                                     [key], {});\n",
              "          if (!dataTable) return;\n",
              "\n",
              "          const docLinkHtml = 'Like what you see? Visit the ' +\n",
              "            '<a target=\"_blank\" href=https://colab.research.google.com/notebooks/data_table.ipynb>data table notebook</a>'\n",
              "            + ' to learn more about interactive tables.';\n",
              "          element.innerHTML = '';\n",
              "          dataTable['output_type'] = 'display_data';\n",
              "          await google.colab.output.renderOutput(dataTable, element);\n",
              "          const docLink = document.createElement('div');\n",
              "          docLink.innerHTML = docLinkHtml;\n",
              "          element.appendChild(docLink);\n",
              "        }\n",
              "      </script>\n",
              "    </div>\n",
              "  </div>\n",
              "  "
            ]
          },
          "metadata": {},
          "execution_count": 41
        }
      ],
      "source": [
        "df3.head()"
      ]
    },
    {
      "cell_type": "markdown",
      "metadata": {
        "hidden": true,
        "id": "DbaotocAh5XQ"
      },
      "source": [
        "Now, lets come up with a function that will generate random sentences from this dataframe."
      ]
    },
    {
      "cell_type": "code",
      "execution_count": null,
      "metadata": {
        "hidden": true,
        "id": "KsuqVfdeh5XQ"
      },
      "outputs": [],
      "source": [
        "from random import randint\n",
        "def rand_sent(df):\n",
        "\n",
        "    index = randint(0, len(df))\n",
        "    print('Index = ',index)\n",
        "    doc = nlp(df.loc[index,'Sent'][1:])\n",
        "    displacy.render(doc, style='dep',jupyter=True)\n",
        "\n",
        "    return index"
      ]
    },
    {
      "cell_type": "code",
      "execution_count": null,
      "metadata": {
        "hidden": true,
        "colab": {
          "base_uri": "https://localhost:8080/",
          "height": 564
        },
        "id": "OIuwHh7ph5XQ",
        "outputId": "0ee05fdf-0170-47a8-8c62-e963ed71f1c4"
      },
      "outputs": [
        {
          "output_type": "stream",
          "name": "stdout",
          "text": [
            "Index =  242692\n"
          ]
        },
        {
          "output_type": "display_data",
          "data": {
            "text/plain": [
              "<IPython.core.display.HTML object>"
            ],
            "text/html": [
              "<span class=\"tex2jax_ignore\"><svg xmlns=\"http://www.w3.org/2000/svg\" xmlns:xlink=\"http://www.w3.org/1999/xlink\" xml:lang=\"en\" id=\"68e32ec5e71443a2ae0c3e314ae354bc-0\" class=\"displacy\" width=\"3200\" height=\"487.0\" direction=\"ltr\" style=\"max-width: none; height: 487.0px; color: #000000; background: #ffffff; font-family: Arial; direction: ltr\">\n",
              "<text class=\"displacy-token\" fill=\"currentColor\" text-anchor=\"middle\" y=\"397.0\">\n",
              "    <tspan class=\"displacy-word\" fill=\"currentColor\" x=\"50\">hat</tspan>\n",
              "    <tspan class=\"displacy-tag\" dy=\"2em\" fill=\"currentColor\" x=\"50\">PROPN</tspan>\n",
              "</text>\n",
              "\n",
              "<text class=\"displacy-token\" fill=\"currentColor\" text-anchor=\"middle\" y=\"397.0\">\n",
              "    <tspan class=\"displacy-word\" fill=\"currentColor\" x=\"225\">sham</tspan>\n",
              "    <tspan class=\"displacy-tag\" dy=\"2em\" fill=\"currentColor\" x=\"225\">PROPN</tspan>\n",
              "</text>\n",
              "\n",
              "<text class=\"displacy-token\" fill=\"currentColor\" text-anchor=\"middle\" y=\"397.0\">\n",
              "    <tspan class=\"displacy-word\" fill=\"currentColor\" x=\"400\">they</tspan>\n",
              "    <tspan class=\"displacy-tag\" dy=\"2em\" fill=\"currentColor\" x=\"400\">PRON</tspan>\n",
              "</text>\n",
              "\n",
              "<text class=\"displacy-token\" fill=\"currentColor\" text-anchor=\"middle\" y=\"397.0\">\n",
              "    <tspan class=\"displacy-word\" fill=\"currentColor\" x=\"575\">both</tspan>\n",
              "    <tspan class=\"displacy-tag\" dy=\"2em\" fill=\"currentColor\" x=\"575\">PRON</tspan>\n",
              "</text>\n",
              "\n",
              "<text class=\"displacy-token\" fill=\"currentColor\" text-anchor=\"middle\" y=\"397.0\">\n",
              "    <tspan class=\"displacy-word\" fill=\"currentColor\" x=\"750\">are</tspan>\n",
              "    <tspan class=\"displacy-tag\" dy=\"2em\" fill=\"currentColor\" x=\"750\">AUX</tspan>\n",
              "</text>\n",
              "\n",
              "<text class=\"displacy-token\" fill=\"currentColor\" text-anchor=\"middle\" y=\"397.0\">\n",
              "    <tspan class=\"displacy-word\" fill=\"currentColor\" x=\"925\">they</tspan>\n",
              "    <tspan class=\"displacy-tag\" dy=\"2em\" fill=\"currentColor\" x=\"925\">PRON</tspan>\n",
              "</text>\n",
              "\n",
              "<text class=\"displacy-token\" fill=\"currentColor\" text-anchor=\"middle\" y=\"397.0\">\n",
              "    <tspan class=\"displacy-word\" fill=\"currentColor\" x=\"1100\">don</tspan>\n",
              "    <tspan class=\"displacy-tag\" dy=\"2em\" fill=\"currentColor\" x=\"1100\">PROPN</tspan>\n",
              "</text>\n",
              "\n",
              "<text class=\"displacy-token\" fill=\"currentColor\" text-anchor=\"middle\" y=\"397.0\">\n",
              "    <tspan class=\"displacy-word\" fill=\"currentColor\" x=\"1275\">care</tspan>\n",
              "    <tspan class=\"displacy-tag\" dy=\"2em\" fill=\"currentColor\" x=\"1275\">NOUN</tspan>\n",
              "</text>\n",
              "\n",
              "<text class=\"displacy-token\" fill=\"currentColor\" text-anchor=\"middle\" y=\"397.0\">\n",
              "    <tspan class=\"displacy-word\" fill=\"currentColor\" x=\"1450\">stop</tspan>\n",
              "    <tspan class=\"displacy-tag\" dy=\"2em\" fill=\"currentColor\" x=\"1450\">VERB</tspan>\n",
              "</text>\n",
              "\n",
              "<text class=\"displacy-token\" fill=\"currentColor\" text-anchor=\"middle\" y=\"397.0\">\n",
              "    <tspan class=\"displacy-word\" fill=\"currentColor\" x=\"1625\">voting</tspan>\n",
              "    <tspan class=\"displacy-tag\" dy=\"2em\" fill=\"currentColor\" x=\"1625\">VERB</tspan>\n",
              "</text>\n",
              "\n",
              "<text class=\"displacy-token\" fill=\"currentColor\" text-anchor=\"middle\" y=\"397.0\">\n",
              "    <tspan class=\"displacy-word\" fill=\"currentColor\" x=\"1800\">for</tspan>\n",
              "    <tspan class=\"displacy-tag\" dy=\"2em\" fill=\"currentColor\" x=\"1800\">ADP</tspan>\n",
              "</text>\n",
              "\n",
              "<text class=\"displacy-token\" fill=\"currentColor\" text-anchor=\"middle\" y=\"397.0\">\n",
              "    <tspan class=\"displacy-word\" fill=\"currentColor\" x=\"1975\">kooks</tspan>\n",
              "    <tspan class=\"displacy-tag\" dy=\"2em\" fill=\"currentColor\" x=\"1975\">NOUN</tspan>\n",
              "</text>\n",
              "\n",
              "<text class=\"displacy-token\" fill=\"currentColor\" text-anchor=\"middle\" y=\"397.0\">\n",
              "    <tspan class=\"displacy-word\" fill=\"currentColor\" x=\"2150\">who</tspan>\n",
              "    <tspan class=\"displacy-tag\" dy=\"2em\" fill=\"currentColor\" x=\"2150\">PRON</tspan>\n",
              "</text>\n",
              "\n",
              "<text class=\"displacy-token\" fill=\"currentColor\" text-anchor=\"middle\" y=\"397.0\">\n",
              "    <tspan class=\"displacy-word\" fill=\"currentColor\" x=\"2325\">spread</tspan>\n",
              "    <tspan class=\"displacy-tag\" dy=\"2em\" fill=\"currentColor\" x=\"2325\">VERB</tspan>\n",
              "</text>\n",
              "\n",
              "<text class=\"displacy-token\" fill=\"currentColor\" text-anchor=\"middle\" y=\"397.0\">\n",
              "    <tspan class=\"displacy-word\" fill=\"currentColor\" x=\"2500\">misinformation</tspan>\n",
              "    <tspan class=\"displacy-tag\" dy=\"2em\" fill=\"currentColor\" x=\"2500\">NOUN</tspan>\n",
              "</text>\n",
              "\n",
              "<text class=\"displacy-token\" fill=\"currentColor\" text-anchor=\"middle\" y=\"397.0\">\n",
              "    <tspan class=\"displacy-word\" fill=\"currentColor\" x=\"2675\">and</tspan>\n",
              "    <tspan class=\"displacy-tag\" dy=\"2em\" fill=\"currentColor\" x=\"2675\">CCONJ</tspan>\n",
              "</text>\n",
              "\n",
              "<text class=\"displacy-token\" fill=\"currentColor\" text-anchor=\"middle\" y=\"397.0\">\n",
              "    <tspan class=\"displacy-word\" fill=\"currentColor\" x=\"2850\">coronavirus</tspan>\n",
              "    <tspan class=\"displacy-tag\" dy=\"2em\" fill=\"currentColor\" x=\"2850\">NOUN</tspan>\n",
              "</text>\n",
              "\n",
              "<text class=\"displacy-token\" fill=\"currentColor\" text-anchor=\"middle\" y=\"397.0\">\n",
              "    <tspan class=\"displacy-word\" fill=\"currentColor\" x=\"3025\">seriou</tspan>\n",
              "    <tspan class=\"displacy-tag\" dy=\"2em\" fill=\"currentColor\" x=\"3025\">NOUN</tspan>\n",
              "</text>\n",
              "\n",
              "<g class=\"displacy-arrow\">\n",
              "    <path class=\"displacy-arc\" id=\"arrow-68e32ec5e71443a2ae0c3e314ae354bc-0-0\" stroke-width=\"2px\" d=\"M70,352.0 C70,264.5 210.0,264.5 210.0,352.0\" fill=\"none\" stroke=\"currentColor\"/>\n",
              "    <text dy=\"1.25em\" style=\"font-size: 0.8em; letter-spacing: 1px\">\n",
              "        <textPath xlink:href=\"#arrow-68e32ec5e71443a2ae0c3e314ae354bc-0-0\" class=\"displacy-label\" startOffset=\"50%\" side=\"left\" fill=\"currentColor\" text-anchor=\"middle\">compound</textPath>\n",
              "    </text>\n",
              "    <path class=\"displacy-arrowhead\" d=\"M70,354.0 L62,342.0 78,342.0\" fill=\"currentColor\"/>\n",
              "</g>\n",
              "\n",
              "<g class=\"displacy-arrow\">\n",
              "    <path class=\"displacy-arc\" id=\"arrow-68e32ec5e71443a2ae0c3e314ae354bc-0-1\" stroke-width=\"2px\" d=\"M245,352.0 C245,89.5 745.0,89.5 745.0,352.0\" fill=\"none\" stroke=\"currentColor\"/>\n",
              "    <text dy=\"1.25em\" style=\"font-size: 0.8em; letter-spacing: 1px\">\n",
              "        <textPath xlink:href=\"#arrow-68e32ec5e71443a2ae0c3e314ae354bc-0-1\" class=\"displacy-label\" startOffset=\"50%\" side=\"left\" fill=\"currentColor\" text-anchor=\"middle\">npadvmod</textPath>\n",
              "    </text>\n",
              "    <path class=\"displacy-arrowhead\" d=\"M245,354.0 L237,342.0 253,342.0\" fill=\"currentColor\"/>\n",
              "</g>\n",
              "\n",
              "<g class=\"displacy-arrow\">\n",
              "    <path class=\"displacy-arc\" id=\"arrow-68e32ec5e71443a2ae0c3e314ae354bc-0-2\" stroke-width=\"2px\" d=\"M420,352.0 C420,177.0 740.0,177.0 740.0,352.0\" fill=\"none\" stroke=\"currentColor\"/>\n",
              "    <text dy=\"1.25em\" style=\"font-size: 0.8em; letter-spacing: 1px\">\n",
              "        <textPath xlink:href=\"#arrow-68e32ec5e71443a2ae0c3e314ae354bc-0-2\" class=\"displacy-label\" startOffset=\"50%\" side=\"left\" fill=\"currentColor\" text-anchor=\"middle\">nsubj</textPath>\n",
              "    </text>\n",
              "    <path class=\"displacy-arrowhead\" d=\"M420,354.0 L412,342.0 428,342.0\" fill=\"currentColor\"/>\n",
              "</g>\n",
              "\n",
              "<g class=\"displacy-arrow\">\n",
              "    <path class=\"displacy-arc\" id=\"arrow-68e32ec5e71443a2ae0c3e314ae354bc-0-3\" stroke-width=\"2px\" d=\"M420,352.0 C420,264.5 560.0,264.5 560.0,352.0\" fill=\"none\" stroke=\"currentColor\"/>\n",
              "    <text dy=\"1.25em\" style=\"font-size: 0.8em; letter-spacing: 1px\">\n",
              "        <textPath xlink:href=\"#arrow-68e32ec5e71443a2ae0c3e314ae354bc-0-3\" class=\"displacy-label\" startOffset=\"50%\" side=\"left\" fill=\"currentColor\" text-anchor=\"middle\">appos</textPath>\n",
              "    </text>\n",
              "    <path class=\"displacy-arrowhead\" d=\"M560.0,354.0 L568.0,342.0 552.0,342.0\" fill=\"currentColor\"/>\n",
              "</g>\n",
              "\n",
              "<g class=\"displacy-arrow\">\n",
              "    <path class=\"displacy-arc\" id=\"arrow-68e32ec5e71443a2ae0c3e314ae354bc-0-4\" stroke-width=\"2px\" d=\"M770,352.0 C770,264.5 910.0,264.5 910.0,352.0\" fill=\"none\" stroke=\"currentColor\"/>\n",
              "    <text dy=\"1.25em\" style=\"font-size: 0.8em; letter-spacing: 1px\">\n",
              "        <textPath xlink:href=\"#arrow-68e32ec5e71443a2ae0c3e314ae354bc-0-4\" class=\"displacy-label\" startOffset=\"50%\" side=\"left\" fill=\"currentColor\" text-anchor=\"middle\">nsubj</textPath>\n",
              "    </text>\n",
              "    <path class=\"displacy-arrowhead\" d=\"M910.0,354.0 L918.0,342.0 902.0,342.0\" fill=\"currentColor\"/>\n",
              "</g>\n",
              "\n",
              "<g class=\"displacy-arrow\">\n",
              "    <path class=\"displacy-arc\" id=\"arrow-68e32ec5e71443a2ae0c3e314ae354bc-0-5\" stroke-width=\"2px\" d=\"M1120,352.0 C1120,264.5 1260.0,264.5 1260.0,352.0\" fill=\"none\" stroke=\"currentColor\"/>\n",
              "    <text dy=\"1.25em\" style=\"font-size: 0.8em; letter-spacing: 1px\">\n",
              "        <textPath xlink:href=\"#arrow-68e32ec5e71443a2ae0c3e314ae354bc-0-5\" class=\"displacy-label\" startOffset=\"50%\" side=\"left\" fill=\"currentColor\" text-anchor=\"middle\">compound</textPath>\n",
              "    </text>\n",
              "    <path class=\"displacy-arrowhead\" d=\"M1120,354.0 L1112,342.0 1128,342.0\" fill=\"currentColor\"/>\n",
              "</g>\n",
              "\n",
              "<g class=\"displacy-arrow\">\n",
              "    <path class=\"displacy-arc\" id=\"arrow-68e32ec5e71443a2ae0c3e314ae354bc-0-6\" stroke-width=\"2px\" d=\"M1295,352.0 C1295,264.5 1435.0,264.5 1435.0,352.0\" fill=\"none\" stroke=\"currentColor\"/>\n",
              "    <text dy=\"1.25em\" style=\"font-size: 0.8em; letter-spacing: 1px\">\n",
              "        <textPath xlink:href=\"#arrow-68e32ec5e71443a2ae0c3e314ae354bc-0-6\" class=\"displacy-label\" startOffset=\"50%\" side=\"left\" fill=\"currentColor\" text-anchor=\"middle\">nsubj</textPath>\n",
              "    </text>\n",
              "    <path class=\"displacy-arrowhead\" d=\"M1295,354.0 L1287,342.0 1303,342.0\" fill=\"currentColor\"/>\n",
              "</g>\n",
              "\n",
              "<g class=\"displacy-arrow\">\n",
              "    <path class=\"displacy-arc\" id=\"arrow-68e32ec5e71443a2ae0c3e314ae354bc-0-7\" stroke-width=\"2px\" d=\"M770,352.0 C770,177.0 1440.0,177.0 1440.0,352.0\" fill=\"none\" stroke=\"currentColor\"/>\n",
              "    <text dy=\"1.25em\" style=\"font-size: 0.8em; letter-spacing: 1px\">\n",
              "        <textPath xlink:href=\"#arrow-68e32ec5e71443a2ae0c3e314ae354bc-0-7\" class=\"displacy-label\" startOffset=\"50%\" side=\"left\" fill=\"currentColor\" text-anchor=\"middle\">ccomp</textPath>\n",
              "    </text>\n",
              "    <path class=\"displacy-arrowhead\" d=\"M1440.0,354.0 L1448.0,342.0 1432.0,342.0\" fill=\"currentColor\"/>\n",
              "</g>\n",
              "\n",
              "<g class=\"displacy-arrow\">\n",
              "    <path class=\"displacy-arc\" id=\"arrow-68e32ec5e71443a2ae0c3e314ae354bc-0-8\" stroke-width=\"2px\" d=\"M1470,352.0 C1470,264.5 1610.0,264.5 1610.0,352.0\" fill=\"none\" stroke=\"currentColor\"/>\n",
              "    <text dy=\"1.25em\" style=\"font-size: 0.8em; letter-spacing: 1px\">\n",
              "        <textPath xlink:href=\"#arrow-68e32ec5e71443a2ae0c3e314ae354bc-0-8\" class=\"displacy-label\" startOffset=\"50%\" side=\"left\" fill=\"currentColor\" text-anchor=\"middle\">xcomp</textPath>\n",
              "    </text>\n",
              "    <path class=\"displacy-arrowhead\" d=\"M1610.0,354.0 L1618.0,342.0 1602.0,342.0\" fill=\"currentColor\"/>\n",
              "</g>\n",
              "\n",
              "<g class=\"displacy-arrow\">\n",
              "    <path class=\"displacy-arc\" id=\"arrow-68e32ec5e71443a2ae0c3e314ae354bc-0-9\" stroke-width=\"2px\" d=\"M1645,352.0 C1645,264.5 1785.0,264.5 1785.0,352.0\" fill=\"none\" stroke=\"currentColor\"/>\n",
              "    <text dy=\"1.25em\" style=\"font-size: 0.8em; letter-spacing: 1px\">\n",
              "        <textPath xlink:href=\"#arrow-68e32ec5e71443a2ae0c3e314ae354bc-0-9\" class=\"displacy-label\" startOffset=\"50%\" side=\"left\" fill=\"currentColor\" text-anchor=\"middle\">prep</textPath>\n",
              "    </text>\n",
              "    <path class=\"displacy-arrowhead\" d=\"M1785.0,354.0 L1793.0,342.0 1777.0,342.0\" fill=\"currentColor\"/>\n",
              "</g>\n",
              "\n",
              "<g class=\"displacy-arrow\">\n",
              "    <path class=\"displacy-arc\" id=\"arrow-68e32ec5e71443a2ae0c3e314ae354bc-0-10\" stroke-width=\"2px\" d=\"M1820,352.0 C1820,264.5 1960.0,264.5 1960.0,352.0\" fill=\"none\" stroke=\"currentColor\"/>\n",
              "    <text dy=\"1.25em\" style=\"font-size: 0.8em; letter-spacing: 1px\">\n",
              "        <textPath xlink:href=\"#arrow-68e32ec5e71443a2ae0c3e314ae354bc-0-10\" class=\"displacy-label\" startOffset=\"50%\" side=\"left\" fill=\"currentColor\" text-anchor=\"middle\">pobj</textPath>\n",
              "    </text>\n",
              "    <path class=\"displacy-arrowhead\" d=\"M1960.0,354.0 L1968.0,342.0 1952.0,342.0\" fill=\"currentColor\"/>\n",
              "</g>\n",
              "\n",
              "<g class=\"displacy-arrow\">\n",
              "    <path class=\"displacy-arc\" id=\"arrow-68e32ec5e71443a2ae0c3e314ae354bc-0-11\" stroke-width=\"2px\" d=\"M2170,352.0 C2170,264.5 2310.0,264.5 2310.0,352.0\" fill=\"none\" stroke=\"currentColor\"/>\n",
              "    <text dy=\"1.25em\" style=\"font-size: 0.8em; letter-spacing: 1px\">\n",
              "        <textPath xlink:href=\"#arrow-68e32ec5e71443a2ae0c3e314ae354bc-0-11\" class=\"displacy-label\" startOffset=\"50%\" side=\"left\" fill=\"currentColor\" text-anchor=\"middle\">nsubj</textPath>\n",
              "    </text>\n",
              "    <path class=\"displacy-arrowhead\" d=\"M2170,354.0 L2162,342.0 2178,342.0\" fill=\"currentColor\"/>\n",
              "</g>\n",
              "\n",
              "<g class=\"displacy-arrow\">\n",
              "    <path class=\"displacy-arc\" id=\"arrow-68e32ec5e71443a2ae0c3e314ae354bc-0-12\" stroke-width=\"2px\" d=\"M1995,352.0 C1995,177.0 2315.0,177.0 2315.0,352.0\" fill=\"none\" stroke=\"currentColor\"/>\n",
              "    <text dy=\"1.25em\" style=\"font-size: 0.8em; letter-spacing: 1px\">\n",
              "        <textPath xlink:href=\"#arrow-68e32ec5e71443a2ae0c3e314ae354bc-0-12\" class=\"displacy-label\" startOffset=\"50%\" side=\"left\" fill=\"currentColor\" text-anchor=\"middle\">relcl</textPath>\n",
              "    </text>\n",
              "    <path class=\"displacy-arrowhead\" d=\"M2315.0,354.0 L2323.0,342.0 2307.0,342.0\" fill=\"currentColor\"/>\n",
              "</g>\n",
              "\n",
              "<g class=\"displacy-arrow\">\n",
              "    <path class=\"displacy-arc\" id=\"arrow-68e32ec5e71443a2ae0c3e314ae354bc-0-13\" stroke-width=\"2px\" d=\"M2520,352.0 C2520,89.5 3020.0,89.5 3020.0,352.0\" fill=\"none\" stroke=\"currentColor\"/>\n",
              "    <text dy=\"1.25em\" style=\"font-size: 0.8em; letter-spacing: 1px\">\n",
              "        <textPath xlink:href=\"#arrow-68e32ec5e71443a2ae0c3e314ae354bc-0-13\" class=\"displacy-label\" startOffset=\"50%\" side=\"left\" fill=\"currentColor\" text-anchor=\"middle\">nmod</textPath>\n",
              "    </text>\n",
              "    <path class=\"displacy-arrowhead\" d=\"M2520,354.0 L2512,342.0 2528,342.0\" fill=\"currentColor\"/>\n",
              "</g>\n",
              "\n",
              "<g class=\"displacy-arrow\">\n",
              "    <path class=\"displacy-arc\" id=\"arrow-68e32ec5e71443a2ae0c3e314ae354bc-0-14\" stroke-width=\"2px\" d=\"M2520,352.0 C2520,264.5 2660.0,264.5 2660.0,352.0\" fill=\"none\" stroke=\"currentColor\"/>\n",
              "    <text dy=\"1.25em\" style=\"font-size: 0.8em; letter-spacing: 1px\">\n",
              "        <textPath xlink:href=\"#arrow-68e32ec5e71443a2ae0c3e314ae354bc-0-14\" class=\"displacy-label\" startOffset=\"50%\" side=\"left\" fill=\"currentColor\" text-anchor=\"middle\">cc</textPath>\n",
              "    </text>\n",
              "    <path class=\"displacy-arrowhead\" d=\"M2660.0,354.0 L2668.0,342.0 2652.0,342.0\" fill=\"currentColor\"/>\n",
              "</g>\n",
              "\n",
              "<g class=\"displacy-arrow\">\n",
              "    <path class=\"displacy-arc\" id=\"arrow-68e32ec5e71443a2ae0c3e314ae354bc-0-15\" stroke-width=\"2px\" d=\"M2520,352.0 C2520,177.0 2840.0,177.0 2840.0,352.0\" fill=\"none\" stroke=\"currentColor\"/>\n",
              "    <text dy=\"1.25em\" style=\"font-size: 0.8em; letter-spacing: 1px\">\n",
              "        <textPath xlink:href=\"#arrow-68e32ec5e71443a2ae0c3e314ae354bc-0-15\" class=\"displacy-label\" startOffset=\"50%\" side=\"left\" fill=\"currentColor\" text-anchor=\"middle\">conj</textPath>\n",
              "    </text>\n",
              "    <path class=\"displacy-arrowhead\" d=\"M2840.0,354.0 L2848.0,342.0 2832.0,342.0\" fill=\"currentColor\"/>\n",
              "</g>\n",
              "\n",
              "<g class=\"displacy-arrow\">\n",
              "    <path class=\"displacy-arc\" id=\"arrow-68e32ec5e71443a2ae0c3e314ae354bc-0-16\" stroke-width=\"2px\" d=\"M2345,352.0 C2345,2.0 3025.0,2.0 3025.0,352.0\" fill=\"none\" stroke=\"currentColor\"/>\n",
              "    <text dy=\"1.25em\" style=\"font-size: 0.8em; letter-spacing: 1px\">\n",
              "        <textPath xlink:href=\"#arrow-68e32ec5e71443a2ae0c3e314ae354bc-0-16\" class=\"displacy-label\" startOffset=\"50%\" side=\"left\" fill=\"currentColor\" text-anchor=\"middle\">dobj</textPath>\n",
              "    </text>\n",
              "    <path class=\"displacy-arrowhead\" d=\"M3025.0,354.0 L3033.0,342.0 3017.0,342.0\" fill=\"currentColor\"/>\n",
              "</g>\n",
              "</svg></span>"
            ]
          },
          "metadata": {}
        },
        {
          "output_type": "execute_result",
          "data": {
            "text/plain": [
              "242692"
            ]
          },
          "metadata": {},
          "execution_count": 43
        }
      ],
      "source": [
        "rand_sent(df3)"
      ]
    },
    {
      "cell_type": "markdown",
      "metadata": {
        "hidden": true,
        "id": "1dThr1Rih5XQ"
      },
      "source": [
        "Finally, let's make a fucntion to evaluate the result of our rule."
      ]
    },
    {
      "cell_type": "code",
      "execution_count": null,
      "metadata": {
        "hidden": true,
        "id": "mcmhhEkkh5XQ"
      },
      "outputs": [],
      "source": [
        "# function to check output percentage for a rule\n",
        "def output_per(df,out_col):\n",
        "\n",
        "    result = 0\n",
        "\n",
        "    for out in df[out_col]:\n",
        "        if len(out)!=0:\n",
        "            result+=1\n",
        "\n",
        "    per = result/len(df)\n",
        "    per *= 100\n",
        "\n",
        "    return per"
      ]
    },
    {
      "cell_type": "markdown",
      "metadata": {
        "hidden": true,
        "id": "Y5visBTRh5XQ"
      },
      "source": [
        "Right, let's get down to the business of making some rules!"
      ]
    },
    {
      "cell_type": "markdown",
      "metadata": {
        "heading_collapsed": true,
        "id": "NkaLMfcoh5XQ"
      },
      "source": [
        "## Information Extraction #3 – Rule on Noun-Verb-Noun Phrases"
      ]
    },
    {
      "cell_type": "markdown",
      "metadata": {
        "hidden": true,
        "id": "H-FsWuYyh5XQ"
      },
      "source": [
        "When you look at a sentence, it generally contains a **subject(noun), action(verb) and an object(noun)**. Rest of the words are just there to give us additional information about the entities. Therefore, we can leverage this basic structure to extract the main bits of information from the sentence. Take for example the following sentence:"
      ]
    },
    {
      "cell_type": "code",
      "execution_count": null,
      "metadata": {
        "hidden": true,
        "id": "wYy5K6R_h5XQ",
        "outputId": "7f329ef9-6f21-467c-e5d1-c196e7196549"
      },
      "outputs": [
        {
          "data": {
            "text/html": [
              "<span class=\"tex2jax_ignore\"><svg xmlns=\"http://www.w3.org/2000/svg\" xmlns:xlink=\"http://www.w3.org/1999/xlink\" xml:lang=\"en\" id=\"b1d0ee435ee64460a63ba6217fe1a7f4-0\" class=\"displacy\" width=\"2150\" height=\"399.5\" direction=\"ltr\" style=\"max-width: none; height: 399.5px; color: #000000; background: #ffffff; font-family: Arial; direction: ltr\">\n",
              "<text class=\"displacy-token\" fill=\"currentColor\" text-anchor=\"middle\" y=\"309.5\">\n",
              "    <tspan class=\"displacy-word\" fill=\"currentColor\" x=\"50\">The</tspan>\n",
              "    <tspan class=\"displacy-tag\" dy=\"2em\" fill=\"currentColor\" x=\"50\">DET</tspan>\n",
              "</text>\n",
              "\n",
              "<text class=\"displacy-token\" fill=\"currentColor\" text-anchor=\"middle\" y=\"309.5\">\n",
              "    <tspan class=\"displacy-word\" fill=\"currentColor\" x=\"225\">developing</tspan>\n",
              "    <tspan class=\"displacy-tag\" dy=\"2em\" fill=\"currentColor\" x=\"225\">VERB</tspan>\n",
              "</text>\n",
              "\n",
              "<text class=\"displacy-token\" fill=\"currentColor\" text-anchor=\"middle\" y=\"309.5\">\n",
              "    <tspan class=\"displacy-word\" fill=\"currentColor\" x=\"400\">countries</tspan>\n",
              "    <tspan class=\"displacy-tag\" dy=\"2em\" fill=\"currentColor\" x=\"400\">NOUN</tspan>\n",
              "</text>\n",
              "\n",
              "<text class=\"displacy-token\" fill=\"currentColor\" text-anchor=\"middle\" y=\"309.5\">\n",
              "    <tspan class=\"displacy-word\" fill=\"currentColor\" x=\"575\">particularly</tspan>\n",
              "    <tspan class=\"displacy-tag\" dy=\"2em\" fill=\"currentColor\" x=\"575\">ADV</tspan>\n",
              "</text>\n",
              "\n",
              "<text class=\"displacy-token\" fill=\"currentColor\" text-anchor=\"middle\" y=\"309.5\">\n",
              "    <tspan class=\"displacy-word\" fill=\"currentColor\" x=\"750\">face</tspan>\n",
              "    <tspan class=\"displacy-tag\" dy=\"2em\" fill=\"currentColor\" x=\"750\">VERB</tspan>\n",
              "</text>\n",
              "\n",
              "<text class=\"displacy-token\" fill=\"currentColor\" text-anchor=\"middle\" y=\"309.5\">\n",
              "    <tspan class=\"displacy-word\" fill=\"currentColor\" x=\"925\">innumerable</tspan>\n",
              "    <tspan class=\"displacy-tag\" dy=\"2em\" fill=\"currentColor\" x=\"925\">ADJ</tspan>\n",
              "</text>\n",
              "\n",
              "<text class=\"displacy-token\" fill=\"currentColor\" text-anchor=\"middle\" y=\"309.5\">\n",
              "    <tspan class=\"displacy-word\" fill=\"currentColor\" x=\"1100\">threats</tspan>\n",
              "    <tspan class=\"displacy-tag\" dy=\"2em\" fill=\"currentColor\" x=\"1100\">NOUN</tspan>\n",
              "</text>\n",
              "\n",
              "<text class=\"displacy-token\" fill=\"currentColor\" text-anchor=\"middle\" y=\"309.5\">\n",
              "    <tspan class=\"displacy-word\" fill=\"currentColor\" x=\"1275\">to</tspan>\n",
              "    <tspan class=\"displacy-tag\" dy=\"2em\" fill=\"currentColor\" x=\"1275\">ADP</tspan>\n",
              "</text>\n",
              "\n",
              "<text class=\"displacy-token\" fill=\"currentColor\" text-anchor=\"middle\" y=\"309.5\">\n",
              "    <tspan class=\"displacy-word\" fill=\"currentColor\" x=\"1450\">their</tspan>\n",
              "    <tspan class=\"displacy-tag\" dy=\"2em\" fill=\"currentColor\" x=\"1450\">DET</tspan>\n",
              "</text>\n",
              "\n",
              "<text class=\"displacy-token\" fill=\"currentColor\" text-anchor=\"middle\" y=\"309.5\">\n",
              "    <tspan class=\"displacy-word\" fill=\"currentColor\" x=\"1625\">independence</tspan>\n",
              "    <tspan class=\"displacy-tag\" dy=\"2em\" fill=\"currentColor\" x=\"1625\">NOUN</tspan>\n",
              "</text>\n",
              "\n",
              "<text class=\"displacy-token\" fill=\"currentColor\" text-anchor=\"middle\" y=\"309.5\">\n",
              "    <tspan class=\"displacy-word\" fill=\"currentColor\" x=\"1800\">and</tspan>\n",
              "    <tspan class=\"displacy-tag\" dy=\"2em\" fill=\"currentColor\" x=\"1800\">CCONJ</tspan>\n",
              "</text>\n",
              "\n",
              "<text class=\"displacy-token\" fill=\"currentColor\" text-anchor=\"middle\" y=\"309.5\">\n",
              "    <tspan class=\"displacy-word\" fill=\"currentColor\" x=\"1975\">identity</tspan>\n",
              "    <tspan class=\"displacy-tag\" dy=\"2em\" fill=\"currentColor\" x=\"1975\">NOUN</tspan>\n",
              "</text>\n",
              "\n",
              "<g class=\"displacy-arrow\">\n",
              "    <path class=\"displacy-arc\" id=\"arrow-b1d0ee435ee64460a63ba6217fe1a7f4-0-0\" stroke-width=\"2px\" d=\"M70,264.5 C70,89.5 395.0,89.5 395.0,264.5\" fill=\"none\" stroke=\"currentColor\"/>\n",
              "    <text dy=\"1.25em\" style=\"font-size: 0.8em; letter-spacing: 1px\">\n",
              "        <textPath xlink:href=\"#arrow-b1d0ee435ee64460a63ba6217fe1a7f4-0-0\" class=\"displacy-label\" startOffset=\"50%\" side=\"left\" fill=\"currentColor\" text-anchor=\"middle\">det</textPath>\n",
              "    </text>\n",
              "    <path class=\"displacy-arrowhead\" d=\"M70,266.5 L62,254.5 78,254.5\" fill=\"currentColor\"/>\n",
              "</g>\n",
              "\n",
              "<g class=\"displacy-arrow\">\n",
              "    <path class=\"displacy-arc\" id=\"arrow-b1d0ee435ee64460a63ba6217fe1a7f4-0-1\" stroke-width=\"2px\" d=\"M245,264.5 C245,177.0 390.0,177.0 390.0,264.5\" fill=\"none\" stroke=\"currentColor\"/>\n",
              "    <text dy=\"1.25em\" style=\"font-size: 0.8em; letter-spacing: 1px\">\n",
              "        <textPath xlink:href=\"#arrow-b1d0ee435ee64460a63ba6217fe1a7f4-0-1\" class=\"displacy-label\" startOffset=\"50%\" side=\"left\" fill=\"currentColor\" text-anchor=\"middle\">amod</textPath>\n",
              "    </text>\n",
              "    <path class=\"displacy-arrowhead\" d=\"M245,266.5 L237,254.5 253,254.5\" fill=\"currentColor\"/>\n",
              "</g>\n",
              "\n",
              "<g class=\"displacy-arrow\">\n",
              "    <path class=\"displacy-arc\" id=\"arrow-b1d0ee435ee64460a63ba6217fe1a7f4-0-2\" stroke-width=\"2px\" d=\"M420,264.5 C420,89.5 745.0,89.5 745.0,264.5\" fill=\"none\" stroke=\"currentColor\"/>\n",
              "    <text dy=\"1.25em\" style=\"font-size: 0.8em; letter-spacing: 1px\">\n",
              "        <textPath xlink:href=\"#arrow-b1d0ee435ee64460a63ba6217fe1a7f4-0-2\" class=\"displacy-label\" startOffset=\"50%\" side=\"left\" fill=\"currentColor\" text-anchor=\"middle\">nsubj</textPath>\n",
              "    </text>\n",
              "    <path class=\"displacy-arrowhead\" d=\"M420,266.5 L412,254.5 428,254.5\" fill=\"currentColor\"/>\n",
              "</g>\n",
              "\n",
              "<g class=\"displacy-arrow\">\n",
              "    <path class=\"displacy-arc\" id=\"arrow-b1d0ee435ee64460a63ba6217fe1a7f4-0-3\" stroke-width=\"2px\" d=\"M595,264.5 C595,177.0 740.0,177.0 740.0,264.5\" fill=\"none\" stroke=\"currentColor\"/>\n",
              "    <text dy=\"1.25em\" style=\"font-size: 0.8em; letter-spacing: 1px\">\n",
              "        <textPath xlink:href=\"#arrow-b1d0ee435ee64460a63ba6217fe1a7f4-0-3\" class=\"displacy-label\" startOffset=\"50%\" side=\"left\" fill=\"currentColor\" text-anchor=\"middle\">advmod</textPath>\n",
              "    </text>\n",
              "    <path class=\"displacy-arrowhead\" d=\"M595,266.5 L587,254.5 603,254.5\" fill=\"currentColor\"/>\n",
              "</g>\n",
              "\n",
              "<g class=\"displacy-arrow\">\n",
              "    <path class=\"displacy-arc\" id=\"arrow-b1d0ee435ee64460a63ba6217fe1a7f4-0-4\" stroke-width=\"2px\" d=\"M945,264.5 C945,177.0 1090.0,177.0 1090.0,264.5\" fill=\"none\" stroke=\"currentColor\"/>\n",
              "    <text dy=\"1.25em\" style=\"font-size: 0.8em; letter-spacing: 1px\">\n",
              "        <textPath xlink:href=\"#arrow-b1d0ee435ee64460a63ba6217fe1a7f4-0-4\" class=\"displacy-label\" startOffset=\"50%\" side=\"left\" fill=\"currentColor\" text-anchor=\"middle\">amod</textPath>\n",
              "    </text>\n",
              "    <path class=\"displacy-arrowhead\" d=\"M945,266.5 L937,254.5 953,254.5\" fill=\"currentColor\"/>\n",
              "</g>\n",
              "\n",
              "<g class=\"displacy-arrow\">\n",
              "    <path class=\"displacy-arc\" id=\"arrow-b1d0ee435ee64460a63ba6217fe1a7f4-0-5\" stroke-width=\"2px\" d=\"M770,264.5 C770,89.5 1095.0,89.5 1095.0,264.5\" fill=\"none\" stroke=\"currentColor\"/>\n",
              "    <text dy=\"1.25em\" style=\"font-size: 0.8em; letter-spacing: 1px\">\n",
              "        <textPath xlink:href=\"#arrow-b1d0ee435ee64460a63ba6217fe1a7f4-0-5\" class=\"displacy-label\" startOffset=\"50%\" side=\"left\" fill=\"currentColor\" text-anchor=\"middle\">dobj</textPath>\n",
              "    </text>\n",
              "    <path class=\"displacy-arrowhead\" d=\"M1095.0,266.5 L1103.0,254.5 1087.0,254.5\" fill=\"currentColor\"/>\n",
              "</g>\n",
              "\n",
              "<g class=\"displacy-arrow\">\n",
              "    <path class=\"displacy-arc\" id=\"arrow-b1d0ee435ee64460a63ba6217fe1a7f4-0-6\" stroke-width=\"2px\" d=\"M770,264.5 C770,2.0 1275.0,2.0 1275.0,264.5\" fill=\"none\" stroke=\"currentColor\"/>\n",
              "    <text dy=\"1.25em\" style=\"font-size: 0.8em; letter-spacing: 1px\">\n",
              "        <textPath xlink:href=\"#arrow-b1d0ee435ee64460a63ba6217fe1a7f4-0-6\" class=\"displacy-label\" startOffset=\"50%\" side=\"left\" fill=\"currentColor\" text-anchor=\"middle\">prep</textPath>\n",
              "    </text>\n",
              "    <path class=\"displacy-arrowhead\" d=\"M1275.0,266.5 L1283.0,254.5 1267.0,254.5\" fill=\"currentColor\"/>\n",
              "</g>\n",
              "\n",
              "<g class=\"displacy-arrow\">\n",
              "    <path class=\"displacy-arc\" id=\"arrow-b1d0ee435ee64460a63ba6217fe1a7f4-0-7\" stroke-width=\"2px\" d=\"M1470,264.5 C1470,177.0 1615.0,177.0 1615.0,264.5\" fill=\"none\" stroke=\"currentColor\"/>\n",
              "    <text dy=\"1.25em\" style=\"font-size: 0.8em; letter-spacing: 1px\">\n",
              "        <textPath xlink:href=\"#arrow-b1d0ee435ee64460a63ba6217fe1a7f4-0-7\" class=\"displacy-label\" startOffset=\"50%\" side=\"left\" fill=\"currentColor\" text-anchor=\"middle\">poss</textPath>\n",
              "    </text>\n",
              "    <path class=\"displacy-arrowhead\" d=\"M1470,266.5 L1462,254.5 1478,254.5\" fill=\"currentColor\"/>\n",
              "</g>\n",
              "\n",
              "<g class=\"displacy-arrow\">\n",
              "    <path class=\"displacy-arc\" id=\"arrow-b1d0ee435ee64460a63ba6217fe1a7f4-0-8\" stroke-width=\"2px\" d=\"M1295,264.5 C1295,89.5 1620.0,89.5 1620.0,264.5\" fill=\"none\" stroke=\"currentColor\"/>\n",
              "    <text dy=\"1.25em\" style=\"font-size: 0.8em; letter-spacing: 1px\">\n",
              "        <textPath xlink:href=\"#arrow-b1d0ee435ee64460a63ba6217fe1a7f4-0-8\" class=\"displacy-label\" startOffset=\"50%\" side=\"left\" fill=\"currentColor\" text-anchor=\"middle\">pobj</textPath>\n",
              "    </text>\n",
              "    <path class=\"displacy-arrowhead\" d=\"M1620.0,266.5 L1628.0,254.5 1612.0,254.5\" fill=\"currentColor\"/>\n",
              "</g>\n",
              "\n",
              "<g class=\"displacy-arrow\">\n",
              "    <path class=\"displacy-arc\" id=\"arrow-b1d0ee435ee64460a63ba6217fe1a7f4-0-9\" stroke-width=\"2px\" d=\"M1645,264.5 C1645,177.0 1790.0,177.0 1790.0,264.5\" fill=\"none\" stroke=\"currentColor\"/>\n",
              "    <text dy=\"1.25em\" style=\"font-size: 0.8em; letter-spacing: 1px\">\n",
              "        <textPath xlink:href=\"#arrow-b1d0ee435ee64460a63ba6217fe1a7f4-0-9\" class=\"displacy-label\" startOffset=\"50%\" side=\"left\" fill=\"currentColor\" text-anchor=\"middle\">cc</textPath>\n",
              "    </text>\n",
              "    <path class=\"displacy-arrowhead\" d=\"M1790.0,266.5 L1798.0,254.5 1782.0,254.5\" fill=\"currentColor\"/>\n",
              "</g>\n",
              "\n",
              "<g class=\"displacy-arrow\">\n",
              "    <path class=\"displacy-arc\" id=\"arrow-b1d0ee435ee64460a63ba6217fe1a7f4-0-10\" stroke-width=\"2px\" d=\"M1645,264.5 C1645,89.5 1970.0,89.5 1970.0,264.5\" fill=\"none\" stroke=\"currentColor\"/>\n",
              "    <text dy=\"1.25em\" style=\"font-size: 0.8em; letter-spacing: 1px\">\n",
              "        <textPath xlink:href=\"#arrow-b1d0ee435ee64460a63ba6217fe1a7f4-0-10\" class=\"displacy-label\" startOffset=\"50%\" side=\"left\" fill=\"currentColor\" text-anchor=\"middle\">conj</textPath>\n",
              "    </text>\n",
              "    <path class=\"displacy-arrowhead\" d=\"M1970.0,266.5 L1978.0,254.5 1962.0,254.5\" fill=\"currentColor\"/>\n",
              "</g>\n",
              "</svg></span>"
            ],
            "text/plain": [
              "<IPython.core.display.HTML object>"
            ]
          },
          "metadata": {},
          "output_type": "display_data"
        }
      ],
      "source": [
        "# To download dependency graphs to local folder\n",
        "from pathlib import Path\n",
        "\n",
        "text = df3.loc[9,'Sent'][1:]\n",
        "\n",
        "doc = nlp(text)\n",
        "img = displacy.render(doc, style='dep',jupyter=True)\n",
        "img\n",
        "\n",
        "# To save to folder\n",
        "# output_path = Path(\"./img1.svg\")\n",
        "# output_path.open(\"w\", encoding=\"utf-8\").write(img)"
      ]
    },
    {
      "cell_type": "markdown",
      "metadata": {
        "hidden": true,
        "id": "7Oh55Wz3h5XR"
      },
      "source": [
        "What will be extracted is \"countries face threats\", which should give us a fair idea about what the sentence is trying to say.\n",
        "\n",
        "So lets look at how this rule fairs what we run it against the short sentences that are working with."
      ]
    },
    {
      "cell_type": "code",
      "execution_count": null,
      "metadata": {
        "hidden": true,
        "id": "awOAGRMHh5XR"
      },
      "outputs": [],
      "source": [
        "# Function for rule 1: noun(subject), verb, noun(object)\n",
        "def rule1(text):\n",
        "\n",
        "    doc = nlp(text)\n",
        "\n",
        "    sent = []\n",
        "\n",
        "    for token in doc:\n",
        "\n",
        "        # If the token is a verb\n",
        "        if (token.pos_=='VERB'):\n",
        "\n",
        "            phrase =''\n",
        "\n",
        "            # Only extract noun or pronoun subjects\n",
        "            for sub_tok in token.lefts:\n",
        "\n",
        "                if (sub_tok.dep_ in ['nsubj','nsubjpass']) and (sub_tok.pos_ in ['NOUN','PROPN','PRON']):\n",
        "\n",
        "                    # Add subject to the phrase\n",
        "                    phrase += sub_tok.text\n",
        "\n",
        "                    # Save the root of the word in phrase\n",
        "                    phrase += ' '+token.lemma_\n",
        "\n",
        "                    # Check for noun or pronoun direct objects\n",
        "                    for sub_tok in token.rights:\n",
        "\n",
        "                        # Save the object in the phrase\n",
        "                        if (sub_tok.dep_ in ['dobj']) and (sub_tok.pos_ in ['NOUN','PROPN']):\n",
        "\n",
        "                            phrase += ' '+sub_tok.text\n",
        "                            sent.append(phrase)\n",
        "\n",
        "    return sent"
      ]
    },
    {
      "cell_type": "code",
      "execution_count": null,
      "metadata": {
        "hidden": true,
        "colab": {
          "base_uri": "https://localhost:8080/"
        },
        "id": "LI9pNlcfh5XR",
        "outputId": "342a412c-8bf0-47e7-8528-446e142e5ebb"
      },
      "outputs": [
        {
          "output_type": "execute_result",
          "data": {
            "text/plain": [
              "31.217838765008576"
            ]
          },
          "metadata": {},
          "execution_count": 46
        }
      ],
      "source": [
        "# Create a df containing sentence and its output for rule 1\n",
        "row_list = []\n",
        "\n",
        "for i in range(len(df3)):\n",
        "\n",
        "    sent = df3.loc[i,'Sent']\n",
        "    year = df3.loc[i,'Year']\n",
        "    output = rule1(sent)\n",
        "    dict1 = {'Year':year,'Sent':sent,'Output':output}\n",
        "    row_list.append(dict1)\n",
        "\n",
        "df_rule1 = pd.DataFrame(row_list)\n",
        "\n",
        "# Rule 1 achieves 20% result on simple sentences\n",
        "output_per(df_rule1,'Output')"
      ]
    },
    {
      "cell_type": "markdown",
      "metadata": {
        "hidden": true,
        "id": "2V-UGRJth5XR"
      },
      "source": [
        "We are getting more than 20% pattern match for our rule, we can check it for all the sentences in the corpus."
      ]
    },
    {
      "cell_type": "code",
      "execution_count": null,
      "metadata": {
        "hidden": true,
        "colab": {
          "base_uri": "https://localhost:8080/"
        },
        "id": "eFfZf_jjh5XR",
        "outputId": "87a76215-be02-4bf8-cf20-2612cd48b8bc"
      },
      "outputs": [
        {
          "output_type": "execute_result",
          "data": {
            "text/plain": [
              "32.06997084548105"
            ]
          },
          "metadata": {},
          "execution_count": 47
        }
      ],
      "source": [
        "# Create a df containing sentence and its output for rule 1\n",
        "row_list = []\n",
        "\n",
        "# df2 contains all the sentences from all the speeches\n",
        "for i in range(len(df2)):A\n",
        "\n",
        "    sent = df2.loc[i,'Sent']\n",
        "    year = df2.loc[i,'Year']\n",
        "    output = rule1(sent)\n",
        "    dict1 = {'Year':year,'Sent':sent,'Output':output}\n",
        "    row_list.append(dict1)\n",
        "\n",
        "df_rule1_all = pd.DataFrame(row_list)\n",
        "\n",
        "# Check rule1 output on complete speeches\n",
        "output_per(df_rule1_all,'Output')"
      ]
    },
    {
      "cell_type": "markdown",
      "metadata": {
        "hidden": true,
        "id": "gO8kER9_h5XR"
      },
      "source": [
        "We are getting more than a 30% match for our rules, which means 2226 out of 7150 sentences matched this pattern. Let’s form a new dataframe containing only those sentences that have an output and then segregate the verb from the nouns:"
      ]
    },
    {
      "cell_type": "code",
      "execution_count": null,
      "metadata": {
        "hidden": true,
        "colab": {
          "base_uri": "https://localhost:8080/",
          "height": 242
        },
        "id": "ELAL4ddah5XR",
        "outputId": "dd47c011-0ead-4dd0-bbd4-787f38aaf4f9"
      },
      "outputs": [
        {
          "output_type": "error",
          "ename": "KeyboardInterrupt",
          "evalue": "ignored",
          "traceback": [
            "\u001b[0;31m---------------------------------------------------------------------------\u001b[0m",
            "\u001b[0;31mKeyboardInterrupt\u001b[0m                         Traceback (most recent call last)",
            "\u001b[0;32m<ipython-input-49-47d9feab93ce>\u001b[0m in \u001b[0;36m<module>\u001b[0;34m\u001b[0m\n\u001b[1;32m      5\u001b[0m \u001b[0;34m\u001b[0m\u001b[0m\n\u001b[1;32m      6\u001b[0m     \u001b[0;32mif\u001b[0m \u001b[0mlen\u001b[0m\u001b[0;34m(\u001b[0m\u001b[0mdf_rule1_all\u001b[0m\u001b[0;34m.\u001b[0m\u001b[0mloc\u001b[0m\u001b[0;34m[\u001b[0m\u001b[0mrow\u001b[0m\u001b[0;34m,\u001b[0m\u001b[0;34m'Output'\u001b[0m\u001b[0;34m]\u001b[0m\u001b[0;34m)\u001b[0m\u001b[0;34m!=\u001b[0m\u001b[0;36m0\u001b[0m\u001b[0;34m:\u001b[0m\u001b[0;34m\u001b[0m\u001b[0;34m\u001b[0m\u001b[0m\n\u001b[0;32m----> 7\u001b[0;31m         \u001b[0mdf_show\u001b[0m \u001b[0;34m=\u001b[0m \u001b[0mdf_show\u001b[0m\u001b[0;34m.\u001b[0m\u001b[0mappend\u001b[0m\u001b[0;34m(\u001b[0m\u001b[0mdf_rule1_all\u001b[0m\u001b[0;34m.\u001b[0m\u001b[0mloc\u001b[0m\u001b[0;34m[\u001b[0m\u001b[0mrow\u001b[0m\u001b[0;34m,\u001b[0m\u001b[0;34m:\u001b[0m\u001b[0;34m]\u001b[0m\u001b[0;34m)\u001b[0m\u001b[0;34m\u001b[0m\u001b[0;34m\u001b[0m\u001b[0m\n\u001b[0m\u001b[1;32m      8\u001b[0m \u001b[0;34m\u001b[0m\u001b[0m\n\u001b[1;32m      9\u001b[0m \u001b[0;31m# reset the index\u001b[0m\u001b[0;34m\u001b[0m\u001b[0;34m\u001b[0m\u001b[0;34m\u001b[0m\u001b[0m\n",
            "\u001b[0;31mKeyboardInterrupt\u001b[0m: "
          ]
        }
      ],
      "source": [
        "# selecting non-empty output rows\n",
        "df_show = pd.DataFrame(columns=df_rule1_all.columns)\n",
        "\n",
        "for row in range(len(df_rule1_all)):\n",
        "\n",
        "    if len(df_rule1_all.loc[row,'Output'])!=0:\n",
        "        df_show = df_show.append(df_rule1_all.loc[row,:])\n",
        "\n",
        "# reset the index\n",
        "df_show.reset_index(inplace=True)\n",
        "df_show.drop('index',axis=1,inplace=True)"
      ]
    },
    {
      "cell_type": "code",
      "execution_count": null,
      "metadata": {
        "hidden": true,
        "id": "fUx-0po2h5XR"
      },
      "outputs": [],
      "source": [
        "df_rule1_all.shape, df_show.shape"
      ]
    },
    {
      "cell_type": "code",
      "execution_count": null,
      "metadata": {
        "hidden": true,
        "id": "LidOqkadh5XR"
      },
      "outputs": [],
      "source": [
        "# separate subject, verb and object\n",
        "\n",
        "verb_dict = dict()\n",
        "dis_dict = dict()\n",
        "dis_list = []\n",
        "\n",
        "# iterating over all the sentences\n",
        "for i in range(len(df_show)):\n",
        "\n",
        "    # sentence containing the output\n",
        "    sentence = df_show.loc[i,'Sent']\n",
        "    # year of the sentence\n",
        "    year = df_show.loc[i,'Year']\n",
        "    # output of the sentence\n",
        "    output = df_show.loc[i,'Output']\n",
        "\n",
        "    # iterating over all the outputs from the sentence\n",
        "    for sent in output:\n",
        "\n",
        "        # separate subject, verb and object\n",
        "        n1 = sent.split()[:1]\n",
        "        v = sent.split()[1]\n",
        "        n2 = sent.split()[2:]\n",
        "\n",
        "        # append to list, along with the sentence\n",
        "        dis_dict = {'Sent':sentence,'Year':year,'Noun1':n1,'Verb':v,'Noun2':n2}\n",
        "        dis_list.append(dis_dict)\n",
        "\n",
        "        # counting the number of sentences containing the verb\n",
        "        verb = sent.split()[1]\n",
        "        if verb in verb_dict:\n",
        "            verb_dict[verb]+=1\n",
        "        else:\n",
        "            verb_dict[verb]=1\n",
        "\n",
        "df_sep = pd.DataFrame(dis_list)"
      ]
    },
    {
      "cell_type": "markdown",
      "metadata": {
        "hidden": true,
        "id": "m6Ja5A1Wh5XR"
      },
      "source": [
        "We can seperate the verb from the subject noun and object noun. This will allows us to better analyse the result."
      ]
    },
    {
      "cell_type": "code",
      "execution_count": null,
      "metadata": {
        "hidden": true,
        "scrolled": false,
        "id": "b52aPG6Lh5XR"
      },
      "outputs": [],
      "source": [
        "df_sep.head()"
      ]
    },
    {
      "cell_type": "markdown",
      "metadata": {
        "hidden": true,
        "id": "3-fuhnPVh5XR"
      },
      "source": [
        "Lets take a look at the top occuring verbs used in the sentences."
      ]
    },
    {
      "cell_type": "code",
      "execution_count": null,
      "metadata": {
        "hidden": true,
        "id": "7qDIA0-rh5XR"
      },
      "outputs": [],
      "source": [
        "sort = sorted(verb_dict.items(), key = lambda d:(d[1],d[0]), reverse=True)\n",
        "# top 10 most used verbs in sentence\n",
        "sort[:10]"
      ]
    },
    {
      "cell_type": "markdown",
      "metadata": {
        "hidden": true,
        "id": "LemH9ieuh5XR"
      },
      "source": [
        "Now we can look at specific verbs to see what kind of information is prsent. For example 'welcome' and 'support' could tell us what India encourages. And verbs like 'face' could maybe tell use what kind of problems we face in the real world."
      ]
    },
    {
      "cell_type": "code",
      "execution_count": null,
      "metadata": {
        "collapsed": true,
        "hidden": true,
        "id": "PbERZ1meh5XR"
      },
      "outputs": [],
      "source": [
        "# support verb\n",
        "df_sep[df_sep['Verb']=='support']"
      ]
    },
    {
      "cell_type": "code",
      "execution_count": null,
      "metadata": {
        "collapsed": true,
        "hidden": true,
        "id": "tHLE0Sbch5XS"
      },
      "outputs": [],
      "source": [
        "# face\n",
        "df_sep[df_sep['Verb']=='face']"
      ]
    },
    {
      "cell_type": "markdown",
      "metadata": {
        "hidden": true,
        "id": "4UAu_DY8h5XS"
      },
      "source": [
        "By looking at the output, we can try to make out what is the context of the sentence. For example, we can see that India supports ‘efforts’, ‘viewpoints’, ‘initiatives’, ‘struggles’, ‘desires, ‘aspirations’, etc. While India believes that the world faces ‘threat’, ‘conflicts’, ‘colonialism’, ‘pandemics’, etc.\n",
        "\n",
        "We can select sentences to explore in-depth by looking at the output. This will definitely save us a lot of time than just going over the entire text."
      ]
    },
    {
      "cell_type": "markdown",
      "metadata": {
        "heading_collapsed": true,
        "id": "Tt40v3oSh5XS"
      },
      "source": [
        "## Information Extraction #4 – Rule on Adjective Noun Structure"
      ]
    },
    {
      "cell_type": "markdown",
      "metadata": {
        "hidden": true,
        "id": "m62yrr-Wh5XS"
      },
      "source": [
        "In the previous rule that we made, we extracted the noun subjects and objects, but the information did not feel complete. This is because many nouns have an adjective or a word with a compound dependency that augments the meaning of a noun. Extracting these along with the noun will give us better information about the subject and the object.\n",
        "\n",
        "Have a look at the sample sentence below."
      ]
    },
    {
      "cell_type": "code",
      "execution_count": null,
      "metadata": {
        "hidden": true,
        "id": "cqKBTYTzh5XS",
        "outputId": "abc14c80-3ede-48ca-93a0-6cfa9b5efdee"
      },
      "outputs": [
        {
          "name": "stdout",
          "output_type": "stream",
          "text": [
            "Our people are expecting a better life.\n"
          ]
        },
        {
          "data": {
            "text/html": [
              "<span class=\"tex2jax_ignore\"><svg xmlns=\"http://www.w3.org/2000/svg\" xmlns:xlink=\"http://www.w3.org/1999/xlink\" xml:lang=\"en\" id=\"438d471ebddc4d02af3fad4e05c13695-0\" class=\"displacy\" width=\"1275\" height=\"399.5\" direction=\"ltr\" style=\"max-width: none; height: 399.5px; color: #000000; background: #ffffff; font-family: Arial; direction: ltr\">\n",
              "<text class=\"displacy-token\" fill=\"currentColor\" text-anchor=\"middle\" y=\"309.5\">\n",
              "    <tspan class=\"displacy-word\" fill=\"currentColor\" x=\"50\">Our</tspan>\n",
              "    <tspan class=\"displacy-tag\" dy=\"2em\" fill=\"currentColor\" x=\"50\">DET</tspan>\n",
              "</text>\n",
              "\n",
              "<text class=\"displacy-token\" fill=\"currentColor\" text-anchor=\"middle\" y=\"309.5\">\n",
              "    <tspan class=\"displacy-word\" fill=\"currentColor\" x=\"225\">people</tspan>\n",
              "    <tspan class=\"displacy-tag\" dy=\"2em\" fill=\"currentColor\" x=\"225\">NOUN</tspan>\n",
              "</text>\n",
              "\n",
              "<text class=\"displacy-token\" fill=\"currentColor\" text-anchor=\"middle\" y=\"309.5\">\n",
              "    <tspan class=\"displacy-word\" fill=\"currentColor\" x=\"400\">are</tspan>\n",
              "    <tspan class=\"displacy-tag\" dy=\"2em\" fill=\"currentColor\" x=\"400\">AUX</tspan>\n",
              "</text>\n",
              "\n",
              "<text class=\"displacy-token\" fill=\"currentColor\" text-anchor=\"middle\" y=\"309.5\">\n",
              "    <tspan class=\"displacy-word\" fill=\"currentColor\" x=\"575\">expecting</tspan>\n",
              "    <tspan class=\"displacy-tag\" dy=\"2em\" fill=\"currentColor\" x=\"575\">VERB</tspan>\n",
              "</text>\n",
              "\n",
              "<text class=\"displacy-token\" fill=\"currentColor\" text-anchor=\"middle\" y=\"309.5\">\n",
              "    <tspan class=\"displacy-word\" fill=\"currentColor\" x=\"750\">a</tspan>\n",
              "    <tspan class=\"displacy-tag\" dy=\"2em\" fill=\"currentColor\" x=\"750\">DET</tspan>\n",
              "</text>\n",
              "\n",
              "<text class=\"displacy-token\" fill=\"currentColor\" text-anchor=\"middle\" y=\"309.5\">\n",
              "    <tspan class=\"displacy-word\" fill=\"currentColor\" x=\"925\">better</tspan>\n",
              "    <tspan class=\"displacy-tag\" dy=\"2em\" fill=\"currentColor\" x=\"925\">ADJ</tspan>\n",
              "</text>\n",
              "\n",
              "<text class=\"displacy-token\" fill=\"currentColor\" text-anchor=\"middle\" y=\"309.5\">\n",
              "    <tspan class=\"displacy-word\" fill=\"currentColor\" x=\"1100\">life.</tspan>\n",
              "    <tspan class=\"displacy-tag\" dy=\"2em\" fill=\"currentColor\" x=\"1100\">NOUN</tspan>\n",
              "</text>\n",
              "\n",
              "<g class=\"displacy-arrow\">\n",
              "    <path class=\"displacy-arc\" id=\"arrow-438d471ebddc4d02af3fad4e05c13695-0-0\" stroke-width=\"2px\" d=\"M70,264.5 C70,177.0 215.0,177.0 215.0,264.5\" fill=\"none\" stroke=\"currentColor\"/>\n",
              "    <text dy=\"1.25em\" style=\"font-size: 0.8em; letter-spacing: 1px\">\n",
              "        <textPath xlink:href=\"#arrow-438d471ebddc4d02af3fad4e05c13695-0-0\" class=\"displacy-label\" startOffset=\"50%\" side=\"left\" fill=\"currentColor\" text-anchor=\"middle\">poss</textPath>\n",
              "    </text>\n",
              "    <path class=\"displacy-arrowhead\" d=\"M70,266.5 L62,254.5 78,254.5\" fill=\"currentColor\"/>\n",
              "</g>\n",
              "\n",
              "<g class=\"displacy-arrow\">\n",
              "    <path class=\"displacy-arc\" id=\"arrow-438d471ebddc4d02af3fad4e05c13695-0-1\" stroke-width=\"2px\" d=\"M245,264.5 C245,89.5 570.0,89.5 570.0,264.5\" fill=\"none\" stroke=\"currentColor\"/>\n",
              "    <text dy=\"1.25em\" style=\"font-size: 0.8em; letter-spacing: 1px\">\n",
              "        <textPath xlink:href=\"#arrow-438d471ebddc4d02af3fad4e05c13695-0-1\" class=\"displacy-label\" startOffset=\"50%\" side=\"left\" fill=\"currentColor\" text-anchor=\"middle\">nsubj</textPath>\n",
              "    </text>\n",
              "    <path class=\"displacy-arrowhead\" d=\"M245,266.5 L237,254.5 253,254.5\" fill=\"currentColor\"/>\n",
              "</g>\n",
              "\n",
              "<g class=\"displacy-arrow\">\n",
              "    <path class=\"displacy-arc\" id=\"arrow-438d471ebddc4d02af3fad4e05c13695-0-2\" stroke-width=\"2px\" d=\"M420,264.5 C420,177.0 565.0,177.0 565.0,264.5\" fill=\"none\" stroke=\"currentColor\"/>\n",
              "    <text dy=\"1.25em\" style=\"font-size: 0.8em; letter-spacing: 1px\">\n",
              "        <textPath xlink:href=\"#arrow-438d471ebddc4d02af3fad4e05c13695-0-2\" class=\"displacy-label\" startOffset=\"50%\" side=\"left\" fill=\"currentColor\" text-anchor=\"middle\">aux</textPath>\n",
              "    </text>\n",
              "    <path class=\"displacy-arrowhead\" d=\"M420,266.5 L412,254.5 428,254.5\" fill=\"currentColor\"/>\n",
              "</g>\n",
              "\n",
              "<g class=\"displacy-arrow\">\n",
              "    <path class=\"displacy-arc\" id=\"arrow-438d471ebddc4d02af3fad4e05c13695-0-3\" stroke-width=\"2px\" d=\"M770,264.5 C770,89.5 1095.0,89.5 1095.0,264.5\" fill=\"none\" stroke=\"currentColor\"/>\n",
              "    <text dy=\"1.25em\" style=\"font-size: 0.8em; letter-spacing: 1px\">\n",
              "        <textPath xlink:href=\"#arrow-438d471ebddc4d02af3fad4e05c13695-0-3\" class=\"displacy-label\" startOffset=\"50%\" side=\"left\" fill=\"currentColor\" text-anchor=\"middle\">det</textPath>\n",
              "    </text>\n",
              "    <path class=\"displacy-arrowhead\" d=\"M770,266.5 L762,254.5 778,254.5\" fill=\"currentColor\"/>\n",
              "</g>\n",
              "\n",
              "<g class=\"displacy-arrow\">\n",
              "    <path class=\"displacy-arc\" id=\"arrow-438d471ebddc4d02af3fad4e05c13695-0-4\" stroke-width=\"2px\" d=\"M945,264.5 C945,177.0 1090.0,177.0 1090.0,264.5\" fill=\"none\" stroke=\"currentColor\"/>\n",
              "    <text dy=\"1.25em\" style=\"font-size: 0.8em; letter-spacing: 1px\">\n",
              "        <textPath xlink:href=\"#arrow-438d471ebddc4d02af3fad4e05c13695-0-4\" class=\"displacy-label\" startOffset=\"50%\" side=\"left\" fill=\"currentColor\" text-anchor=\"middle\">amod</textPath>\n",
              "    </text>\n",
              "    <path class=\"displacy-arrowhead\" d=\"M945,266.5 L937,254.5 953,254.5\" fill=\"currentColor\"/>\n",
              "</g>\n",
              "\n",
              "<g class=\"displacy-arrow\">\n",
              "    <path class=\"displacy-arc\" id=\"arrow-438d471ebddc4d02af3fad4e05c13695-0-5\" stroke-width=\"2px\" d=\"M595,264.5 C595,2.0 1100.0,2.0 1100.0,264.5\" fill=\"none\" stroke=\"currentColor\"/>\n",
              "    <text dy=\"1.25em\" style=\"font-size: 0.8em; letter-spacing: 1px\">\n",
              "        <textPath xlink:href=\"#arrow-438d471ebddc4d02af3fad4e05c13695-0-5\" class=\"displacy-label\" startOffset=\"50%\" side=\"left\" fill=\"currentColor\" text-anchor=\"middle\">dobj</textPath>\n",
              "    </text>\n",
              "    <path class=\"displacy-arrowhead\" d=\"M1100.0,266.5 L1108.0,254.5 1092.0,254.5\" fill=\"currentColor\"/>\n",
              "</g>\n",
              "</svg></span>"
            ],
            "text/plain": [
              "<IPython.core.display.HTML object>"
            ]
          },
          "metadata": {},
          "output_type": "display_data"
        }
      ],
      "source": [
        "text = 'Our people are expecting a better life.'\n",
        "print(text)\n",
        "doc = nlp(text)\n",
        "img = displacy.render(doc, style='dep',jupyter=True)\n",
        "img\n",
        "\n",
        "#output_path = Path(\"./img2.svg\")\n",
        "#output_path.open(\"w\", encoding=\"utf-8\").write(img)"
      ]
    },
    {
      "cell_type": "markdown",
      "metadata": {
        "hidden": true,
        "id": "zDVSfFszh5XS"
      },
      "source": [
        "What we are looking to achieve here is: \"people\",\"expecting\" and \"better life\".\n",
        "\n",
        "The code for this rule is simple, but let me walk you through how it works:\n",
        "* We look for tokens that have a Noun POS tag and have subject or object dependency\n",
        "* Then we look at the child nodes of these tokens and append it to the phrase only if it modifies the noun"
      ]
    },
    {
      "cell_type": "code",
      "execution_count": null,
      "metadata": {
        "hidden": true,
        "id": "_hi1sGZzh5XS"
      },
      "outputs": [],
      "source": [
        "# function for rule 2\n",
        "def rule2(text):\n",
        "\n",
        "    doc = nlp(text)\n",
        "\n",
        "    pat = []\n",
        "\n",
        "    # iterate over tokens\n",
        "    for token in doc:\n",
        "        phrase = ''\n",
        "        # if the word is a subject noun or an object noun\n",
        "        if (token.pos_ == 'NOUN')\\\n",
        "            and (token.dep_ in ['dobj','pobj','nsubj','nsubjpass']):\n",
        "\n",
        "            # iterate over the children nodes\n",
        "            for subtoken in token.children:\n",
        "                # if word is an adjective or has a compound dependency\n",
        "                if (subtoken.pos_ == 'ADJ') or (subtoken.dep_ == 'compound'):\n",
        "                    phrase += subtoken.text + ' '\n",
        "\n",
        "            if len(phrase)!=0:\n",
        "                phrase += token.text\n",
        "\n",
        "        if  len(phrase)!=0:\n",
        "            pat.append(phrase)\n",
        "\n",
        "\n",
        "    return pat"
      ]
    },
    {
      "cell_type": "code",
      "execution_count": null,
      "metadata": {
        "hidden": true,
        "id": "wL1oec7jh5XS"
      },
      "outputs": [],
      "source": [
        "# Create a df containing sentence and its output for rule 2\n",
        "row_list = []\n",
        "\n",
        "for i in range(len(df3)):\n",
        "\n",
        "    sent = df3.loc[i,'Sent']\n",
        "    year = df3.loc[i,'Year']\n",
        "    # Rule 2\n",
        "    output = rule2(sent)\n",
        "\n",
        "    dict1 = {'Year':year,'Sent':sent,'Output':output}\n",
        "    row_list.append(dict1)\n",
        "\n",
        "df_rule2 = pd.DataFrame(row_list)"
      ]
    },
    {
      "cell_type": "code",
      "execution_count": null,
      "metadata": {
        "hidden": true,
        "id": "Qwym7wJ5h5XS",
        "outputId": "77eca4db-8e83-42ce-fdd8-cd7988fdb6e9"
      },
      "outputs": [
        {
          "data": {
            "text/html": [
              "<div>\n",
              "<style scoped>\n",
              "    .dataframe tbody tr th:only-of-type {\n",
              "        vertical-align: middle;\n",
              "    }\n",
              "\n",
              "    .dataframe tbody tr th {\n",
              "        vertical-align: top;\n",
              "    }\n",
              "\n",
              "    .dataframe thead th {\n",
              "        text-align: right;\n",
              "    }\n",
              "</style>\n",
              "<table border=\"1\" class=\"dataframe\">\n",
              "  <thead>\n",
              "    <tr style=\"text-align: right;\">\n",
              "      <th></th>\n",
              "      <th>Year</th>\n",
              "      <th>Sent</th>\n",
              "      <th>Output</th>\n",
              "    </tr>\n",
              "  </thead>\n",
              "  <tbody>\n",
              "    <tr>\n",
              "      <th>0</th>\n",
              "      <td>1970</td>\n",
              "      <td>Your personal qualifications and your family ...</td>\n",
              "      <td>[personal qualifications, international effort]</td>\n",
              "    </tr>\n",
              "    <tr>\n",
              "      <th>1</th>\n",
              "      <td>1970</td>\n",
              "      <td>There are many developments in India which gi...</td>\n",
              "      <td>[]</td>\n",
              "    </tr>\n",
              "    <tr>\n",
              "      <th>2</th>\n",
              "      <td>1970</td>\n",
              "      <td>Our people are expecting a better life throug...</td>\n",
              "      <td>[better life, development plans]</td>\n",
              "    </tr>\n",
              "    <tr>\n",
              "      <th>3</th>\n",
              "      <td>1970</td>\n",
              "      <td>We have had a sizable increase in agricultura...</td>\n",
              "      <td>[sizable increase, agricultural production]</td>\n",
              "    </tr>\n",
              "    <tr>\n",
              "      <th>4</th>\n",
              "      <td>1970</td>\n",
              "      <td>Our trade is also showing signs of improvement</td>\n",
              "      <td>[]</td>\n",
              "    </tr>\n",
              "  </tbody>\n",
              "</table>\n",
              "</div>"
            ],
            "text/plain": [
              "   Year                                               Sent  \\\n",
              "0  1970   Your personal qualifications and your family ...   \n",
              "1  1970   There are many developments in India which gi...   \n",
              "2  1970   Our people are expecting a better life throug...   \n",
              "3  1970   We have had a sizable increase in agricultura...   \n",
              "4  1970     Our trade is also showing signs of improvement   \n",
              "\n",
              "                                            Output  \n",
              "0  [personal qualifications, international effort]  \n",
              "1                                               []  \n",
              "2                 [better life, development plans]  \n",
              "3      [sizable increase, agricultural production]  \n",
              "4                                               []  "
            ]
          },
          "execution_count": 59,
          "metadata": {},
          "output_type": "execute_result"
        }
      ],
      "source": [
        "df_rule2.head()"
      ]
    },
    {
      "cell_type": "code",
      "execution_count": null,
      "metadata": {
        "hidden": true,
        "id": "onNrom4wh5XS",
        "outputId": "31debc31-bfb2-46df-f12c-6619fd5dddf6"
      },
      "outputs": [
        {
          "data": {
            "text/plain": [
              "51.92896509491733"
            ]
          },
          "execution_count": 58,
          "metadata": {},
          "output_type": "execute_result"
        }
      ],
      "source": [
        "# Rule 2 output\n",
        "output_per(df_rule2,'Output')"
      ]
    },
    {
      "cell_type": "markdown",
      "metadata": {
        "hidden": true,
        "id": "h47m3YYjh5XS"
      },
      "source": [
        "51% of the short sentences match this rule. We can try now check it on the entire corpus."
      ]
    },
    {
      "cell_type": "code",
      "execution_count": null,
      "metadata": {
        "hidden": true,
        "id": "VkN0zWdeh5XS",
        "outputId": "5014a881-a4c2-4878-8fa0-c3534f920557"
      },
      "outputs": [
        {
          "data": {
            "text/plain": [
              "76.5034965034965"
            ]
          },
          "execution_count": 60,
          "metadata": {},
          "output_type": "execute_result"
        }
      ],
      "source": [
        "# create a df containing sentence and its output for rule 2\n",
        "row_list = []\n",
        "\n",
        "# df2 contains all the sentences from all the speeches\n",
        "for i in range(len(df2)):\n",
        "\n",
        "    sent = df2.loc[i,'Sent']\n",
        "    year = df2.loc[i,'Year']\n",
        "    output = rule2(sent)\n",
        "    dict1 = {'Year':year,'Sent':sent,'Output':output}\n",
        "    row_list.append(dict1)\n",
        "\n",
        "df_rule2_all = pd.DataFrame(row_list)\n",
        "\n",
        "# check rule output on complete speeches\n",
        "output_per(df_rule2_all,'Output')"
      ]
    },
    {
      "cell_type": "code",
      "execution_count": null,
      "metadata": {
        "hidden": true,
        "scrolled": true,
        "id": "JISF5ZI_h5XS",
        "outputId": "e9911b6b-ffc9-4a0f-e4e9-40b8e4c323a3"
      },
      "outputs": [
        {
          "data": {
            "text/html": [
              "<div>\n",
              "<style scoped>\n",
              "    .dataframe tbody tr th:only-of-type {\n",
              "        vertical-align: middle;\n",
              "    }\n",
              "\n",
              "    .dataframe tbody tr th {\n",
              "        vertical-align: top;\n",
              "    }\n",
              "\n",
              "    .dataframe thead th {\n",
              "        text-align: right;\n",
              "    }\n",
              "</style>\n",
              "<table border=\"1\" class=\"dataframe\">\n",
              "  <thead>\n",
              "    <tr style=\"text-align: right;\">\n",
              "      <th></th>\n",
              "      <th>Year</th>\n",
              "      <th>Sent</th>\n",
              "      <th>Output</th>\n",
              "    </tr>\n",
              "  </thead>\n",
              "  <tbody>\n",
              "    <tr>\n",
              "      <th>0</th>\n",
              "      <td>1970</td>\n",
              "      <td>Mr President, I offer you our congratulations...</td>\n",
              "      <td>[current session]</td>\n",
              "    </tr>\n",
              "    <tr>\n",
              "      <th>1</th>\n",
              "      <td>1970</td>\n",
              "      <td>You represent Norway, a country which can tak...</td>\n",
              "      <td>[]</td>\n",
              "    </tr>\n",
              "    <tr>\n",
              "      <th>2</th>\n",
              "      <td>1970</td>\n",
              "      <td>Your personal qualifications and your family ...</td>\n",
              "      <td>[personal qualifications, international effort]</td>\n",
              "    </tr>\n",
              "    <tr>\n",
              "      <th>3</th>\n",
              "      <td>1970</td>\n",
              "      <td>I should also like to express our appreciatio...</td>\n",
              "      <td>[distinguished predecessor]</td>\n",
              "    </tr>\n",
              "    <tr>\n",
              "      <th>4</th>\n",
              "      <td>1970</td>\n",
              "      <td>I would also repeat our admiration for U Than...</td>\n",
              "      <td>[]</td>\n",
              "    </tr>\n",
              "    <tr>\n",
              "      <th>5</th>\n",
              "      <td>1970</td>\n",
              "      <td>Today is Mahatma Gandhi one hundred first bir...</td>\n",
              "      <td>[fresh pledge]</td>\n",
              "    </tr>\n",
              "    <tr>\n",
              "      <th>6</th>\n",
              "      <td>1970</td>\n",
              "      <td>We may not fully succeed in living up to his ...</td>\n",
              "      <td>[]</td>\n",
              "    </tr>\n",
              "    <tr>\n",
              "      <th>7</th>\n",
              "      <td>1970</td>\n",
              "      <td>There are many developments in India which gi...</td>\n",
              "      <td>[]</td>\n",
              "    </tr>\n",
              "    <tr>\n",
              "      <th>8</th>\n",
              "      <td>1970</td>\n",
              "      <td>Our people are expecting a better life throug...</td>\n",
              "      <td>[better life, development plans]</td>\n",
              "    </tr>\n",
              "    <tr>\n",
              "      <th>9</th>\n",
              "      <td>1970</td>\n",
              "      <td>We have had a sizable increase in agricultura...</td>\n",
              "      <td>[sizable increase, agricultural production]</td>\n",
              "    </tr>\n",
              "  </tbody>\n",
              "</table>\n",
              "</div>"
            ],
            "text/plain": [
              "   Year                                               Sent  \\\n",
              "0  1970   Mr President, I offer you our congratulations...   \n",
              "1  1970   You represent Norway, a country which can tak...   \n",
              "2  1970   Your personal qualifications and your family ...   \n",
              "3  1970   I should also like to express our appreciatio...   \n",
              "4  1970   I would also repeat our admiration for U Than...   \n",
              "5  1970   Today is Mahatma Gandhi one hundred first bir...   \n",
              "6  1970   We may not fully succeed in living up to his ...   \n",
              "7  1970   There are many developments in India which gi...   \n",
              "8  1970   Our people are expecting a better life throug...   \n",
              "9  1970   We have had a sizable increase in agricultura...   \n",
              "\n",
              "                                            Output  \n",
              "0                                [current session]  \n",
              "1                                               []  \n",
              "2  [personal qualifications, international effort]  \n",
              "3                      [distinguished predecessor]  \n",
              "4                                               []  \n",
              "5                                   [fresh pledge]  \n",
              "6                                               []  \n",
              "7                                               []  \n",
              "8                 [better life, development plans]  \n",
              "9      [sizable increase, agricultural production]  "
            ]
          },
          "execution_count": 61,
          "metadata": {},
          "output_type": "execute_result"
        }
      ],
      "source": [
        "df_rule2_all.head(10)"
      ]
    },
    {
      "cell_type": "code",
      "execution_count": null,
      "metadata": {
        "hidden": true,
        "id": "xbav6CqPh5XS",
        "outputId": "dce98a8f-52f7-4c7d-afb7-76756b6ffa6e"
      },
      "outputs": [
        {
          "data": {
            "text/plain": [
              "((7150, 3), (5470, 3))"
            ]
          },
          "execution_count": 66,
          "metadata": {},
          "output_type": "execute_result"
        }
      ],
      "source": [
        "df_rule2_all.shape,df_show2.shape"
      ]
    },
    {
      "cell_type": "markdown",
      "metadata": {
        "hidden": true,
        "id": "mYNSVUlOh5XT"
      },
      "source": [
        "Out of 7150, 5470 sentences matched our pattern rule."
      ]
    },
    {
      "cell_type": "code",
      "execution_count": null,
      "metadata": {
        "hidden": true,
        "id": "ggBdOgwXh5XT"
      },
      "outputs": [],
      "source": [
        "# Selecting non-empty outputs\n",
        "df_show2 = pd.DataFrame(columns=df_rule2_all.columns)\n",
        "\n",
        "for row in range(len(df_rule2_all)):\n",
        "\n",
        "    if len(df_rule2_all.loc[row,'Output'])!=0:\n",
        "        df_show2 = df_show2.append(df_rule2_all.loc[row,:])\n",
        "\n",
        "# Reset the index\n",
        "df_show2.reset_index(inplace=True)\n",
        "df_show2.drop('index',axis=1,inplace=True)"
      ]
    },
    {
      "cell_type": "code",
      "execution_count": null,
      "metadata": {
        "hidden": true,
        "id": "k2Y3Brthh5XT",
        "outputId": "34fb24a4-b88c-4135-a7e1-cefafa54a0e4"
      },
      "outputs": [
        {
          "data": {
            "text/html": [
              "<div>\n",
              "<style scoped>\n",
              "    .dataframe tbody tr th:only-of-type {\n",
              "        vertical-align: middle;\n",
              "    }\n",
              "\n",
              "    .dataframe tbody tr th {\n",
              "        vertical-align: top;\n",
              "    }\n",
              "\n",
              "    .dataframe thead th {\n",
              "        text-align: right;\n",
              "    }\n",
              "</style>\n",
              "<table border=\"1\" class=\"dataframe\">\n",
              "  <thead>\n",
              "    <tr style=\"text-align: right;\">\n",
              "      <th></th>\n",
              "      <th>Year</th>\n",
              "      <th>Sent</th>\n",
              "      <th>Output</th>\n",
              "    </tr>\n",
              "  </thead>\n",
              "  <tbody>\n",
              "    <tr>\n",
              "      <th>0</th>\n",
              "      <td>1970</td>\n",
              "      <td>Mr President, I offer you our congratulations...</td>\n",
              "      <td>[current session]</td>\n",
              "    </tr>\n",
              "    <tr>\n",
              "      <th>1</th>\n",
              "      <td>1970</td>\n",
              "      <td>Your personal qualifications and your family ...</td>\n",
              "      <td>[personal qualifications, international effort]</td>\n",
              "    </tr>\n",
              "    <tr>\n",
              "      <th>2</th>\n",
              "      <td>1970</td>\n",
              "      <td>I should also like to express our appreciatio...</td>\n",
              "      <td>[distinguished predecessor]</td>\n",
              "    </tr>\n",
              "    <tr>\n",
              "      <th>3</th>\n",
              "      <td>1970</td>\n",
              "      <td>Today is Mahatma Gandhi one hundred first bir...</td>\n",
              "      <td>[fresh pledge]</td>\n",
              "    </tr>\n",
              "    <tr>\n",
              "      <th>4</th>\n",
              "      <td>1970</td>\n",
              "      <td>Our people are expecting a better life throug...</td>\n",
              "      <td>[better life, development plans]</td>\n",
              "    </tr>\n",
              "    <tr>\n",
              "      <th>5</th>\n",
              "      <td>1970</td>\n",
              "      <td>We have had a sizable increase in agricultura...</td>\n",
              "      <td>[sizable increase, agricultural production]</td>\n",
              "    </tr>\n",
              "    <tr>\n",
              "      <th>6</th>\n",
              "      <td>1970</td>\n",
              "      <td>India has once again demonstrated its faith i...</td>\n",
              "      <td>[full democracy]</td>\n",
              "    </tr>\n",
              "    <tr>\n",
              "      <th>7</th>\n",
              "      <td>1970</td>\n",
              "      <td>Alongside this there is a growing desire of t...</td>\n",
              "      <td>[common man, national wealth]</td>\n",
              "    </tr>\n",
              "    <tr>\n",
              "      <th>8</th>\n",
              "      <td>1970</td>\n",
              "      <td>twenty two days ago a great conference ended ...</td>\n",
              "      <td>[great conference]</td>\n",
              "    </tr>\n",
              "    <tr>\n",
              "      <th>9</th>\n",
              "      <td>1970</td>\n",
              "      <td>The final declarations and resolution s of th...</td>\n",
              "      <td>[final declarations, Nations documents]</td>\n",
              "    </tr>\n",
              "  </tbody>\n",
              "</table>\n",
              "</div>"
            ],
            "text/plain": [
              "   Year                                               Sent  \\\n",
              "0  1970   Mr President, I offer you our congratulations...   \n",
              "1  1970   Your personal qualifications and your family ...   \n",
              "2  1970   I should also like to express our appreciatio...   \n",
              "3  1970   Today is Mahatma Gandhi one hundred first bir...   \n",
              "4  1970   Our people are expecting a better life throug...   \n",
              "5  1970   We have had a sizable increase in agricultura...   \n",
              "6  1970   India has once again demonstrated its faith i...   \n",
              "7  1970   Alongside this there is a growing desire of t...   \n",
              "8  1970   twenty two days ago a great conference ended ...   \n",
              "9  1970   The final declarations and resolution s of th...   \n",
              "\n",
              "                                            Output  \n",
              "0                                [current session]  \n",
              "1  [personal qualifications, international effort]  \n",
              "2                      [distinguished predecessor]  \n",
              "3                                   [fresh pledge]  \n",
              "4                 [better life, development plans]  \n",
              "5      [sizable increase, agricultural production]  \n",
              "6                                 [full democracy]  \n",
              "7                    [common man, national wealth]  \n",
              "8                               [great conference]  \n",
              "9          [final declarations, Nations documents]  "
            ]
          },
          "execution_count": 67,
          "metadata": {},
          "output_type": "execute_result"
        }
      ],
      "source": [
        "df_show2.head(10)"
      ]
    },
    {
      "cell_type": "markdown",
      "metadata": {
        "hidden": true,
        "id": "gpPbhseCh5XT"
      },
      "source": [
        "Now we can combine this rule along with the rule that we created previously. This will give us a better perspective of what information in present in a sentence."
      ]
    },
    {
      "cell_type": "code",
      "execution_count": null,
      "metadata": {
        "hidden": true,
        "id": "9vO2Cu3fh5XT"
      },
      "outputs": [],
      "source": [
        "def rule2_mod(text,index):\n",
        "\n",
        "    doc = nlp(text)\n",
        "\n",
        "    phrase = ''\n",
        "\n",
        "    for token in doc:\n",
        "\n",
        "        if token.i == index:\n",
        "\n",
        "            for subtoken in token.children:\n",
        "                if (subtoken.pos_ == 'ADJ'):\n",
        "                    phrase += ' '+subtoken.text\n",
        "            break\n",
        "\n",
        "    return phrase"
      ]
    },
    {
      "cell_type": "code",
      "execution_count": null,
      "metadata": {
        "hidden": true,
        "id": "MQlxlLlxh5XT"
      },
      "outputs": [],
      "source": [
        "# rule 1 modified function\n",
        "def rule1_mod(text):\n",
        "\n",
        "    doc = nlp(text)\n",
        "\n",
        "    sent = []\n",
        "\n",
        "    for token in doc:\n",
        "        # root word\n",
        "        if (token.pos_=='VERB'):\n",
        "\n",
        "            phrase =''\n",
        "\n",
        "            # only extract noun or pronoun subjects\n",
        "            for sub_tok in token.lefts:\n",
        "\n",
        "                if (sub_tok.dep_ in ['nsubj','nsubjpass']) and (sub_tok.pos_ in ['NOUN','PROPN','PRON']):\n",
        "\n",
        "                    adj = rule2_mod(text,sub_tok.i)\n",
        "\n",
        "                    phrase += adj + ' ' + sub_tok.text\n",
        "\n",
        "                    # save the root word of the word\n",
        "                    phrase += ' '+token.lemma_\n",
        "\n",
        "                    # check for noun or pronoun direct objects\n",
        "                    for sub_tok in token.rights:\n",
        "\n",
        "                        if (sub_tok.dep_ in ['dobj']) and (sub_tok.pos_ in ['NOUN','PROPN']):\n",
        "\n",
        "                            adj = rule2_mod(text,sub_tok.i)\n",
        "\n",
        "                            phrase += adj+' '+sub_tok.text\n",
        "                            sent.append(phrase)\n",
        "\n",
        "    return sent"
      ]
    },
    {
      "cell_type": "code",
      "execution_count": null,
      "metadata": {
        "hidden": true,
        "scrolled": false,
        "id": "lAXLWpYch5XT",
        "outputId": "9690c8d6-382f-4589-92fa-0f435d1b3e8c"
      },
      "outputs": [
        {
          "data": {
            "text/plain": [
              "31.300699300699304"
            ]
          },
          "execution_count": 64,
          "metadata": {},
          "output_type": "execute_result"
        }
      ],
      "source": [
        "# create a df containing sentence and its output for modified rule 1\n",
        "row_list = []\n",
        "\n",
        "# df2 contains all the sentences from all the speeches\n",
        "for i in range(len(df2)):\n",
        "\n",
        "    sent = df2.loc[i,'Sent']\n",
        "    year = df2.loc[i,'Year']\n",
        "    output = rule1_mod(sent)\n",
        "    dict1 = {'Year':year,'Sent':sent,'Output':output}\n",
        "    row_list.append(dict1)\n",
        "\n",
        "df_rule1_mod_all = pd.DataFrame(row_list)\n",
        "# check rule1 output on complete speeches\n",
        "output_per(df_rule1_mod_all,'Output')"
      ]
    },
    {
      "cell_type": "code",
      "execution_count": null,
      "metadata": {
        "hidden": true,
        "id": "JQA2dc9Bh5XT",
        "outputId": "ce54ffb6-ad88-43ee-f54b-7abd0458a310"
      },
      "outputs": [
        {
          "data": {
            "text/html": [
              "<div>\n",
              "<style scoped>\n",
              "    .dataframe tbody tr th:only-of-type {\n",
              "        vertical-align: middle;\n",
              "    }\n",
              "\n",
              "    .dataframe tbody tr th {\n",
              "        vertical-align: top;\n",
              "    }\n",
              "\n",
              "    .dataframe thead th {\n",
              "        text-align: right;\n",
              "    }\n",
              "</style>\n",
              "<table border=\"1\" class=\"dataframe\">\n",
              "  <thead>\n",
              "    <tr style=\"text-align: right;\">\n",
              "      <th></th>\n",
              "      <th>Year</th>\n",
              "      <th>Sent</th>\n",
              "      <th>Output</th>\n",
              "    </tr>\n",
              "  </thead>\n",
              "  <tbody>\n",
              "    <tr>\n",
              "      <th>0</th>\n",
              "      <td>1970</td>\n",
              "      <td>Mr President, I offer you our congratulations...</td>\n",
              "      <td>[ I offer congratulations]</td>\n",
              "    </tr>\n",
              "    <tr>\n",
              "      <th>1</th>\n",
              "      <td>1970</td>\n",
              "      <td>You represent Norway, a country which can tak...</td>\n",
              "      <td>[ You represent Norway]</td>\n",
              "    </tr>\n",
              "    <tr>\n",
              "      <th>2</th>\n",
              "      <td>1970</td>\n",
              "      <td>Your personal qualifications and your family ...</td>\n",
              "      <td>[]</td>\n",
              "    </tr>\n",
              "    <tr>\n",
              "      <th>3</th>\n",
              "      <td>1970</td>\n",
              "      <td>I should also like to express our appreciatio...</td>\n",
              "      <td>[]</td>\n",
              "    </tr>\n",
              "    <tr>\n",
              "      <th>4</th>\n",
              "      <td>1970</td>\n",
              "      <td>I would also repeat our admiration for U Than...</td>\n",
              "      <td>[ I repeat admiration,  skill win respect]</td>\n",
              "    </tr>\n",
              "    <tr>\n",
              "      <th>5</th>\n",
              "      <td>1970</td>\n",
              "      <td>Today is Mahatma Gandhi one hundred first bir...</td>\n",
              "      <td>[ we take fresh pledge]</td>\n",
              "    </tr>\n",
              "    <tr>\n",
              "      <th>6</th>\n",
              "      <td>1970</td>\n",
              "      <td>We may not fully succeed in living up to his ...</td>\n",
              "      <td>[]</td>\n",
              "    </tr>\n",
              "    <tr>\n",
              "      <th>7</th>\n",
              "      <td>1970</td>\n",
              "      <td>There are many developments in India which gi...</td>\n",
              "      <td>[]</td>\n",
              "    </tr>\n",
              "    <tr>\n",
              "      <th>8</th>\n",
              "      <td>1970</td>\n",
              "      <td>Our people are expecting a better life throug...</td>\n",
              "      <td>[ people expect better life]</td>\n",
              "    </tr>\n",
              "    <tr>\n",
              "      <th>9</th>\n",
              "      <td>1970</td>\n",
              "      <td>We have had a sizable increase in agricultura...</td>\n",
              "      <td>[ We have sizable increase]</td>\n",
              "    </tr>\n",
              "    <tr>\n",
              "      <th>10</th>\n",
              "      <td>1970</td>\n",
              "      <td>Our trade is also showing signs of improvement</td>\n",
              "      <td>[ trade show signs]</td>\n",
              "    </tr>\n",
              "    <tr>\n",
              "      <th>11</th>\n",
              "      <td>1970</td>\n",
              "      <td>India has once again demonstrated its faith i...</td>\n",
              "      <td>[ India demonstrate faith]</td>\n",
              "    </tr>\n",
              "    <tr>\n",
              "      <th>12</th>\n",
              "      <td>1970</td>\n",
              "      <td>Alongside this there is a growing desire of t...</td>\n",
              "      <td>[]</td>\n",
              "    </tr>\n",
              "    <tr>\n",
              "      <th>13</th>\n",
              "      <td>1970</td>\n",
              "      <td>twenty two days ago a great conference ended ...</td>\n",
              "      <td>[ we celebrate signing]</td>\n",
              "    </tr>\n",
              "    <tr>\n",
              "      <th>14</th>\n",
              "      <td>1970</td>\n",
              "      <td>The Conference of Lusaka owes much of its suc...</td>\n",
              "      <td>[]</td>\n",
              "    </tr>\n",
              "    <tr>\n",
              "      <th>15</th>\n",
              "      <td>1970</td>\n",
              "      <td>The final declarations and resolution s of th...</td>\n",
              "      <td>[]</td>\n",
              "    </tr>\n",
              "    <tr>\n",
              "      <th>16</th>\n",
              "      <td>1970</td>\n",
              "      <td>They represent the consensus of 53 Members of...</td>\n",
              "      <td>[ They represent consensus]</td>\n",
              "    </tr>\n",
              "    <tr>\n",
              "      <th>17</th>\n",
              "      <td>1970</td>\n",
              "      <td>I would urge that everyone read them</td>\n",
              "      <td>[]</td>\n",
              "    </tr>\n",
              "    <tr>\n",
              "      <th>18</th>\n",
              "      <td>1970</td>\n",
              "      <td>The Conference at Lusaka highlighted several ...</td>\n",
              "      <td>[ Conference highlight several key points]</td>\n",
              "    </tr>\n",
              "    <tr>\n",
              "      <th>19</th>\n",
              "      <td>1970</td>\n",
              "      <td>These are: international peace and security, ...</td>\n",
              "      <td>[]</td>\n",
              "    </tr>\n",
              "  </tbody>\n",
              "</table>\n",
              "</div>"
            ],
            "text/plain": [
              "    Year                                               Sent  \\\n",
              "0   1970   Mr President, I offer you our congratulations...   \n",
              "1   1970   You represent Norway, a country which can tak...   \n",
              "2   1970   Your personal qualifications and your family ...   \n",
              "3   1970   I should also like to express our appreciatio...   \n",
              "4   1970   I would also repeat our admiration for U Than...   \n",
              "5   1970   Today is Mahatma Gandhi one hundred first bir...   \n",
              "6   1970   We may not fully succeed in living up to his ...   \n",
              "7   1970   There are many developments in India which gi...   \n",
              "8   1970   Our people are expecting a better life throug...   \n",
              "9   1970   We have had a sizable increase in agricultura...   \n",
              "10  1970     Our trade is also showing signs of improvement   \n",
              "11  1970   India has once again demonstrated its faith i...   \n",
              "12  1970   Alongside this there is a growing desire of t...   \n",
              "13  1970   twenty two days ago a great conference ended ...   \n",
              "14  1970   The Conference of Lusaka owes much of its suc...   \n",
              "15  1970   The final declarations and resolution s of th...   \n",
              "16  1970   They represent the consensus of 53 Members of...   \n",
              "17  1970               I would urge that everyone read them   \n",
              "18  1970   The Conference at Lusaka highlighted several ...   \n",
              "19  1970   These are: international peace and security, ...   \n",
              "\n",
              "                                        Output  \n",
              "0                   [ I offer congratulations]  \n",
              "1                      [ You represent Norway]  \n",
              "2                                           []  \n",
              "3                                           []  \n",
              "4   [ I repeat admiration,  skill win respect]  \n",
              "5                      [ we take fresh pledge]  \n",
              "6                                           []  \n",
              "7                                           []  \n",
              "8                 [ people expect better life]  \n",
              "9                  [ We have sizable increase]  \n",
              "10                         [ trade show signs]  \n",
              "11                  [ India demonstrate faith]  \n",
              "12                                          []  \n",
              "13                     [ we celebrate signing]  \n",
              "14                                          []  \n",
              "15                                          []  \n",
              "16                 [ They represent consensus]  \n",
              "17                                          []  \n",
              "18  [ Conference highlight several key points]  \n",
              "19                                          []  "
            ]
          },
          "execution_count": 65,
          "metadata": {},
          "output_type": "execute_result"
        }
      ],
      "source": [
        "df_rule1_mod_all.head(20)"
      ]
    },
    {
      "cell_type": "markdown",
      "metadata": {
        "hidden": true,
        "id": "LfgPzFuCh5XT"
      },
      "source": [
        "In the previous rule that we made, we extracted the noun subjects and objects, but the information did not feel complete. This is because many nouns have an adjective or a word with a compound dependency that augments the meaning of a noun. Extracting these along with the noun will give us better information about the subject and the object."
      ]
    },
    {
      "cell_type": "markdown",
      "metadata": {
        "id": "3WQSAy6yh5XT"
      },
      "source": [
        "## Information Extraction #5 – Rule on Prepositions"
      ]
    },
    {
      "cell_type": "markdown",
      "metadata": {
        "id": "Ef4XQ7n0h5XT"
      },
      "source": [
        "Thank god for preposistions. They tell us where or when something is in relationship with something else. For example, *The people **of** India believe **in** the priciples **of** United Nations.*. Clearly extarcting phrases inclusing prepositions will give us a lot of information from the sentence. This is exactly what we are going to achieve with this rule.\n",
        "\n",
        "Let's try to understand how this rule works by going over it on a sample sentece - \"India has once again shown faith in democracy.\"\n",
        "\n",
        "* We iterate over all the tokens looking for prepositions. For example *in* in this sentence.\n",
        "* On encountering a preposition, we check if it has a head word that is a noun. For example the word *faith* in this sentence.\n",
        "* Then we look at the child tokens of the preposition token falling on its right side. For example, the word *democracy*.\n",
        "\n",
        "This should finally extract the phrase *faith in democracy* from the sentence. Have a look at the dependency graph of the sentence below."
      ]
    },
    {
      "cell_type": "code",
      "execution_count": null,
      "metadata": {
        "scrolled": false,
        "id": "q4EBEjvhh5XT",
        "outputId": "9ae1d31a-0fe2-4aac-d40c-faf4453b786a"
      },
      "outputs": [
        {
          "name": "stdout",
          "output_type": "stream",
          "text": [
            "India has once again shown faith in democracy.\n"
          ]
        },
        {
          "data": {
            "text/html": [
              "<span class=\"tex2jax_ignore\"><svg xmlns=\"http://www.w3.org/2000/svg\" xmlns:xlink=\"http://www.w3.org/1999/xlink\" xml:lang=\"en\" id=\"a20fa5a771be43368ad5e8bc61605abe-0\" class=\"displacy\" width=\"1450\" height=\"399.5\" direction=\"ltr\" style=\"max-width: none; height: 399.5px; color: #000000; background: #ffffff; font-family: Arial; direction: ltr\">\n",
              "<text class=\"displacy-token\" fill=\"currentColor\" text-anchor=\"middle\" y=\"309.5\">\n",
              "    <tspan class=\"displacy-word\" fill=\"currentColor\" x=\"50\">India</tspan>\n",
              "    <tspan class=\"displacy-tag\" dy=\"2em\" fill=\"currentColor\" x=\"50\">PROPN</tspan>\n",
              "</text>\n",
              "\n",
              "<text class=\"displacy-token\" fill=\"currentColor\" text-anchor=\"middle\" y=\"309.5\">\n",
              "    <tspan class=\"displacy-word\" fill=\"currentColor\" x=\"225\">has</tspan>\n",
              "    <tspan class=\"displacy-tag\" dy=\"2em\" fill=\"currentColor\" x=\"225\">AUX</tspan>\n",
              "</text>\n",
              "\n",
              "<text class=\"displacy-token\" fill=\"currentColor\" text-anchor=\"middle\" y=\"309.5\">\n",
              "    <tspan class=\"displacy-word\" fill=\"currentColor\" x=\"400\">once</tspan>\n",
              "    <tspan class=\"displacy-tag\" dy=\"2em\" fill=\"currentColor\" x=\"400\">ADV</tspan>\n",
              "</text>\n",
              "\n",
              "<text class=\"displacy-token\" fill=\"currentColor\" text-anchor=\"middle\" y=\"309.5\">\n",
              "    <tspan class=\"displacy-word\" fill=\"currentColor\" x=\"575\">again</tspan>\n",
              "    <tspan class=\"displacy-tag\" dy=\"2em\" fill=\"currentColor\" x=\"575\">ADV</tspan>\n",
              "</text>\n",
              "\n",
              "<text class=\"displacy-token\" fill=\"currentColor\" text-anchor=\"middle\" y=\"309.5\">\n",
              "    <tspan class=\"displacy-word\" fill=\"currentColor\" x=\"750\">shown</tspan>\n",
              "    <tspan class=\"displacy-tag\" dy=\"2em\" fill=\"currentColor\" x=\"750\">VERB</tspan>\n",
              "</text>\n",
              "\n",
              "<text class=\"displacy-token\" fill=\"currentColor\" text-anchor=\"middle\" y=\"309.5\">\n",
              "    <tspan class=\"displacy-word\" fill=\"currentColor\" x=\"925\">faith</tspan>\n",
              "    <tspan class=\"displacy-tag\" dy=\"2em\" fill=\"currentColor\" x=\"925\">NOUN</tspan>\n",
              "</text>\n",
              "\n",
              "<text class=\"displacy-token\" fill=\"currentColor\" text-anchor=\"middle\" y=\"309.5\">\n",
              "    <tspan class=\"displacy-word\" fill=\"currentColor\" x=\"1100\">in</tspan>\n",
              "    <tspan class=\"displacy-tag\" dy=\"2em\" fill=\"currentColor\" x=\"1100\">ADP</tspan>\n",
              "</text>\n",
              "\n",
              "<text class=\"displacy-token\" fill=\"currentColor\" text-anchor=\"middle\" y=\"309.5\">\n",
              "    <tspan class=\"displacy-word\" fill=\"currentColor\" x=\"1275\">democracy.</tspan>\n",
              "    <tspan class=\"displacy-tag\" dy=\"2em\" fill=\"currentColor\" x=\"1275\">NOUN</tspan>\n",
              "</text>\n",
              "\n",
              "<g class=\"displacy-arrow\">\n",
              "    <path class=\"displacy-arc\" id=\"arrow-a20fa5a771be43368ad5e8bc61605abe-0-0\" stroke-width=\"2px\" d=\"M70,264.5 C70,2.0 750.0,2.0 750.0,264.5\" fill=\"none\" stroke=\"currentColor\"/>\n",
              "    <text dy=\"1.25em\" style=\"font-size: 0.8em; letter-spacing: 1px\">\n",
              "        <textPath xlink:href=\"#arrow-a20fa5a771be43368ad5e8bc61605abe-0-0\" class=\"displacy-label\" startOffset=\"50%\" side=\"left\" fill=\"currentColor\" text-anchor=\"middle\">nsubj</textPath>\n",
              "    </text>\n",
              "    <path class=\"displacy-arrowhead\" d=\"M70,266.5 L62,254.5 78,254.5\" fill=\"currentColor\"/>\n",
              "</g>\n",
              "\n",
              "<g class=\"displacy-arrow\">\n",
              "    <path class=\"displacy-arc\" id=\"arrow-a20fa5a771be43368ad5e8bc61605abe-0-1\" stroke-width=\"2px\" d=\"M245,264.5 C245,89.5 745.0,89.5 745.0,264.5\" fill=\"none\" stroke=\"currentColor\"/>\n",
              "    <text dy=\"1.25em\" style=\"font-size: 0.8em; letter-spacing: 1px\">\n",
              "        <textPath xlink:href=\"#arrow-a20fa5a771be43368ad5e8bc61605abe-0-1\" class=\"displacy-label\" startOffset=\"50%\" side=\"left\" fill=\"currentColor\" text-anchor=\"middle\">aux</textPath>\n",
              "    </text>\n",
              "    <path class=\"displacy-arrowhead\" d=\"M245,266.5 L237,254.5 253,254.5\" fill=\"currentColor\"/>\n",
              "</g>\n",
              "\n",
              "<g class=\"displacy-arrow\">\n",
              "    <path class=\"displacy-arc\" id=\"arrow-a20fa5a771be43368ad5e8bc61605abe-0-2\" stroke-width=\"2px\" d=\"M420,264.5 C420,177.0 565.0,177.0 565.0,264.5\" fill=\"none\" stroke=\"currentColor\"/>\n",
              "    <text dy=\"1.25em\" style=\"font-size: 0.8em; letter-spacing: 1px\">\n",
              "        <textPath xlink:href=\"#arrow-a20fa5a771be43368ad5e8bc61605abe-0-2\" class=\"displacy-label\" startOffset=\"50%\" side=\"left\" fill=\"currentColor\" text-anchor=\"middle\">advmod</textPath>\n",
              "    </text>\n",
              "    <path class=\"displacy-arrowhead\" d=\"M420,266.5 L412,254.5 428,254.5\" fill=\"currentColor\"/>\n",
              "</g>\n",
              "\n",
              "<g class=\"displacy-arrow\">\n",
              "    <path class=\"displacy-arc\" id=\"arrow-a20fa5a771be43368ad5e8bc61605abe-0-3\" stroke-width=\"2px\" d=\"M595,264.5 C595,177.0 740.0,177.0 740.0,264.5\" fill=\"none\" stroke=\"currentColor\"/>\n",
              "    <text dy=\"1.25em\" style=\"font-size: 0.8em; letter-spacing: 1px\">\n",
              "        <textPath xlink:href=\"#arrow-a20fa5a771be43368ad5e8bc61605abe-0-3\" class=\"displacy-label\" startOffset=\"50%\" side=\"left\" fill=\"currentColor\" text-anchor=\"middle\">advmod</textPath>\n",
              "    </text>\n",
              "    <path class=\"displacy-arrowhead\" d=\"M595,266.5 L587,254.5 603,254.5\" fill=\"currentColor\"/>\n",
              "</g>\n",
              "\n",
              "<g class=\"displacy-arrow\">\n",
              "    <path class=\"displacy-arc\" id=\"arrow-a20fa5a771be43368ad5e8bc61605abe-0-4\" stroke-width=\"2px\" d=\"M770,264.5 C770,177.0 915.0,177.0 915.0,264.5\" fill=\"none\" stroke=\"currentColor\"/>\n",
              "    <text dy=\"1.25em\" style=\"font-size: 0.8em; letter-spacing: 1px\">\n",
              "        <textPath xlink:href=\"#arrow-a20fa5a771be43368ad5e8bc61605abe-0-4\" class=\"displacy-label\" startOffset=\"50%\" side=\"left\" fill=\"currentColor\" text-anchor=\"middle\">dobj</textPath>\n",
              "    </text>\n",
              "    <path class=\"displacy-arrowhead\" d=\"M915.0,266.5 L923.0,254.5 907.0,254.5\" fill=\"currentColor\"/>\n",
              "</g>\n",
              "\n",
              "<g class=\"displacy-arrow\">\n",
              "    <path class=\"displacy-arc\" id=\"arrow-a20fa5a771be43368ad5e8bc61605abe-0-5\" stroke-width=\"2px\" d=\"M945,264.5 C945,177.0 1090.0,177.0 1090.0,264.5\" fill=\"none\" stroke=\"currentColor\"/>\n",
              "    <text dy=\"1.25em\" style=\"font-size: 0.8em; letter-spacing: 1px\">\n",
              "        <textPath xlink:href=\"#arrow-a20fa5a771be43368ad5e8bc61605abe-0-5\" class=\"displacy-label\" startOffset=\"50%\" side=\"left\" fill=\"currentColor\" text-anchor=\"middle\">prep</textPath>\n",
              "    </text>\n",
              "    <path class=\"displacy-arrowhead\" d=\"M1090.0,266.5 L1098.0,254.5 1082.0,254.5\" fill=\"currentColor\"/>\n",
              "</g>\n",
              "\n",
              "<g class=\"displacy-arrow\">\n",
              "    <path class=\"displacy-arc\" id=\"arrow-a20fa5a771be43368ad5e8bc61605abe-0-6\" stroke-width=\"2px\" d=\"M1120,264.5 C1120,177.0 1265.0,177.0 1265.0,264.5\" fill=\"none\" stroke=\"currentColor\"/>\n",
              "    <text dy=\"1.25em\" style=\"font-size: 0.8em; letter-spacing: 1px\">\n",
              "        <textPath xlink:href=\"#arrow-a20fa5a771be43368ad5e8bc61605abe-0-6\" class=\"displacy-label\" startOffset=\"50%\" side=\"left\" fill=\"currentColor\" text-anchor=\"middle\">pobj</textPath>\n",
              "    </text>\n",
              "    <path class=\"displacy-arrowhead\" d=\"M1265.0,266.5 L1273.0,254.5 1257.0,254.5\" fill=\"currentColor\"/>\n",
              "</g>\n",
              "</svg></span>"
            ],
            "text/plain": [
              "<IPython.core.display.HTML object>"
            ]
          },
          "metadata": {},
          "output_type": "display_data"
        }
      ],
      "source": [
        "text = \"India has once again shown faith in democracy.\"\n",
        "print(text)\n",
        "doc = nlp(text)\n",
        "img = displacy.render(doc, style='dep',jupyter=True)\n",
        "img\n",
        "\n",
        "#output_path = Path(\"./img3.svg\")\n",
        "# output_path.open(\"w\", encoding=\"utf-8\").write(img)\n",
        "# displacy.render(doc, style='dep',jupyter=True)"
      ]
    },
    {
      "cell_type": "markdown",
      "metadata": {
        "id": "qSdmcUs8h5XT"
      },
      "source": [
        "Now lets apply this rule to our short sentences."
      ]
    },
    {
      "cell_type": "code",
      "execution_count": null,
      "metadata": {
        "id": "XuAnBPZsh5XT"
      },
      "outputs": [],
      "source": [
        "# rule 3 function\n",
        "def rule3(text):\n",
        "\n",
        "    doc = nlp(text)\n",
        "\n",
        "    sent = []\n",
        "\n",
        "    for token in doc:\n",
        "\n",
        "        # look for prepositions\n",
        "        if token.pos_=='ADP':\n",
        "\n",
        "            phrase = ''\n",
        "\n",
        "            # if its head word is a noun\n",
        "            if token.head.pos_=='NOUN':\n",
        "\n",
        "                # append noun and preposition to phrase\n",
        "                phrase += token.head.text\n",
        "                phrase += ' '+token.text\n",
        "\n",
        "                # check the nodes to the right of the preposition\n",
        "                for right_tok in token.rights:\n",
        "                    # append if it is a noun or proper noun\n",
        "                    if (right_tok.pos_ in ['NOUN','PROPN']):\n",
        "                        phrase += ' '+right_tok.text\n",
        "\n",
        "                if len(phrase)>2:\n",
        "                    sent.append(phrase)\n",
        "\n",
        "    return sent"
      ]
    },
    {
      "cell_type": "code",
      "execution_count": null,
      "metadata": {
        "id": "l1fRz6zsh5XT",
        "outputId": "b289feba-44cc-4aa0-9262-ef4cddaebc2c"
      },
      "outputs": [
        {
          "data": {
            "text/plain": [
              "48.928352725045926"
            ]
          },
          "execution_count": 69,
          "metadata": {},
          "output_type": "execute_result"
        }
      ],
      "source": [
        "# create a df containing sentence and its output for rule 4\n",
        "row_list = []\n",
        "\n",
        "for i in range(len(df3)):\n",
        "\n",
        "    sent = df3.loc[i,'Sent']\n",
        "    year = df3.loc[i,'Year']\n",
        "\n",
        "    # Rule 3\n",
        "    output = rule3(sent)\n",
        "\n",
        "    dict1 = {'Year':year,'Sent':sent,'Output':output}\n",
        "    row_list.append(dict1)\n",
        "\n",
        "df_rule3 = pd.DataFrame(row_list)\n",
        "# Rule 3 achieves 40% result\n",
        "output_per(df_rule3,'Output')"
      ]
    },
    {
      "cell_type": "markdown",
      "metadata": {
        "id": "EERLB10mh5XT"
      },
      "source": [
        "About 48% of the sentences follow this rule."
      ]
    },
    {
      "cell_type": "code",
      "execution_count": null,
      "metadata": {
        "id": "esWeKGSlh5XT",
        "outputId": "71711c24-3f9b-4474-c3f1-2b0c99cc3c84"
      },
      "outputs": [
        {
          "data": {
            "text/html": [
              "<div>\n",
              "<style scoped>\n",
              "    .dataframe tbody tr th:only-of-type {\n",
              "        vertical-align: middle;\n",
              "    }\n",
              "\n",
              "    .dataframe tbody tr th {\n",
              "        vertical-align: top;\n",
              "    }\n",
              "\n",
              "    .dataframe thead th {\n",
              "        text-align: right;\n",
              "    }\n",
              "</style>\n",
              "<table border=\"1\" class=\"dataframe\">\n",
              "  <thead>\n",
              "    <tr style=\"text-align: right;\">\n",
              "      <th></th>\n",
              "      <th>Year</th>\n",
              "      <th>Sent</th>\n",
              "      <th>Output</th>\n",
              "    </tr>\n",
              "  </thead>\n",
              "  <tbody>\n",
              "    <tr>\n",
              "      <th>0</th>\n",
              "      <td>1970</td>\n",
              "      <td>Your personal qualifications and your family ...</td>\n",
              "      <td>[dedication to effort]</td>\n",
              "    </tr>\n",
              "    <tr>\n",
              "      <th>1</th>\n",
              "      <td>1970</td>\n",
              "      <td>There are many developments in India which gi...</td>\n",
              "      <td>[developments in India]</td>\n",
              "    </tr>\n",
              "    <tr>\n",
              "      <th>2</th>\n",
              "      <td>1970</td>\n",
              "      <td>Our people are expecting a better life throug...</td>\n",
              "      <td>[]</td>\n",
              "    </tr>\n",
              "    <tr>\n",
              "      <th>3</th>\n",
              "      <td>1970</td>\n",
              "      <td>We have had a sizable increase in agricultura...</td>\n",
              "      <td>[increase in production]</td>\n",
              "    </tr>\n",
              "    <tr>\n",
              "      <th>4</th>\n",
              "      <td>1970</td>\n",
              "      <td>Our trade is also showing signs of improvement</td>\n",
              "      <td>[signs of improvement]</td>\n",
              "    </tr>\n",
              "    <tr>\n",
              "      <th>5</th>\n",
              "      <td>1970</td>\n",
              "      <td>India has once again demonstrated its faith i...</td>\n",
              "      <td>[faith in democracy]</td>\n",
              "    </tr>\n",
              "    <tr>\n",
              "      <th>6</th>\n",
              "      <td>1970</td>\n",
              "      <td>I would urge that everyone read them</td>\n",
              "      <td>[]</td>\n",
              "    </tr>\n",
              "    <tr>\n",
              "      <th>7</th>\n",
              "      <td>1970</td>\n",
              "      <td>The Conference at Lusaka highlighted several ...</td>\n",
              "      <td>[]</td>\n",
              "    </tr>\n",
              "    <tr>\n",
              "      <th>8</th>\n",
              "      <td>1970</td>\n",
              "      <td>This situation requires attention from the wo...</td>\n",
              "      <td>[attention from community]</td>\n",
              "    </tr>\n",
              "    <tr>\n",
              "      <th>9</th>\n",
              "      <td>1970</td>\n",
              "      <td>The developing countries particularly face in...</td>\n",
              "      <td>[]</td>\n",
              "    </tr>\n",
              "  </tbody>\n",
              "</table>\n",
              "</div>"
            ],
            "text/plain": [
              "   Year                                               Sent  \\\n",
              "0  1970   Your personal qualifications and your family ...   \n",
              "1  1970   There are many developments in India which gi...   \n",
              "2  1970   Our people are expecting a better life throug...   \n",
              "3  1970   We have had a sizable increase in agricultura...   \n",
              "4  1970     Our trade is also showing signs of improvement   \n",
              "5  1970   India has once again demonstrated its faith i...   \n",
              "6  1970               I would urge that everyone read them   \n",
              "7  1970   The Conference at Lusaka highlighted several ...   \n",
              "8  1970   This situation requires attention from the wo...   \n",
              "9  1970   The developing countries particularly face in...   \n",
              "\n",
              "                       Output  \n",
              "0      [dedication to effort]  \n",
              "1     [developments in India]  \n",
              "2                          []  \n",
              "3    [increase in production]  \n",
              "4      [signs of improvement]  \n",
              "5        [faith in democracy]  \n",
              "6                          []  \n",
              "7                          []  \n",
              "8  [attention from community]  \n",
              "9                          []  "
            ]
          },
          "execution_count": 70,
          "metadata": {},
          "output_type": "execute_result"
        }
      ],
      "source": [
        "df_rule3.head(10)"
      ]
    },
    {
      "cell_type": "markdown",
      "metadata": {
        "id": "TEaKDsjQh5XU"
      },
      "source": [
        "We can test this pattern on the entire corpus since we have good amount of sentences matching the rule."
      ]
    },
    {
      "cell_type": "code",
      "execution_count": null,
      "metadata": {
        "id": "etjdvNQmh5XU",
        "outputId": "1a37784b-cd63-4f9c-9182-fc3b97f4668d"
      },
      "outputs": [
        {
          "data": {
            "text/plain": [
              "74.7132867132867"
            ]
          },
          "execution_count": 71,
          "metadata": {},
          "output_type": "execute_result"
        }
      ],
      "source": [
        "# create a df containing sentence and its output for rule 1\n",
        "row_list = []\n",
        "\n",
        "# df2 contains all the sentences from all the speeches\n",
        "for i in range(len(df2)):\n",
        "\n",
        "    sent = df2.loc[i,'Sent']\n",
        "    year = df2.loc[i,'Year']\n",
        "    output = rule3(sent)  # Output\n",
        "    dict1 = {'Year':year,'Sent':sent,'Output':output}\n",
        "    row_list.append(dict1)\n",
        "\n",
        "df_rule3_all = pd.DataFrame(row_list)\n",
        "# check rule1 output on complete speeches\n",
        "output_per(df_rule3_all,'Output')"
      ]
    },
    {
      "cell_type": "code",
      "execution_count": null,
      "metadata": {
        "id": "VUy-f7B9h5XU",
        "outputId": "e2e92c98-18dd-490d-80a4-dcd92dc4068e"
      },
      "outputs": [
        {
          "data": {
            "text/html": [
              "<div>\n",
              "<style scoped>\n",
              "    .dataframe tbody tr th:only-of-type {\n",
              "        vertical-align: middle;\n",
              "    }\n",
              "\n",
              "    .dataframe tbody tr th {\n",
              "        vertical-align: top;\n",
              "    }\n",
              "\n",
              "    .dataframe thead th {\n",
              "        text-align: right;\n",
              "    }\n",
              "</style>\n",
              "<table border=\"1\" class=\"dataframe\">\n",
              "  <thead>\n",
              "    <tr style=\"text-align: right;\">\n",
              "      <th></th>\n",
              "      <th>Year</th>\n",
              "      <th>Sent</th>\n",
              "      <th>Output</th>\n",
              "    </tr>\n",
              "  </thead>\n",
              "  <tbody>\n",
              "    <tr>\n",
              "      <th>0</th>\n",
              "      <td>1970</td>\n",
              "      <td>Mr President, I offer you our congratulations...</td>\n",
              "      <td>[congratulations on election, session of Assem...</td>\n",
              "    </tr>\n",
              "    <tr>\n",
              "      <th>1</th>\n",
              "      <td>1970</td>\n",
              "      <td>You represent Norway, a country which can tak...</td>\n",
              "      <td>[]</td>\n",
              "    </tr>\n",
              "    <tr>\n",
              "      <th>2</th>\n",
              "      <td>1970</td>\n",
              "      <td>Your personal qualifications and your family ...</td>\n",
              "      <td>[dedication to effort]</td>\n",
              "    </tr>\n",
              "    <tr>\n",
              "      <th>3</th>\n",
              "      <td>1970</td>\n",
              "      <td>I should also like to express our appreciatio...</td>\n",
              "      <td>[appreciation of services, services of predece...</td>\n",
              "    </tr>\n",
              "    <tr>\n",
              "      <th>4</th>\n",
              "      <td>1970</td>\n",
              "      <td>I would also repeat our admiration for U Than...</td>\n",
              "      <td>[admiration for Thant]</td>\n",
              "    </tr>\n",
              "    <tr>\n",
              "      <th>5</th>\n",
              "      <td>1970</td>\n",
              "      <td>Today is Mahatma Gandhi one hundred first bir...</td>\n",
              "      <td>[]</td>\n",
              "    </tr>\n",
              "    <tr>\n",
              "      <th>6</th>\n",
              "      <td>1970</td>\n",
              "      <td>We may not fully succeed in living up to his ...</td>\n",
              "      <td>[]</td>\n",
              "    </tr>\n",
              "    <tr>\n",
              "      <th>7</th>\n",
              "      <td>1970</td>\n",
              "      <td>There are many developments in India which gi...</td>\n",
              "      <td>[developments in India]</td>\n",
              "    </tr>\n",
              "    <tr>\n",
              "      <th>8</th>\n",
              "      <td>1970</td>\n",
              "      <td>Our people are expecting a better life throug...</td>\n",
              "      <td>[]</td>\n",
              "    </tr>\n",
              "    <tr>\n",
              "      <th>9</th>\n",
              "      <td>1970</td>\n",
              "      <td>We have had a sizable increase in agricultura...</td>\n",
              "      <td>[increase in production]</td>\n",
              "    </tr>\n",
              "  </tbody>\n",
              "</table>\n",
              "</div>"
            ],
            "text/plain": [
              "   Year                                               Sent  \\\n",
              "0  1970   Mr President, I offer you our congratulations...   \n",
              "1  1970   You represent Norway, a country which can tak...   \n",
              "2  1970   Your personal qualifications and your family ...   \n",
              "3  1970   I should also like to express our appreciatio...   \n",
              "4  1970   I would also repeat our admiration for U Than...   \n",
              "5  1970   Today is Mahatma Gandhi one hundred first bir...   \n",
              "6  1970   We may not fully succeed in living up to his ...   \n",
              "7  1970   There are many developments in India which gi...   \n",
              "8  1970   Our people are expecting a better life throug...   \n",
              "9  1970   We have had a sizable increase in agricultura...   \n",
              "\n",
              "                                              Output  \n",
              "0  [congratulations on election, session of Assem...  \n",
              "1                                                 []  \n",
              "2                             [dedication to effort]  \n",
              "3  [appreciation of services, services of predece...  \n",
              "4                             [admiration for Thant]  \n",
              "5                                                 []  \n",
              "6                                                 []  \n",
              "7                            [developments in India]  \n",
              "8                                                 []  \n",
              "9                           [increase in production]  "
            ]
          },
          "execution_count": 72,
          "metadata": {},
          "output_type": "execute_result"
        }
      ],
      "source": [
        "df_rule3_all.head(10)"
      ]
    },
    {
      "cell_type": "markdown",
      "metadata": {
        "id": "NI-eV1pkh5XU"
      },
      "source": [
        "Show only those sentences that have outputs"
      ]
    },
    {
      "cell_type": "code",
      "execution_count": null,
      "metadata": {
        "id": "KMVyTdowh5XU"
      },
      "outputs": [],
      "source": [
        "# select non-empty outputs\n",
        "df_show3 = pd.DataFrame(columns=df_rule3_all.columns)\n",
        "\n",
        "for row in range(len(df_rule3_all)):\n",
        "\n",
        "    if len(df_rule3_all.loc[row,'Output'])!=0:\n",
        "        df_show3 = df_show3.append(df_rule3_all.loc[row,:])\n",
        "\n",
        "# reset the index\n",
        "df_show3.reset_index(inplace=True)\n",
        "df_show3.drop('index',axis=1,inplace=True)"
      ]
    },
    {
      "cell_type": "code",
      "execution_count": null,
      "metadata": {
        "id": "S0HDt8S2h5XU",
        "outputId": "ad2a913d-3062-4542-c159-002234851f88"
      },
      "outputs": [
        {
          "data": {
            "text/plain": [
              "((7150, 3), (5342, 3))"
            ]
          },
          "execution_count": 74,
          "metadata": {},
          "output_type": "execute_result"
        }
      ],
      "source": [
        "df_rule3_all.shape, df_show3.shape"
      ]
    },
    {
      "cell_type": "code",
      "execution_count": null,
      "metadata": {
        "id": "BwysRsB0h5XU"
      },
      "outputs": [],
      "source": [
        "# separate noun, preposition and noun\n",
        "\n",
        "prep_dict = dict()\n",
        "dis_dict = dict()\n",
        "dis_list = []\n",
        "\n",
        "# iterating over all the sentences\n",
        "for i in range(len(df_show3)):\n",
        "\n",
        "    # sentence containing the output\n",
        "    sentence = df_show3.loc[i,'Sent']\n",
        "    # year of the sentence\n",
        "    year = df_show3.loc[i,'Year']\n",
        "    # output of the sentence\n",
        "    output = df_show3.loc[i,'Output']\n",
        "\n",
        "    # iterating over all the outputs from the sentence\n",
        "    for sent in output:\n",
        "\n",
        "        # separate subject, verb and object\n",
        "        n1 = sent.split()[0]\n",
        "        p = sent.split()[1]\n",
        "        n2 = sent.split()[2:]\n",
        "\n",
        "        # append to list, along with the sentence\n",
        "        dis_dict = {'Sent':sentence,'Year':year,'Noun1':n1,'Preposition':p,'Noun2':n2}\n",
        "        dis_list.append(dis_dict)\n",
        "\n",
        "        # counting the number of sentences containing the verb\n",
        "        prep = sent.split()[1]\n",
        "        if prep in prep_dict:\n",
        "            prep_dict[prep]+=1\n",
        "        else:\n",
        "            prep_dict[prep]=1\n",
        "\n",
        "df_sep3= pd.DataFrame(dis_list)"
      ]
    },
    {
      "cell_type": "markdown",
      "metadata": {
        "id": "Sz-5dwF8h5XU"
      },
      "source": [
        "The following dataframe shows the result of the rule on the entire corpus."
      ]
    },
    {
      "cell_type": "code",
      "execution_count": null,
      "metadata": {
        "scrolled": true,
        "id": "GliAPeE_h5XU",
        "outputId": "0ddac643-0cc7-4c90-af76-6bd517c54ae7"
      },
      "outputs": [
        {
          "data": {
            "text/html": [
              "<div>\n",
              "<style scoped>\n",
              "    .dataframe tbody tr th:only-of-type {\n",
              "        vertical-align: middle;\n",
              "    }\n",
              "\n",
              "    .dataframe tbody tr th {\n",
              "        vertical-align: top;\n",
              "    }\n",
              "\n",
              "    .dataframe thead th {\n",
              "        text-align: right;\n",
              "    }\n",
              "</style>\n",
              "<table border=\"1\" class=\"dataframe\">\n",
              "  <thead>\n",
              "    <tr style=\"text-align: right;\">\n",
              "      <th></th>\n",
              "      <th>Sent</th>\n",
              "      <th>Year</th>\n",
              "      <th>Noun1</th>\n",
              "      <th>Preposition</th>\n",
              "      <th>Noun2</th>\n",
              "    </tr>\n",
              "  </thead>\n",
              "  <tbody>\n",
              "    <tr>\n",
              "      <th>0</th>\n",
              "      <td>Mr President, I offer you our congratulations...</td>\n",
              "      <td>1970</td>\n",
              "      <td>congratulations</td>\n",
              "      <td>on</td>\n",
              "      <td>[election]</td>\n",
              "    </tr>\n",
              "    <tr>\n",
              "      <th>1</th>\n",
              "      <td>Mr President, I offer you our congratulations...</td>\n",
              "      <td>1970</td>\n",
              "      <td>session</td>\n",
              "      <td>of</td>\n",
              "      <td>[Assembly]</td>\n",
              "    </tr>\n",
              "    <tr>\n",
              "      <th>2</th>\n",
              "      <td>Your personal qualifications and your family ...</td>\n",
              "      <td>1970</td>\n",
              "      <td>dedication</td>\n",
              "      <td>to</td>\n",
              "      <td>[effort]</td>\n",
              "    </tr>\n",
              "    <tr>\n",
              "      <th>3</th>\n",
              "      <td>I should also like to express our appreciatio...</td>\n",
              "      <td>1970</td>\n",
              "      <td>appreciation</td>\n",
              "      <td>of</td>\n",
              "      <td>[services]</td>\n",
              "    </tr>\n",
              "    <tr>\n",
              "      <th>4</th>\n",
              "      <td>I should also like to express our appreciatio...</td>\n",
              "      <td>1970</td>\n",
              "      <td>services</td>\n",
              "      <td>of</td>\n",
              "      <td>[predecessor]</td>\n",
              "    </tr>\n",
              "    <tr>\n",
              "      <th>5</th>\n",
              "      <td>I would also repeat our admiration for U Than...</td>\n",
              "      <td>1970</td>\n",
              "      <td>admiration</td>\n",
              "      <td>for</td>\n",
              "      <td>[Thant]</td>\n",
              "    </tr>\n",
              "    <tr>\n",
              "      <th>6</th>\n",
              "      <td>There are many developments in India which gi...</td>\n",
              "      <td>1970</td>\n",
              "      <td>developments</td>\n",
              "      <td>in</td>\n",
              "      <td>[India]</td>\n",
              "    </tr>\n",
              "    <tr>\n",
              "      <th>7</th>\n",
              "      <td>We have had a sizable increase in agricultura...</td>\n",
              "      <td>1970</td>\n",
              "      <td>increase</td>\n",
              "      <td>in</td>\n",
              "      <td>[production]</td>\n",
              "    </tr>\n",
              "    <tr>\n",
              "      <th>8</th>\n",
              "      <td>Our trade is also showing signs of improvement</td>\n",
              "      <td>1970</td>\n",
              "      <td>signs</td>\n",
              "      <td>of</td>\n",
              "      <td>[improvement]</td>\n",
              "    </tr>\n",
              "    <tr>\n",
              "      <th>9</th>\n",
              "      <td>India has once again demonstrated its faith i...</td>\n",
              "      <td>1970</td>\n",
              "      <td>faith</td>\n",
              "      <td>in</td>\n",
              "      <td>[democracy]</td>\n",
              "    </tr>\n",
              "  </tbody>\n",
              "</table>\n",
              "</div>"
            ],
            "text/plain": [
              "                                                Sent  Year            Noun1  \\\n",
              "0   Mr President, I offer you our congratulations...  1970  congratulations   \n",
              "1   Mr President, I offer you our congratulations...  1970          session   \n",
              "2   Your personal qualifications and your family ...  1970       dedication   \n",
              "3   I should also like to express our appreciatio...  1970     appreciation   \n",
              "4   I should also like to express our appreciatio...  1970         services   \n",
              "5   I would also repeat our admiration for U Than...  1970       admiration   \n",
              "6   There are many developments in India which gi...  1970     developments   \n",
              "7   We have had a sizable increase in agricultura...  1970         increase   \n",
              "8     Our trade is also showing signs of improvement  1970            signs   \n",
              "9   India has once again demonstrated its faith i...  1970            faith   \n",
              "\n",
              "  Preposition          Noun2  \n",
              "0          on     [election]  \n",
              "1          of     [Assembly]  \n",
              "2          to       [effort]  \n",
              "3          of     [services]  \n",
              "4          of  [predecessor]  \n",
              "5         for        [Thant]  \n",
              "6          in        [India]  \n",
              "7          in   [production]  \n",
              "8          of  [improvement]  \n",
              "9          in    [democracy]  "
            ]
          },
          "execution_count": 76,
          "metadata": {},
          "output_type": "execute_result"
        }
      ],
      "source": [
        "df_sep3.head(10)"
      ]
    },
    {
      "cell_type": "markdown",
      "metadata": {
        "id": "Elp6erCfh5XU"
      },
      "source": [
        "We can look at the topmost occuring prepositions in the entire corpus."
      ]
    },
    {
      "cell_type": "code",
      "execution_count": null,
      "metadata": {
        "scrolled": true,
        "id": "W1m2yJi2h5XU",
        "outputId": "9b1330c8-8f94-490c-85cb-c06eb2d67c89"
      },
      "outputs": [
        {
          "data": {
            "text/plain": [
              "[('of', 7110),\n",
              " ('in', 1427),\n",
              " ('for', 887),\n",
              " ('to', 611),\n",
              " ('on', 469),\n",
              " ('with', 284),\n",
              " ('between', 164),\n",
              " ('by', 139),\n",
              " ('from', 116),\n",
              " ('against', 91)]"
            ]
          },
          "execution_count": 77,
          "metadata": {},
          "output_type": "execute_result"
        }
      ],
      "source": [
        "sort = sorted(prep_dict.items(), key = lambda d:(d[1],d[0]), reverse=True)\n",
        "sort[:10]"
      ]
    },
    {
      "cell_type": "markdown",
      "metadata": {
        "id": "URQPE5JIh5XU"
      },
      "source": [
        "We look at certain prepositions to explore the sentences in detail. For example the preposition 'against'. It can give us information about what India does not support."
      ]
    },
    {
      "cell_type": "code",
      "execution_count": null,
      "metadata": {
        "collapsed": true,
        "id": "uKSP3l7dh5XU",
        "outputId": "1a3f1f25-411f-4f55-a5af-21bc96118d26"
      },
      "outputs": [
        {
          "data": {
            "text/html": [
              "<div>\n",
              "<style scoped>\n",
              "    .dataframe tbody tr th:only-of-type {\n",
              "        vertical-align: middle;\n",
              "    }\n",
              "\n",
              "    .dataframe tbody tr th {\n",
              "        vertical-align: top;\n",
              "    }\n",
              "\n",
              "    .dataframe thead th {\n",
              "        text-align: right;\n",
              "    }\n",
              "</style>\n",
              "<table border=\"1\" class=\"dataframe\">\n",
              "  <thead>\n",
              "    <tr style=\"text-align: right;\">\n",
              "      <th></th>\n",
              "      <th>Sent</th>\n",
              "      <th>Year</th>\n",
              "      <th>Noun1</th>\n",
              "      <th>Preposition</th>\n",
              "      <th>Noun2</th>\n",
              "    </tr>\n",
              "  </thead>\n",
              "  <tbody>\n",
              "    <tr>\n",
              "      <th>238</th>\n",
              "      <td>The determination of the international commun...</td>\n",
              "      <td>1970</td>\n",
              "      <td>check</td>\n",
              "      <td>against</td>\n",
              "      <td>[measures]</td>\n",
              "    </tr>\n",
              "    <tr>\n",
              "      <th>500</th>\n",
              "      <td>There is a popular revolt against these actions</td>\n",
              "      <td>1971</td>\n",
              "      <td>revolt</td>\n",
              "      <td>against</td>\n",
              "      <td>[actions]</td>\n",
              "    </tr>\n",
              "    <tr>\n",
              "      <th>896</th>\n",
              "      <td>We must ensure that our solidarity in the com...</td>\n",
              "      <td>1972</td>\n",
              "      <td>struggle</td>\n",
              "      <td>against</td>\n",
              "      <td>[discrimination]</td>\n",
              "    </tr>\n",
              "    <tr>\n",
              "      <th>1682</th>\n",
              "      <td>The expansion of the Diego Garcia base, again...</td>\n",
              "      <td>1975</td>\n",
              "      <td>expansion</td>\n",
              "      <td>against</td>\n",
              "      <td>[wishes]</td>\n",
              "    </tr>\n",
              "    <tr>\n",
              "      <th>1721</th>\n",
              "      <td>There is no clearer case for intervention by ...</td>\n",
              "      <td>1975</td>\n",
              "      <td>action</td>\n",
              "      <td>against</td>\n",
              "      <td>[Africa]</td>\n",
              "    </tr>\n",
              "    <tr>\n",
              "      <th>1861</th>\n",
              "      <td>My Prime Minister, Mrs Indira Gandhi, stated ...</td>\n",
              "      <td>1976</td>\n",
              "      <td>shelter</td>\n",
              "      <td>against</td>\n",
              "      <td>[pressures]</td>\n",
              "    </tr>\n",
              "    <tr>\n",
              "      <th>2028</th>\n",
              "      <td>The initiative taken by the Federal Republic ...</td>\n",
              "      <td>1976</td>\n",
              "      <td>convention</td>\n",
              "      <td>against</td>\n",
              "      <td>[taking]</td>\n",
              "    </tr>\n",
              "    <tr>\n",
              "      <th>2280</th>\n",
              "      <td>In the meantime, India reaffirms its support ...</td>\n",
              "      <td>1977</td>\n",
              "      <td>liberation</td>\n",
              "      <td>against</td>\n",
              "      <td>[odds]</td>\n",
              "    </tr>\n",
              "    <tr>\n",
              "      <th>2281</th>\n",
              "      <td>If world opinion continues to be wilfully def...</td>\n",
              "      <td>1977</td>\n",
              "      <td>sanctions</td>\n",
              "      <td>against</td>\n",
              "      <td>[regime]</td>\n",
              "    </tr>\n",
              "    <tr>\n",
              "      <th>2379</th>\n",
              "      <td>Sixthly, there should be a world wide movemen...</td>\n",
              "      <td>1977</td>\n",
              "      <td>movement</td>\n",
              "      <td>against</td>\n",
              "      <td>[extravagance]</td>\n",
              "    </tr>\n",
              "    <tr>\n",
              "      <th>2432</th>\n",
              "      <td>We are told that nuclear weapons are necessar...</td>\n",
              "      <td>1977</td>\n",
              "      <td>deterrent</td>\n",
              "      <td>against</td>\n",
              "      <td>[war]</td>\n",
              "    </tr>\n",
              "    <tr>\n",
              "      <th>2715</th>\n",
              "      <td>Meanwhile we should continue the sanctions ag...</td>\n",
              "      <td>1978</td>\n",
              "      <td>sanctions</td>\n",
              "      <td>against</td>\n",
              "      <td>[regime]</td>\n",
              "    </tr>\n",
              "    <tr>\n",
              "      <th>2935</th>\n",
              "      <td>This constitutes a guarantee against the misu...</td>\n",
              "      <td>1979</td>\n",
              "      <td>guarantee</td>\n",
              "      <td>against</td>\n",
              "      <td>[misuse]</td>\n",
              "    </tr>\n",
              "    <tr>\n",
              "      <th>3028</th>\n",
              "      <td>One further initiative I have in mind is the ...</td>\n",
              "      <td>1979</td>\n",
              "      <td>creation</td>\n",
              "      <td>against</td>\n",
              "      <td>[use]</td>\n",
              "    </tr>\n",
              "    <tr>\n",
              "      <th>3059</th>\n",
              "      <td>This situation is a reflection of the barrenn...</td>\n",
              "      <td>1979</td>\n",
              "      <td>action</td>\n",
              "      <td>against</td>\n",
              "      <td>[]</td>\n",
              "    </tr>\n",
              "    <tr>\n",
              "      <th>3180</th>\n",
              "      <td>These need to be properly institutionalized, ...</td>\n",
              "      <td>1979</td>\n",
              "      <td>safeguard</td>\n",
              "      <td>against</td>\n",
              "      <td>[abuse]</td>\n",
              "    </tr>\n",
              "    <tr>\n",
              "      <th>3471</th>\n",
              "      <td>The world will not forget nor condone the cal...</td>\n",
              "      <td>1980</td>\n",
              "      <td>regime</td>\n",
              "      <td>against</td>\n",
              "      <td>[people]</td>\n",
              "    </tr>\n",
              "    <tr>\n",
              "      <th>3576</th>\n",
              "      <td>Over the years India has consistently argued ...</td>\n",
              "      <td>1980</td>\n",
              "      <td>guarantee</td>\n",
              "      <td>against</td>\n",
              "      <td>[use]</td>\n",
              "    </tr>\n",
              "    <tr>\n",
              "      <th>3580</th>\n",
              "      <td>Their use has been declared a crime against h...</td>\n",
              "      <td>1980</td>\n",
              "      <td>crime</td>\n",
              "      <td>against</td>\n",
              "      <td>[humanity, contrary]</td>\n",
              "    </tr>\n",
              "    <tr>\n",
              "      <th>3636</th>\n",
              "      <td>The only means left to the United Nations in ...</td>\n",
              "      <td>1980</td>\n",
              "      <td>sanctions</td>\n",
              "      <td>against</td>\n",
              "      <td>[Africa]</td>\n",
              "    </tr>\n",
              "    <tr>\n",
              "      <th>4352</th>\n",
              "      <td>The international community  will, as it must...</td>\n",
              "      <td>1982</td>\n",
              "      <td>action</td>\n",
              "      <td>against</td>\n",
              "      <td>[Africa]</td>\n",
              "    </tr>\n",
              "    <tr>\n",
              "      <th>4507</th>\n",
              "      <td>This is  happening at a time when the oil imp...</td>\n",
              "      <td>1982</td>\n",
              "      <td>efforts</td>\n",
              "      <td>against</td>\n",
              "      <td>[odds]</td>\n",
              "    </tr>\n",
              "    <tr>\n",
              "      <th>4756</th>\n",
              "      <td>We must imbue technology with deeper understa...</td>\n",
              "      <td>1983</td>\n",
              "      <td>protection</td>\n",
              "      <td>against</td>\n",
              "      <td>[colonialism]</td>\n",
              "    </tr>\n",
              "    <tr>\n",
              "      <th>4899</th>\n",
              "      <td>Diplomats and experts engaged in arms limitat...</td>\n",
              "      <td>1984</td>\n",
              "      <td>upsurge</td>\n",
              "      <td>against</td>\n",
              "      <td>[weapons]</td>\n",
              "    </tr>\n",
              "    <tr>\n",
              "      <th>5019</th>\n",
              "      <td>It is therefore regrettable that leaders of S...</td>\n",
              "      <td>1984</td>\n",
              "      <td>allegations</td>\n",
              "      <td>against</td>\n",
              "      <td>[India]</td>\n",
              "    </tr>\n",
              "    <tr>\n",
              "      <th>5089</th>\n",
              "      <td>Recent months have witnessed deterioration in...</td>\n",
              "      <td>1984</td>\n",
              "      <td>acts</td>\n",
              "      <td>against</td>\n",
              "      <td>[peoples]</td>\n",
              "    </tr>\n",
              "    <tr>\n",
              "      <th>5146</th>\n",
              "      <td>A country known for its indiscriminate and re...</td>\n",
              "      <td>1984</td>\n",
              "      <td>acts</td>\n",
              "      <td>against</td>\n",
              "      <td>[States]</td>\n",
              "    </tr>\n",
              "    <tr>\n",
              "      <th>5153</th>\n",
              "      <td>The international community must not let flag...</td>\n",
              "      <td>1984</td>\n",
              "      <td>vigilance</td>\n",
              "      <td>against</td>\n",
              "      <td>[apartheid]</td>\n",
              "    </tr>\n",
              "    <tr>\n",
              "      <th>5157</th>\n",
              "      <td>The front line States of southern Africa have...</td>\n",
              "      <td>1984</td>\n",
              "      <td>resistance</td>\n",
              "      <td>against</td>\n",
              "      <td>[Africa]</td>\n",
              "    </tr>\n",
              "    <tr>\n",
              "      <th>5211</th>\n",
              "      <td>In the clearest sense, this represents a test...</td>\n",
              "      <td>1984</td>\n",
              "      <td>countries</td>\n",
              "      <td>against</td>\n",
              "      <td>[hunger]</td>\n",
              "    </tr>\n",
              "    <tr>\n",
              "      <th>...</th>\n",
              "      <td>...</td>\n",
              "      <td>...</td>\n",
              "      <td>...</td>\n",
              "      <td>...</td>\n",
              "      <td>...</td>\n",
              "    </tr>\n",
              "    <tr>\n",
              "      <th>9494</th>\n",
              "      <td>I urge all Members to work to strengthen the ...</td>\n",
              "      <td>2000</td>\n",
              "      <td>regimes</td>\n",
              "      <td>against</td>\n",
              "      <td>[terrorism]</td>\n",
              "    </tr>\n",
              "    <tr>\n",
              "      <th>9650</th>\n",
              "      <td>India supports the current campaign against t...</td>\n",
              "      <td>2001</td>\n",
              "      <td>campaign</td>\n",
              "      <td>against</td>\n",
              "      <td>[networks]</td>\n",
              "    </tr>\n",
              "    <tr>\n",
              "      <th>9707</th>\n",
              "      <td>The struggle for equitable development and th...</td>\n",
              "      <td>2001</td>\n",
              "      <td>war</td>\n",
              "      <td>against</td>\n",
              "      <td>[poverty]</td>\n",
              "    </tr>\n",
              "    <tr>\n",
              "      <th>9708</th>\n",
              "      <td>The struggle for equitable development and th...</td>\n",
              "      <td>2001</td>\n",
              "      <td>campaign</td>\n",
              "      <td>against</td>\n",
              "      <td>[terrorism]</td>\n",
              "    </tr>\n",
              "    <tr>\n",
              "      <th>9750</th>\n",
              "      <td>If Pakistan claims to be a crucial partner in...</td>\n",
              "      <td>2002</td>\n",
              "      <td>coalition</td>\n",
              "      <td>against</td>\n",
              "      <td>[terrorism]</td>\n",
              "    </tr>\n",
              "    <tr>\n",
              "      <th>9752</th>\n",
              "      <td>If Pakistan claims to be a crucial partner in...</td>\n",
              "      <td>2002</td>\n",
              "      <td>policy</td>\n",
              "      <td>against</td>\n",
              "      <td>[India]</td>\n",
              "    </tr>\n",
              "    <tr>\n",
              "      <th>9886</th>\n",
              "      <td>Security Council resolutions 1373  and 1456  ...</td>\n",
              "      <td>2003</td>\n",
              "      <td>action</td>\n",
              "      <td>against</td>\n",
              "      <td>[support]</td>\n",
              "    </tr>\n",
              "    <tr>\n",
              "      <th>9891</th>\n",
              "      <td>The global coalition against terrorism has re...</td>\n",
              "      <td>2003</td>\n",
              "      <td>coalition</td>\n",
              "      <td>against</td>\n",
              "      <td>[terrorism]</td>\n",
              "    </tr>\n",
              "    <tr>\n",
              "      <th>9895</th>\n",
              "      <td>There is much that the United Nations can do ...</td>\n",
              "      <td>2003</td>\n",
              "      <td>war</td>\n",
              "      <td>against</td>\n",
              "      <td>[terrorism]</td>\n",
              "    </tr>\n",
              "    <tr>\n",
              "      <th>9899</th>\n",
              "      <td>No State should be allowed to profess partner...</td>\n",
              "      <td>2003</td>\n",
              "      <td>coalition</td>\n",
              "      <td>against</td>\n",
              "      <td>[terror]</td>\n",
              "    </tr>\n",
              "    <tr>\n",
              "      <th>9926</th>\n",
              "      <td>We have to sustain the fight against traffick...</td>\n",
              "      <td>2003</td>\n",
              "      <td>fight</td>\n",
              "      <td>against</td>\n",
              "      <td>[]</td>\n",
              "    </tr>\n",
              "    <tr>\n",
              "      <th>9988</th>\n",
              "      <td>We do have a global coalition against terrori...</td>\n",
              "      <td>2004</td>\n",
              "      <td>coalition</td>\n",
              "      <td>against</td>\n",
              "      <td>[terrorism]</td>\n",
              "    </tr>\n",
              "    <tr>\n",
              "      <th>10359</th>\n",
              "      <td>We hope that the Strategy will provide the  i...</td>\n",
              "      <td>2006</td>\n",
              "      <td>fight</td>\n",
              "      <td>against</td>\n",
              "      <td>[terrorism]</td>\n",
              "    </tr>\n",
              "    <tr>\n",
              "      <th>10581</th>\n",
              "      <td>India is convinced that without the early  ad...</td>\n",
              "      <td>2007</td>\n",
              "      <td>convention</td>\n",
              "      <td>against</td>\n",
              "      <td>[terrorism]</td>\n",
              "    </tr>\n",
              "    <tr>\n",
              "      <th>10582</th>\n",
              "      <td>India is convinced that without the early  ad...</td>\n",
              "      <td>2007</td>\n",
              "      <td>struggle</td>\n",
              "      <td>against</td>\n",
              "      <td>[terrorism]</td>\n",
              "    </tr>\n",
              "    <tr>\n",
              "      <th>10808</th>\n",
              "      <td>In order to strengthen the international lega...</td>\n",
              "      <td>2009</td>\n",
              "      <td>fight</td>\n",
              "      <td>against</td>\n",
              "      <td>[terrorism]</td>\n",
              "    </tr>\n",
              "    <tr>\n",
              "      <th>10876</th>\n",
              "      <td>To defeat it,  it is imperative for the globa...</td>\n",
              "      <td>2010</td>\n",
              "      <td>action</td>\n",
              "      <td>against</td>\n",
              "      <td>[terrorists]</td>\n",
              "    </tr>\n",
              "    <tr>\n",
              "      <th>10897</th>\n",
              "      <td>Credible  and firm action by Pakistan against...</td>\n",
              "      <td>2010</td>\n",
              "      <td>action</td>\n",
              "      <td>against</td>\n",
              "      <td>[groups]</td>\n",
              "    </tr>\n",
              "    <tr>\n",
              "      <th>10999</th>\n",
              "      <td>The fight against  terrorism must be unrelenting</td>\n",
              "      <td>2011</td>\n",
              "      <td>fight</td>\n",
              "      <td>against</td>\n",
              "      <td>[terrorism]</td>\n",
              "    </tr>\n",
              "    <tr>\n",
              "      <th>11094</th>\n",
              "      <td>It is time we demonstrated the necessary poli...</td>\n",
              "      <td>2012</td>\n",
              "      <td>framework</td>\n",
              "      <td>against</td>\n",
              "      <td>[challenge]</td>\n",
              "    </tr>\n",
              "    <tr>\n",
              "      <th>11213</th>\n",
              "      <td>A meaningful post 2015 agenda must place ...</td>\n",
              "      <td>2013</td>\n",
              "      <td>discrimination</td>\n",
              "      <td>against</td>\n",
              "      <td>[women]</td>\n",
              "    </tr>\n",
              "    <tr>\n",
              "      <th>11266</th>\n",
              "      <td>We need to renew our commitment, especially ...</td>\n",
              "      <td>2013</td>\n",
              "      <td>action</td>\n",
              "      <td>against</td>\n",
              "      <td>[terrorism]</td>\n",
              "    </tr>\n",
              "    <tr>\n",
              "      <th>11272</th>\n",
              "      <td>This year, 25 years after Prime Minister Raj...</td>\n",
              "      <td>2013</td>\n",
              "      <td>efforts</td>\n",
              "      <td>against</td>\n",
              "      <td>[proliferation]</td>\n",
              "    </tr>\n",
              "    <tr>\n",
              "      <th>11450</th>\n",
              "      <td>A terrorist is a terrorist, and anyone who co...</td>\n",
              "      <td>2015</td>\n",
              "      <td>crimes</td>\n",
              "      <td>against</td>\n",
              "      <td>[humanity]</td>\n",
              "    </tr>\n",
              "    <tr>\n",
              "      <th>11513</th>\n",
              "      <td>Africa is a region with which we have histori...</td>\n",
              "      <td>2015</td>\n",
              "      <td>struggle</td>\n",
              "      <td>against</td>\n",
              "      <td>[colonialism]</td>\n",
              "    </tr>\n",
              "    <tr>\n",
              "      <th>11607</th>\n",
              "      <td>Having gone far beyond affecting individuals ...</td>\n",
              "      <td>2016</td>\n",
              "      <td>crime</td>\n",
              "      <td>against</td>\n",
              "      <td>[humanity]</td>\n",
              "    </tr>\n",
              "    <tr>\n",
              "      <th>11612</th>\n",
              "      <td>We will not be able to win the fight against ...</td>\n",
              "      <td>2016</td>\n",
              "      <td>fight</td>\n",
              "      <td>against</td>\n",
              "      <td>[terrorism]</td>\n",
              "    </tr>\n",
              "    <tr>\n",
              "      <th>11618</th>\n",
              "      <td>We need to forget our prejudices and join han...</td>\n",
              "      <td>2016</td>\n",
              "      <td>strategy</td>\n",
              "      <td>against</td>\n",
              "      <td>[terror]</td>\n",
              "    </tr>\n",
              "    <tr>\n",
              "      <th>11629</th>\n",
              "      <td>The brutality against the Baluch people repre...</td>\n",
              "      <td>2016</td>\n",
              "      <td>brutality</td>\n",
              "      <td>against</td>\n",
              "      <td>[people]</td>\n",
              "    </tr>\n",
              "    <tr>\n",
              "      <th>11859</th>\n",
              "      <td>It has become something of a habit for Pakist...</td>\n",
              "      <td>2018</td>\n",
              "      <td>deception</td>\n",
              "      <td>against</td>\n",
              "      <td>[India]</td>\n",
              "    </tr>\n",
              "  </tbody>\n",
              "</table>\n",
              "<p>91 rows × 5 columns</p>\n",
              "</div>"
            ],
            "text/plain": [
              "                                                    Sent  Year      Noun1  \\\n",
              "238     The determination of the international commun...  1970      check   \n",
              "500      There is a popular revolt against these actions  1971     revolt   \n",
              "896     We must ensure that our solidarity in the com...  1972   struggle   \n",
              "1682    The expansion of the Diego Garcia base, again...  1975  expansion   \n",
              "1721    There is no clearer case for intervention by ...  1975     action   \n",
              "...                                                  ...   ...        ...   \n",
              "11607   Having gone far beyond affecting individuals ...  2016      crime   \n",
              "11612   We will not be able to win the fight against ...  2016      fight   \n",
              "11618   We need to forget our prejudices and join han...  2016   strategy   \n",
              "11629   The brutality against the Baluch people repre...  2016  brutality   \n",
              "11859   It has become something of a habit for Pakist...  2018  deception   \n",
              "\n",
              "      Preposition             Noun2  \n",
              "238       against        [measures]  \n",
              "500       against         [actions]  \n",
              "896       against  [discrimination]  \n",
              "1682      against          [wishes]  \n",
              "1721      against          [Africa]  \n",
              "...           ...               ...  \n",
              "11607     against        [humanity]  \n",
              "11612     against       [terrorism]  \n",
              "11618     against          [terror]  \n",
              "11629     against          [people]  \n",
              "11859     against           [India]  \n",
              "\n",
              "[91 rows x 5 columns]"
            ]
          },
          "execution_count": 78,
          "metadata": {},
          "output_type": "execute_result"
        }
      ],
      "source": [
        "# 'against'\n",
        "df_sep3[df_sep3['Preposition']=='against']"
      ]
    },
    {
      "cell_type": "markdown",
      "metadata": {
        "id": "tmOZOkBoh5XU"
      },
      "source": [
        "Skimming over the nouns, some important phrases like:\n",
        "\n",
        "* efforts against proliferation\n",
        "* fight against terrorism, action against terrorism, war against terrorism\n",
        "* dsicrimination against women\n",
        "* war against poverty\n",
        "* struggle against colonialism\n",
        "\n",
        "... and so on. This should give us a fair idea about which sentences we want to explore in detail. For exmaple, *efforts against proliferation* talks about efforts towards nuclear disarmament. Or the sentence on *struggle against colonialism* talks about the historical links between India and Africa borne out of their common struggle against colonialism."
      ]
    },
    {
      "cell_type": "code",
      "execution_count": null,
      "metadata": {
        "scrolled": true,
        "id": "fipHhX_lh5XU",
        "outputId": "4276bb74-0e3b-4a56-f100-10c88d32e4a4"
      },
      "outputs": [
        {
          "data": {
            "text/plain": [
              "'  This year, 25 years after Prime Minister Rajiv Gandhi  put forward a comprehensive action plan for a nuclear  weapon free and non violent world order, we must  strengthen efforts against nuclear proliferation and  pursue time bound, universal, non discriminatory,  phased and verifiable nuclear disarmament'"
            ]
          },
          "execution_count": 79,
          "metadata": {},
          "output_type": "execute_result"
        }
      ],
      "source": [
        "df_sep3.loc[11272,'Sent']"
      ]
    },
    {
      "cell_type": "code",
      "execution_count": null,
      "metadata": {
        "scrolled": true,
        "id": "MxWd6z7qh5XU",
        "outputId": "d8aba608-9f85-44c9-8814-e55b595800f7"
      },
      "outputs": [
        {
          "data": {
            "text/plain": [
              "' Africa is a region with which we have historical bonds, a solidarity born out of a common struggle against colonialism and a belief in a future of shared prosperity'"
            ]
          },
          "execution_count": 80,
          "metadata": {},
          "output_type": "execute_result"
        }
      ],
      "source": [
        "df_sep3.loc[11513,'Sent']"
      ]
    },
    {
      "cell_type": "code",
      "execution_count": null,
      "metadata": {
        "id": "SQaoSNOfh5XU",
        "outputId": "c9e6f014-a47c-47aa-c741-41c19e4bf364"
      },
      "outputs": [
        {
          "data": {
            "text/plain": [
              "' We need to forget our prejudices and join hands to draw up an effective strategy against terror'"
            ]
          },
          "execution_count": 81,
          "metadata": {},
          "output_type": "execute_result"
        }
      ],
      "source": [
        "df_sep3.loc[11618,'Sent']"
      ]
    },
    {
      "cell_type": "code",
      "execution_count": null,
      "metadata": {
        "id": "So2psCwrh5XV",
        "outputId": "6d432a79-c62d-49a3-a0ea-0572966bb925"
      },
      "outputs": [
        {
          "data": {
            "text/plain": [
              "' It has become something of a habit for Pakistan to throw the dust of deceit and deception up against India in order to provide some thin cover for its own guilt'"
            ]
          },
          "execution_count": 82,
          "metadata": {},
          "output_type": "execute_result"
        }
      ],
      "source": [
        "df_sep3.loc[11859,'Sent']"
      ]
    },
    {
      "cell_type": "markdown",
      "metadata": {
        "id": "RON5jYQYh5XV"
      },
      "source": [
        "As you can see, prepositions give us an important relationship between two nouns. And with a little domain knowledge we can easily seive through the vast data and determine what India supports or does not support and much more."
      ]
    },
    {
      "cell_type": "markdown",
      "metadata": {
        "id": "BB95VimWh5XV"
      },
      "source": [
        "But at some time the output seems a bit incomplete. For example, in the sentence *efforts against proliferation*, what kind of a *proliferation* are we talking about? Certainly we need to include the modifiers attached to the nouns in the phrase, like we did in rule 2. This would definitely increase the comprehensibility of the extracted phrase.\n",
        "\n",
        "This rule can be easily modified to include the new change. I have created a new function to extract the noun modifiers for nouns that we extracted from rule 3."
      ]
    },
    {
      "cell_type": "code",
      "execution_count": null,
      "metadata": {
        "id": "u9_-T4_ah5XV"
      },
      "outputs": [],
      "source": [
        "# rule 0\n",
        "def rule0(text, index):\n",
        "\n",
        "    doc = nlp(text)\n",
        "\n",
        "    token = doc[index]\n",
        "\n",
        "    entity = ''\n",
        "\n",
        "    for sub_tok in token.children:\n",
        "        if (sub_tok.dep_ in ['compound','amod']):# and (sub_tok.pos_ in ['NOUN','PROPN']):\n",
        "            entity += sub_tok.text+' '\n",
        "\n",
        "    entity += token.text\n",
        "\n",
        "    return entity"
      ]
    },
    {
      "cell_type": "markdown",
      "metadata": {
        "id": "llX-4vMih5XV"
      },
      "source": [
        "All we have to do is call this function whenever we encounter a noun in our phrase."
      ]
    },
    {
      "cell_type": "code",
      "execution_count": null,
      "metadata": {
        "id": "9ek8hS5Vh5XV"
      },
      "outputs": [],
      "source": [
        "# rule 3 function\n",
        "def rule3_mod(text):\n",
        "\n",
        "    doc = nlp(text)\n",
        "\n",
        "    sent = []\n",
        "\n",
        "    for token in doc:\n",
        "\n",
        "        if token.pos_=='ADP':\n",
        "\n",
        "            phrase = ''\n",
        "            if token.head.pos_=='NOUN':\n",
        "\n",
        "                # appended rule\n",
        "                append = rule0(text, token.head.i)\n",
        "                if len(append)!=0:\n",
        "                    phrase += append\n",
        "                else:\n",
        "                    phrase += token.head.text\n",
        "                phrase += ' '+token.text\n",
        "\n",
        "                for right_tok in token.rights:\n",
        "                    if (right_tok.pos_ in ['NOUN','PROPN']):\n",
        "\n",
        "                        right_phrase = ''\n",
        "                        # appended rule\n",
        "                        append = rule0(text, right_tok.i)\n",
        "                        if len(append)!=0:\n",
        "                            right_phrase += ' '+append\n",
        "                        else:\n",
        "                            right_phrase += ' '+right_tok.text\n",
        "\n",
        "                        phrase += right_phrase\n",
        "\n",
        "                if len(phrase)>2:\n",
        "                    sent.append(phrase)\n",
        "\n",
        "\n",
        "    return sent"
      ]
    },
    {
      "cell_type": "code",
      "execution_count": null,
      "metadata": {
        "id": "i8BoGhfPh5XV"
      },
      "outputs": [],
      "source": [
        "# create a df containing sentence and its output for rule 3\n",
        "row_list = []\n",
        "\n",
        "# df2 contains all the sentences from all the speeches\n",
        "for i in range(len(df_show3)):\n",
        "\n",
        "    sent = df_show3.loc[i,'Sent']\n",
        "    year = df_show3.loc[i,'Year']\n",
        "    output = rule3_mod(sent)\n",
        "    dict1 = {'Year':year,'Sent':sent,'Output':output}\n",
        "    row_list.append(dict1)\n",
        "\n",
        "df_rule3_mod = pd.DataFrame(row_list)"
      ]
    },
    {
      "cell_type": "code",
      "execution_count": null,
      "metadata": {
        "collapsed": true,
        "id": "FndtE_gTh5XV",
        "outputId": "4f1f2d7a-d400-4414-92b7-0fa27c62b953"
      },
      "outputs": [
        {
          "data": {
            "text/html": [
              "<div>\n",
              "<style scoped>\n",
              "    .dataframe tbody tr th:only-of-type {\n",
              "        vertical-align: middle;\n",
              "    }\n",
              "\n",
              "    .dataframe tbody tr th {\n",
              "        vertical-align: top;\n",
              "    }\n",
              "\n",
              "    .dataframe thead th {\n",
              "        text-align: right;\n",
              "    }\n",
              "</style>\n",
              "<table border=\"1\" class=\"dataframe\">\n",
              "  <thead>\n",
              "    <tr style=\"text-align: right;\">\n",
              "      <th></th>\n",
              "      <th>Year</th>\n",
              "      <th>Sent</th>\n",
              "      <th>Output</th>\n",
              "    </tr>\n",
              "  </thead>\n",
              "  <tbody>\n",
              "    <tr>\n",
              "      <th>0</th>\n",
              "      <td>1970</td>\n",
              "      <td>Mr President, I offer you our congratulations...</td>\n",
              "      <td>[congratulations on election, current session ...</td>\n",
              "    </tr>\n",
              "    <tr>\n",
              "      <th>1</th>\n",
              "      <td>1970</td>\n",
              "      <td>Your personal qualifications and your family ...</td>\n",
              "      <td>[family dedication to international effort]</td>\n",
              "    </tr>\n",
              "    <tr>\n",
              "      <th>2</th>\n",
              "      <td>1970</td>\n",
              "      <td>I should also like to express our appreciatio...</td>\n",
              "      <td>[appreciation of services, services of disting...</td>\n",
              "    </tr>\n",
              "    <tr>\n",
              "      <th>3</th>\n",
              "      <td>1970</td>\n",
              "      <td>I would also repeat our admiration for U Than...</td>\n",
              "      <td>[admiration for U Thant]</td>\n",
              "    </tr>\n",
              "    <tr>\n",
              "      <th>4</th>\n",
              "      <td>1970</td>\n",
              "      <td>There are many developments in India which gi...</td>\n",
              "      <td>[many developments in India]</td>\n",
              "    </tr>\n",
              "    <tr>\n",
              "      <th>5</th>\n",
              "      <td>1970</td>\n",
              "      <td>We have had a sizable increase in agricultura...</td>\n",
              "      <td>[sizable increase in agricultural production]</td>\n",
              "    </tr>\n",
              "    <tr>\n",
              "      <th>6</th>\n",
              "      <td>1970</td>\n",
              "      <td>Our trade is also showing signs of improvement</td>\n",
              "      <td>[signs of improvement]</td>\n",
              "    </tr>\n",
              "    <tr>\n",
              "      <th>7</th>\n",
              "      <td>1970</td>\n",
              "      <td>India has once again demonstrated its faith i...</td>\n",
              "      <td>[faith in full fledged democracy]</td>\n",
              "    </tr>\n",
              "    <tr>\n",
              "      <th>8</th>\n",
              "      <td>1970</td>\n",
              "      <td>Alongside this there is a growing desire of t...</td>\n",
              "      <td>[growing desire of common man, distribution of...</td>\n",
              "    </tr>\n",
              "    <tr>\n",
              "      <th>9</th>\n",
              "      <td>1970</td>\n",
              "      <td>twenty two days ago a great conference ended ...</td>\n",
              "      <td>[days from, signing of Charter]</td>\n",
              "    </tr>\n",
              "    <tr>\n",
              "      <th>10</th>\n",
              "      <td>1970</td>\n",
              "      <td>The Conference of Lusaka owes much of its suc...</td>\n",
              "      <td>[people of Zambia]</td>\n",
              "    </tr>\n",
              "    <tr>\n",
              "      <th>11</th>\n",
              "      <td>1970</td>\n",
              "      <td>The final declarations and resolution s of th...</td>\n",
              "      <td>[final declarations of Conference]</td>\n",
              "    </tr>\n",
              "    <tr>\n",
              "      <th>12</th>\n",
              "      <td>1970</td>\n",
              "      <td>They represent the consensus of 53 Members of...</td>\n",
              "      <td>[consensus of Members, Members of United Nations]</td>\n",
              "    </tr>\n",
              "    <tr>\n",
              "      <th>13</th>\n",
              "      <td>1970</td>\n",
              "      <td>These are: international peace and security, ...</td>\n",
              "      <td>[solution of international problems, solution ...</td>\n",
              "    </tr>\n",
              "    <tr>\n",
              "      <th>14</th>\n",
              "      <td>1970</td>\n",
              "      <td>In order to fulfill the objectives we subscri...</td>\n",
              "      <td>[widest support of Members]</td>\n",
              "    </tr>\n",
              "    <tr>\n",
              "      <th>15</th>\n",
              "      <td>1970</td>\n",
              "      <td>In assessing the achievements of the United N...</td>\n",
              "      <td>[achievements of United Nations, tension betwe...</td>\n",
              "    </tr>\n",
              "    <tr>\n",
              "      <th>16</th>\n",
              "      <td>1970</td>\n",
              "      <td>This situation requires attention from the wo...</td>\n",
              "      <td>[attention from world community]</td>\n",
              "    </tr>\n",
              "    <tr>\n",
              "      <th>17</th>\n",
              "      <td>1970</td>\n",
              "      <td>A positive step in that direction that has be...</td>\n",
              "      <td>[positive step in direction, adoption by Sixth...</td>\n",
              "    </tr>\n",
              "    <tr>\n",
              "      <th>18</th>\n",
              "      <td>1970</td>\n",
              "      <td>A further step to strengthen the edifice of p...</td>\n",
              "      <td>[edifice of peace, declaration on strengthenin...</td>\n",
              "    </tr>\n",
              "    <tr>\n",
              "      <th>19</th>\n",
              "      <td>1970</td>\n",
              "      <td>Such a declaration should particularly includ...</td>\n",
              "      <td>[prohibition of threat, threat of force, scrup...</td>\n",
              "    </tr>\n",
              "    <tr>\n",
              "      <th>20</th>\n",
              "      <td>1970</td>\n",
              "      <td>They also face impediments in their economic ...</td>\n",
              "      <td>[impediments in economic development]</td>\n",
              "    </tr>\n",
              "    <tr>\n",
              "      <th>21</th>\n",
              "      <td>1970</td>\n",
              "      <td>This has come to be known as neocolonialism a...</td>\n",
              "      <td>[efforts in coming years]</td>\n",
              "    </tr>\n",
              "    <tr>\n",
              "      <th>22</th>\n",
              "      <td>1970</td>\n",
              "      <td>She said: Those who dominated the world polit...</td>\n",
              "      <td>[monopoly of ideas]</td>\n",
              "    </tr>\n",
              "    <tr>\n",
              "      <th>23</th>\n",
              "      <td>1970</td>\n",
              "      <td>For years we accepted their values, their ima...</td>\n",
              "      <td>[image of world, image of]</td>\n",
              "    </tr>\n",
              "    <tr>\n",
              "      <th>24</th>\n",
              "      <td>1970</td>\n",
              "      <td>Whether we liked it or not, we have been push...</td>\n",
              "      <td>[postures of imitation]</td>\n",
              "    </tr>\n",
              "    <tr>\n",
              "      <th>25</th>\n",
              "      <td>1970</td>\n",
              "      <td>We have now to break away from borrowed model...</td>\n",
              "      <td>[borrowed models of development, models of wor...</td>\n",
              "    </tr>\n",
              "    <tr>\n",
              "      <th>26</th>\n",
              "      <td>1970</td>\n",
              "      <td>There has been a great deal of success in the...</td>\n",
              "      <td>[great deal of success, great deal in Nations ...</td>\n",
              "    </tr>\n",
              "    <tr>\n",
              "      <th>27</th>\n",
              "      <td>1970</td>\n",
              "      <td>Portuguese colonialism in Africa, South Afric...</td>\n",
              "      <td>[Portuguese colonialism in Africa, illegal occ...</td>\n",
              "    </tr>\n",
              "    <tr>\n",
              "      <th>28</th>\n",
              "      <td>1970</td>\n",
              "      <td>South Africa denies the fundamental rights to...</td>\n",
              "      <td>[fundamental rights to majority, majority of c...</td>\n",
              "    </tr>\n",
              "    <tr>\n",
              "      <th>29</th>\n",
              "      <td>1970</td>\n",
              "      <td>The alliance which has emerged there between ...</td>\n",
              "      <td>[forces of colonialism]</td>\n",
              "    </tr>\n",
              "    <tr>\n",
              "      <th>...</th>\n",
              "      <td>...</td>\n",
              "      <td>...</td>\n",
              "      <td>...</td>\n",
              "    </tr>\n",
              "    <tr>\n",
              "      <th>5312</th>\n",
              "      <td>2018</td>\n",
              "      <td>There have been many Governments of numerous ...</td>\n",
              "      <td>[many Governments of numerous parties, many Go...</td>\n",
              "    </tr>\n",
              "    <tr>\n",
              "      <th>5313</th>\n",
              "      <td>2018</td>\n",
              "      <td>By inviting the Heads of State of the South A...</td>\n",
              "      <td>[Heads of State, Heads of Asian Association, s...</td>\n",
              "    </tr>\n",
              "    <tr>\n",
              "      <th>5314</th>\n",
              "      <td>2018</td>\n",
              "      <td>It is clear that we could not pursue talks in...</td>\n",
              "      <td>[talks in middle, middle of terrorist bloodshed]</td>\n",
              "    </tr>\n",
              "    <tr>\n",
              "      <th>5315</th>\n",
              "      <td>2018</td>\n",
              "      <td>Even now, after the new Government in Pakista...</td>\n",
              "      <td>[meeting between Foreign Ministers, meeting in...</td>\n",
              "    </tr>\n",
              "    <tr>\n",
              "      <th>5316</th>\n",
              "      <td>2018</td>\n",
              "      <td>We even accepted the proposal but, within hou...</td>\n",
              "      <td>[hours of acceptance]</td>\n",
              "    </tr>\n",
              "    <tr>\n",
              "      <th>5317</th>\n",
              "      <td>2018</td>\n",
              "      <td>Does that indicate a desire for dialogue</td>\n",
              "      <td>[desire for dialogue]</td>\n",
              "    </tr>\n",
              "    <tr>\n",
              "      <th>5318</th>\n",
              "      <td>2018</td>\n",
              "      <td>Who is a greater transgressor of human rights...</td>\n",
              "      <td>[greater transgressor of human rights]</td>\n",
              "    </tr>\n",
              "    <tr>\n",
              "      <th>5319</th>\n",
              "      <td>2018</td>\n",
              "      <td>Those who take innocent lives in pursuit of w...</td>\n",
              "      <td>[pursuit of war, defenders of inhuman behaviou...</td>\n",
              "    </tr>\n",
              "    <tr>\n",
              "      <th>5320</th>\n",
              "      <td>2018</td>\n",
              "      <td>It refuses to see the blood of innocent victims</td>\n",
              "      <td>[blood of innocent victims]</td>\n",
              "    </tr>\n",
              "    <tr>\n",
              "      <th>5321</th>\n",
              "      <td>2018</td>\n",
              "      <td>It has become something of a habit for Pakist...</td>\n",
              "      <td>[dust of deceit, deception up, deception again...</td>\n",
              "    </tr>\n",
              "    <tr>\n",
              "      <th>5322</th>\n",
              "      <td>2018</td>\n",
              "      <td>Last year, using her right of reply, the repr...</td>\n",
              "      <td>[right of reply, representative of Pakistan, p...</td>\n",
              "    </tr>\n",
              "    <tr>\n",
              "      <th>5323</th>\n",
              "      <td>2018</td>\n",
              "      <td>Similar false accusations have become part of...</td>\n",
              "      <td>[part of standard rhetoric]</td>\n",
              "    </tr>\n",
              "    <tr>\n",
              "      <th>5324</th>\n",
              "      <td>2018</td>\n",
              "      <td>In 1996, India submitted a document with a dr...</td>\n",
              "      <td>[comprehensive convention on international ter...</td>\n",
              "    </tr>\n",
              "    <tr>\n",
              "      <th>5325</th>\n",
              "      <td>2018</td>\n",
              "      <td>That has allowed terrorists with a price on t...</td>\n",
              "      <td>[terrorists with price, price on head]</td>\n",
              "    </tr>\n",
              "    <tr>\n",
              "      <th>5326</th>\n",
              "      <td>2018</td>\n",
              "      <td>The country of Pakistan prints postage stamps...</td>\n",
              "      <td>[country of Pakistan prints]</td>\n",
              "    </tr>\n",
              "    <tr>\n",
              "      <th>5327</th>\n",
              "      <td>2018</td>\n",
              "      <td>Once again, I appeal to this body to come to ...</td>\n",
              "      <td>[agreement on comprehensive convention, compre...</td>\n",
              "    </tr>\n",
              "    <tr>\n",
              "      <th>5328</th>\n",
              "      <td>2018</td>\n",
              "      <td>I began by highlighting its unique and positi...</td>\n",
              "      <td>[step by slow step, respect for, value of inst...</td>\n",
              "    </tr>\n",
              "    <tr>\n",
              "      <th>5329</th>\n",
              "      <td>2018</td>\n",
              "      <td>It is time to wonder whether we are wandering...</td>\n",
              "      <td>[fate of League]</td>\n",
              "    </tr>\n",
              "    <tr>\n",
              "      <th>5330</th>\n",
              "      <td>2018</td>\n",
              "      <td>It was unwilling to accept the need for refor...</td>\n",
              "      <td>[need for reforms]</td>\n",
              "    </tr>\n",
              "    <tr>\n",
              "      <th>5331</th>\n",
              "      <td>2018</td>\n",
              "      <td>The challenges we face are causing tensions i...</td>\n",
              "      <td>[tensions in many countries]</td>\n",
              "    </tr>\n",
              "    <tr>\n",
              "      <th>5332</th>\n",
              "      <td>2018</td>\n",
              "      <td>That is why the United Nations must be based ...</td>\n",
              "      <td>[principles of family]</td>\n",
              "    </tr>\n",
              "    <tr>\n",
              "      <th>5333</th>\n",
              "      <td>2018</td>\n",
              "      <td>India does not believe that only certain coun...</td>\n",
              "      <td>[behalf of other countries]</td>\n",
              "    </tr>\n",
              "    <tr>\n",
              "      <th>5334</th>\n",
              "      <td>2018</td>\n",
              "      <td>This year, India will celebrate the 150th ann...</td>\n",
              "      <td>[150th anniversary of Mahatma Gandhi]</td>\n",
              "    </tr>\n",
              "    <tr>\n",
              "      <th>5335</th>\n",
              "      <td>2018</td>\n",
              "      <td>Mahatma’s favourite devotional hymn was “Vais...</td>\n",
              "      <td>[pain of others]</td>\n",
              "    </tr>\n",
              "    <tr>\n",
              "      <th>5336</th>\n",
              "      <td>2018</td>\n",
              "      <td>Its essence is that he who understands the pa...</td>\n",
              "      <td>[pain of]</td>\n",
              "    </tr>\n",
              "    <tr>\n",
              "      <th>5337</th>\n",
              "      <td>2018</td>\n",
              "      <td>We have to make the Assembly a platform for u...</td>\n",
              "      <td>[platform for understanding]</td>\n",
              "    </tr>\n",
              "    <tr>\n",
              "      <th>5338</th>\n",
              "      <td>2018</td>\n",
              "      <td>We  have to understand the pain of other nat...</td>\n",
              "      <td>[pain of other nations]</td>\n",
              "    </tr>\n",
              "    <tr>\n",
              "      <th>5339</th>\n",
              "      <td>2018</td>\n",
              "      <td>Arrogance has no place in our scheme of thing...</td>\n",
              "      <td>[place in scheme, scheme of things]</td>\n",
              "    </tr>\n",
              "    <tr>\n",
              "      <th>5340</th>\n",
              "      <td>2018</td>\n",
              "      <td>Let us work for the benefit of the less fort...</td>\n",
              "      <td>[benefit of]</td>\n",
              "    </tr>\n",
              "    <tr>\n",
              "      <th>5341</th>\n",
              "      <td>2018</td>\n",
              "      <td>It is with that wish in mind that I end with ...</td>\n",
              "      <td>[wish in mind]</td>\n",
              "    </tr>\n",
              "  </tbody>\n",
              "</table>\n",
              "<p>5342 rows × 3 columns</p>\n",
              "</div>"
            ],
            "text/plain": [
              "      Year                                               Sent  \\\n",
              "0     1970   Mr President, I offer you our congratulations...   \n",
              "1     1970   Your personal qualifications and your family ...   \n",
              "2     1970   I should also like to express our appreciatio...   \n",
              "3     1970   I would also repeat our admiration for U Than...   \n",
              "4     1970   There are many developments in India which gi...   \n",
              "...    ...                                                ...   \n",
              "5337  2018   We have to make the Assembly a platform for u...   \n",
              "5338  2018    We  have to understand the pain of other nat...   \n",
              "5339  2018   Arrogance has no place in our scheme of thing...   \n",
              "5340  2018    Let us work for the benefit of the less fort...   \n",
              "5341  2018   It is with that wish in mind that I end with ...   \n",
              "\n",
              "                                                 Output  \n",
              "0     [congratulations on election, current session ...  \n",
              "1           [family dedication to international effort]  \n",
              "2     [appreciation of services, services of disting...  \n",
              "3                              [admiration for U Thant]  \n",
              "4                          [many developments in India]  \n",
              "...                                                 ...  \n",
              "5337                       [platform for understanding]  \n",
              "5338                            [pain of other nations]  \n",
              "5339                [place in scheme, scheme of things]  \n",
              "5340                                       [benefit of]  \n",
              "5341                                     [wish in mind]  \n",
              "\n",
              "[5342 rows x 3 columns]"
            ]
          },
          "execution_count": 86,
          "metadata": {},
          "output_type": "execute_result"
        }
      ],
      "source": [
        "df_rule3_mod"
      ]
    },
    {
      "cell_type": "markdown",
      "metadata": {
        "id": "7PvxqYhFh5XV"
      },
      "source": [
        "This definitely has more information than before. For example, 'impediments in economic development' instead of 'impediments in development' and 'greater transgressor of human rights' rather than 'transgressor of rights'.\n",
        "\n",
        "Once again combining rules has given us more power and flexibility to explore only those sentences in detail that have a meaningful extracted phrase."
      ]
    },
    {
      "cell_type": "code",
      "execution_count": null,
      "metadata": {
        "id": "GBu_dxzKh5XV"
      },
      "outputs": [],
      "source": [
        "# separate noun, preposition and noun\n",
        "\n",
        "prep_dict = dict()\n",
        "dis_dict = dict()\n",
        "dis_list = []\n",
        "\n",
        "# iterating over all the sentences\n",
        "for i in range(len(df_rule3_mod)):\n",
        "\n",
        "    # sentence containing the output\n",
        "    sentence = df_rule3_mod.loc[i,'Sent']\n",
        "    # year of the sentence\n",
        "    year = df_rule3_mod.loc[i,'Year']\n",
        "    # output of the sentence\n",
        "    output = df_rule3_mod.loc[i,'Output']\n",
        "\n",
        "    # iterating over all the outputs from the sentence\n",
        "    for sent in output:\n",
        "\n",
        "        # separate subject, verb and object\n",
        "        n1 = sent[0]\n",
        "        p = sent[1]\n",
        "        n2 = sent[2:]\n",
        "\n",
        "        # append to list, along with the sentence\n",
        "        dis_dict = {'Sent':sentence,'Year':year,'Noun1':n1,'Preposition':p,'Noun2':n2}\n",
        "        dis_list.append(dis_dict)\n",
        "\n",
        "        # counting the number of sentences containing the verb\n",
        "        prep = sent[1]\n",
        "        if prep in prep_dict:\n",
        "            prep_dict[verb]+=1\n",
        "        else:\n",
        "            prep_dict[verb]=1\n",
        "\n",
        "df_sep3_mod = pd.DataFrame(dis_list)"
      ]
    },
    {
      "cell_type": "code",
      "execution_count": null,
      "metadata": {
        "scrolled": true,
        "id": "gk-DPvcOh5XV",
        "outputId": "98588850-c1e8-45af-cd78-f9c360c3b800"
      },
      "outputs": [
        {
          "data": {
            "text/html": [
              "<div>\n",
              "<style scoped>\n",
              "    .dataframe tbody tr th:only-of-type {\n",
              "        vertical-align: middle;\n",
              "    }\n",
              "\n",
              "    .dataframe tbody tr th {\n",
              "        vertical-align: top;\n",
              "    }\n",
              "\n",
              "    .dataframe thead th {\n",
              "        text-align: right;\n",
              "    }\n",
              "</style>\n",
              "<table border=\"1\" class=\"dataframe\">\n",
              "  <thead>\n",
              "    <tr style=\"text-align: right;\">\n",
              "      <th></th>\n",
              "      <th>Sent</th>\n",
              "      <th>Year</th>\n",
              "      <th>Noun1</th>\n",
              "      <th>Preposition</th>\n",
              "      <th>Noun2</th>\n",
              "    </tr>\n",
              "  </thead>\n",
              "  <tbody>\n",
              "    <tr>\n",
              "      <th>0</th>\n",
              "      <td>Mr President, I offer you our congratulations...</td>\n",
              "      <td>1970</td>\n",
              "      <td>congratulations</td>\n",
              "      <td>on</td>\n",
              "      <td>[election]</td>\n",
              "    </tr>\n",
              "    <tr>\n",
              "      <th>1</th>\n",
              "      <td>Mr President, I offer you our congratulations...</td>\n",
              "      <td>1970</td>\n",
              "      <td>session</td>\n",
              "      <td>of</td>\n",
              "      <td>[Assembly]</td>\n",
              "    </tr>\n",
              "    <tr>\n",
              "      <th>2</th>\n",
              "      <td>Your personal qualifications and your family ...</td>\n",
              "      <td>1970</td>\n",
              "      <td>dedication</td>\n",
              "      <td>to</td>\n",
              "      <td>[effort]</td>\n",
              "    </tr>\n",
              "    <tr>\n",
              "      <th>3</th>\n",
              "      <td>I should also like to express our appreciatio...</td>\n",
              "      <td>1970</td>\n",
              "      <td>appreciation</td>\n",
              "      <td>of</td>\n",
              "      <td>[services]</td>\n",
              "    </tr>\n",
              "    <tr>\n",
              "      <th>4</th>\n",
              "      <td>I should also like to express our appreciatio...</td>\n",
              "      <td>1970</td>\n",
              "      <td>services</td>\n",
              "      <td>of</td>\n",
              "      <td>[predecessor]</td>\n",
              "    </tr>\n",
              "    <tr>\n",
              "      <th>5</th>\n",
              "      <td>I would also repeat our admiration for U Than...</td>\n",
              "      <td>1970</td>\n",
              "      <td>admiration</td>\n",
              "      <td>for</td>\n",
              "      <td>[Thant]</td>\n",
              "    </tr>\n",
              "    <tr>\n",
              "      <th>6</th>\n",
              "      <td>There are many developments in India which gi...</td>\n",
              "      <td>1970</td>\n",
              "      <td>developments</td>\n",
              "      <td>in</td>\n",
              "      <td>[India]</td>\n",
              "    </tr>\n",
              "    <tr>\n",
              "      <th>7</th>\n",
              "      <td>We have had a sizable increase in agricultura...</td>\n",
              "      <td>1970</td>\n",
              "      <td>increase</td>\n",
              "      <td>in</td>\n",
              "      <td>[production]</td>\n",
              "    </tr>\n",
              "    <tr>\n",
              "      <th>8</th>\n",
              "      <td>Our trade is also showing signs of improvement</td>\n",
              "      <td>1970</td>\n",
              "      <td>signs</td>\n",
              "      <td>of</td>\n",
              "      <td>[improvement]</td>\n",
              "    </tr>\n",
              "    <tr>\n",
              "      <th>9</th>\n",
              "      <td>India has once again demonstrated its faith i...</td>\n",
              "      <td>1970</td>\n",
              "      <td>faith</td>\n",
              "      <td>in</td>\n",
              "      <td>[democracy]</td>\n",
              "    </tr>\n",
              "    <tr>\n",
              "      <th>10</th>\n",
              "      <td>Alongside this there is a growing desire of t...</td>\n",
              "      <td>1970</td>\n",
              "      <td>desire</td>\n",
              "      <td>of</td>\n",
              "      <td>[man]</td>\n",
              "    </tr>\n",
              "    <tr>\n",
              "      <th>11</th>\n",
              "      <td>Alongside this there is a growing desire of t...</td>\n",
              "      <td>1970</td>\n",
              "      <td>distribution</td>\n",
              "      <td>of</td>\n",
              "      <td>[wealth]</td>\n",
              "    </tr>\n",
              "    <tr>\n",
              "      <th>12</th>\n",
              "      <td>twenty two days ago a great conference ended ...</td>\n",
              "      <td>1970</td>\n",
              "      <td>days</td>\n",
              "      <td>from</td>\n",
              "      <td>[]</td>\n",
              "    </tr>\n",
              "    <tr>\n",
              "      <th>13</th>\n",
              "      <td>twenty two days ago a great conference ended ...</td>\n",
              "      <td>1970</td>\n",
              "      <td>signing</td>\n",
              "      <td>of</td>\n",
              "      <td>[Charter]</td>\n",
              "    </tr>\n",
              "    <tr>\n",
              "      <th>14</th>\n",
              "      <td>The Conference of Lusaka owes much of its suc...</td>\n",
              "      <td>1970</td>\n",
              "      <td>people</td>\n",
              "      <td>of</td>\n",
              "      <td>[Zambia]</td>\n",
              "    </tr>\n",
              "    <tr>\n",
              "      <th>15</th>\n",
              "      <td>The final declarations and resolution s of th...</td>\n",
              "      <td>1970</td>\n",
              "      <td>declarations</td>\n",
              "      <td>of</td>\n",
              "      <td>[Conference]</td>\n",
              "    </tr>\n",
              "    <tr>\n",
              "      <th>16</th>\n",
              "      <td>They represent the consensus of 53 Members of...</td>\n",
              "      <td>1970</td>\n",
              "      <td>consensus</td>\n",
              "      <td>of</td>\n",
              "      <td>[Members]</td>\n",
              "    </tr>\n",
              "    <tr>\n",
              "      <th>17</th>\n",
              "      <td>They represent the consensus of 53 Members of...</td>\n",
              "      <td>1970</td>\n",
              "      <td>Members</td>\n",
              "      <td>of</td>\n",
              "      <td>[Nations]</td>\n",
              "    </tr>\n",
              "    <tr>\n",
              "      <th>18</th>\n",
              "      <td>These are: international peace and security, ...</td>\n",
              "      <td>1970</td>\n",
              "      <td>solution</td>\n",
              "      <td>of</td>\n",
              "      <td>[problems]</td>\n",
              "    </tr>\n",
              "    <tr>\n",
              "      <th>19</th>\n",
              "      <td>These are: international peace and security, ...</td>\n",
              "      <td>1970</td>\n",
              "      <td>solution</td>\n",
              "      <td>by</td>\n",
              "      <td>[negotiations]</td>\n",
              "    </tr>\n",
              "    <tr>\n",
              "      <th>20</th>\n",
              "      <td>These are: international peace and security, ...</td>\n",
              "      <td>1970</td>\n",
              "      <td>value</td>\n",
              "      <td>of</td>\n",
              "      <td>[Nations]</td>\n",
              "    </tr>\n",
              "    <tr>\n",
              "      <th>21</th>\n",
              "      <td>These are: international peace and security, ...</td>\n",
              "      <td>1970</td>\n",
              "      <td>pursuit</td>\n",
              "      <td>of</td>\n",
              "      <td>[principles]</td>\n",
              "    </tr>\n",
              "    <tr>\n",
              "      <th>22</th>\n",
              "      <td>These are: international peace and security, ...</td>\n",
              "      <td>1970</td>\n",
              "      <td>principles</td>\n",
              "      <td>of</td>\n",
              "      <td>[nonalignment]</td>\n",
              "    </tr>\n",
              "    <tr>\n",
              "      <th>23</th>\n",
              "      <td>In order to fulfill the objectives we subscri...</td>\n",
              "      <td>1970</td>\n",
              "      <td>support</td>\n",
              "      <td>of</td>\n",
              "      <td>[Members]</td>\n",
              "    </tr>\n",
              "    <tr>\n",
              "      <th>24</th>\n",
              "      <td>In assessing the achievements of the United N...</td>\n",
              "      <td>1970</td>\n",
              "      <td>achievements</td>\n",
              "      <td>of</td>\n",
              "      <td>[Nations]</td>\n",
              "    </tr>\n",
              "    <tr>\n",
              "      <th>25</th>\n",
              "      <td>In assessing the achievements of the United N...</td>\n",
              "      <td>1970</td>\n",
              "      <td>tension</td>\n",
              "      <td>between</td>\n",
              "      <td>[Powers]</td>\n",
              "    </tr>\n",
              "    <tr>\n",
              "      <th>26</th>\n",
              "      <td>In assessing the achievements of the United N...</td>\n",
              "      <td>1970</td>\n",
              "      <td>negotiations</td>\n",
              "      <td>between</td>\n",
              "      <td>[]</td>\n",
              "    </tr>\n",
              "    <tr>\n",
              "      <th>27</th>\n",
              "      <td>In assessing the achievements of the United N...</td>\n",
              "      <td>1970</td>\n",
              "      <td>negotiations</td>\n",
              "      <td>in</td>\n",
              "      <td>[fields]</td>\n",
              "    </tr>\n",
              "    <tr>\n",
              "      <th>28</th>\n",
              "      <td>In assessing the achievements of the United N...</td>\n",
              "      <td>1970</td>\n",
              "      <td>parts</td>\n",
              "      <td>of</td>\n",
              "      <td>[world]</td>\n",
              "    </tr>\n",
              "    <tr>\n",
              "      <th>29</th>\n",
              "      <td>This situation requires attention from the wo...</td>\n",
              "      <td>1970</td>\n",
              "      <td>attention</td>\n",
              "      <td>from</td>\n",
              "      <td>[community]</td>\n",
              "    </tr>\n",
              "    <tr>\n",
              "      <th>...</th>\n",
              "      <td>...</td>\n",
              "      <td>...</td>\n",
              "      <td>...</td>\n",
              "      <td>...</td>\n",
              "      <td>...</td>\n",
              "    </tr>\n",
              "    <tr>\n",
              "      <th>11861</th>\n",
              "      <td>Last year, using her right of reply, the repr...</td>\n",
              "      <td>2018</td>\n",
              "      <td>right</td>\n",
              "      <td>of</td>\n",
              "      <td>[reply]</td>\n",
              "    </tr>\n",
              "    <tr>\n",
              "      <th>11862</th>\n",
              "      <td>Last year, using her right of reply, the repr...</td>\n",
              "      <td>2018</td>\n",
              "      <td>representative</td>\n",
              "      <td>of</td>\n",
              "      <td>[Pakistan]</td>\n",
              "    </tr>\n",
              "    <tr>\n",
              "      <th>11863</th>\n",
              "      <td>Last year, using her right of reply, the repr...</td>\n",
              "      <td>2018</td>\n",
              "      <td>proof</td>\n",
              "      <td>of</td>\n",
              "      <td>[violations]</td>\n",
              "    </tr>\n",
              "    <tr>\n",
              "      <th>11864</th>\n",
              "      <td>Last year, using her right of reply, the repr...</td>\n",
              "      <td>2018</td>\n",
              "      <td>violations</td>\n",
              "      <td>by</td>\n",
              "      <td>[India]</td>\n",
              "    </tr>\n",
              "    <tr>\n",
              "      <th>11865</th>\n",
              "      <td>Similar false accusations have become part of...</td>\n",
              "      <td>2018</td>\n",
              "      <td>part</td>\n",
              "      <td>of</td>\n",
              "      <td>[rhetoric]</td>\n",
              "    </tr>\n",
              "    <tr>\n",
              "      <th>11866</th>\n",
              "      <td>In 1996, India submitted a document with a dr...</td>\n",
              "      <td>2018</td>\n",
              "      <td>convention</td>\n",
              "      <td>on</td>\n",
              "      <td>[terrorism]</td>\n",
              "    </tr>\n",
              "    <tr>\n",
              "      <th>11867</th>\n",
              "      <td>In 1996, India submitted a document with a dr...</td>\n",
              "      <td>2018</td>\n",
              "      <td>convention</td>\n",
              "      <td>at</td>\n",
              "      <td>[Nations]</td>\n",
              "    </tr>\n",
              "    <tr>\n",
              "      <th>11868</th>\n",
              "      <td>That has allowed terrorists with a price on t...</td>\n",
              "      <td>2018</td>\n",
              "      <td>terrorists</td>\n",
              "      <td>with</td>\n",
              "      <td>[price]</td>\n",
              "    </tr>\n",
              "    <tr>\n",
              "      <th>11869</th>\n",
              "      <td>That has allowed terrorists with a price on t...</td>\n",
              "      <td>2018</td>\n",
              "      <td>price</td>\n",
              "      <td>on</td>\n",
              "      <td>[head]</td>\n",
              "    </tr>\n",
              "    <tr>\n",
              "      <th>11870</th>\n",
              "      <td>The country of Pakistan prints postage stamps...</td>\n",
              "      <td>2018</td>\n",
              "      <td>country</td>\n",
              "      <td>of</td>\n",
              "      <td>[prints]</td>\n",
              "    </tr>\n",
              "    <tr>\n",
              "      <th>11871</th>\n",
              "      <td>Once again, I appeal to this body to come to ...</td>\n",
              "      <td>2018</td>\n",
              "      <td>agreement</td>\n",
              "      <td>on</td>\n",
              "      <td>[convention]</td>\n",
              "    </tr>\n",
              "    <tr>\n",
              "      <th>11872</th>\n",
              "      <td>Once again, I appeal to this body to come to ...</td>\n",
              "      <td>2018</td>\n",
              "      <td>convention</td>\n",
              "      <td>on</td>\n",
              "      <td>[terrorism]</td>\n",
              "    </tr>\n",
              "    <tr>\n",
              "      <th>11873</th>\n",
              "      <td>Once again, I appeal to this body to come to ...</td>\n",
              "      <td>2018</td>\n",
              "      <td>measures</td>\n",
              "      <td>in</td>\n",
              "      <td>[war]</td>\n",
              "    </tr>\n",
              "    <tr>\n",
              "      <th>11874</th>\n",
              "      <td>I began by highlighting its unique and positi...</td>\n",
              "      <td>2018</td>\n",
              "      <td>step</td>\n",
              "      <td>by</td>\n",
              "      <td>[step]</td>\n",
              "    </tr>\n",
              "    <tr>\n",
              "      <th>11875</th>\n",
              "      <td>I began by highlighting its unique and positi...</td>\n",
              "      <td>2018</td>\n",
              "      <td>respect</td>\n",
              "      <td>for</td>\n",
              "      <td>[]</td>\n",
              "    </tr>\n",
              "    <tr>\n",
              "      <th>11876</th>\n",
              "      <td>I began by highlighting its unique and positi...</td>\n",
              "      <td>2018</td>\n",
              "      <td>value</td>\n",
              "      <td>of</td>\n",
              "      <td>[institution]</td>\n",
              "    </tr>\n",
              "    <tr>\n",
              "      <th>11877</th>\n",
              "      <td>It is time to wonder whether we are wandering...</td>\n",
              "      <td>2018</td>\n",
              "      <td>fate</td>\n",
              "      <td>of</td>\n",
              "      <td>[League]</td>\n",
              "    </tr>\n",
              "    <tr>\n",
              "      <th>11878</th>\n",
              "      <td>It was unwilling to accept the need for refor...</td>\n",
              "      <td>2018</td>\n",
              "      <td>need</td>\n",
              "      <td>for</td>\n",
              "      <td>[reforms]</td>\n",
              "    </tr>\n",
              "    <tr>\n",
              "      <th>11879</th>\n",
              "      <td>The challenges we face are causing tensions i...</td>\n",
              "      <td>2018</td>\n",
              "      <td>tensions</td>\n",
              "      <td>in</td>\n",
              "      <td>[countries]</td>\n",
              "    </tr>\n",
              "    <tr>\n",
              "      <th>11880</th>\n",
              "      <td>That is why the United Nations must be based ...</td>\n",
              "      <td>2018</td>\n",
              "      <td>principles</td>\n",
              "      <td>of</td>\n",
              "      <td>[family]</td>\n",
              "    </tr>\n",
              "    <tr>\n",
              "      <th>11881</th>\n",
              "      <td>India does not believe that only certain coun...</td>\n",
              "      <td>2018</td>\n",
              "      <td>behalf</td>\n",
              "      <td>of</td>\n",
              "      <td>[countries]</td>\n",
              "    </tr>\n",
              "    <tr>\n",
              "      <th>11882</th>\n",
              "      <td>This year, India will celebrate the 150th ann...</td>\n",
              "      <td>2018</td>\n",
              "      <td>anniversary</td>\n",
              "      <td>of</td>\n",
              "      <td>[Gandhi]</td>\n",
              "    </tr>\n",
              "    <tr>\n",
              "      <th>11883</th>\n",
              "      <td>Mahatma’s favourite devotional hymn was “Vais...</td>\n",
              "      <td>2018</td>\n",
              "      <td>pain</td>\n",
              "      <td>of</td>\n",
              "      <td>[others]</td>\n",
              "    </tr>\n",
              "    <tr>\n",
              "      <th>11884</th>\n",
              "      <td>Its essence is that he who understands the pa...</td>\n",
              "      <td>2018</td>\n",
              "      <td>pain</td>\n",
              "      <td>of</td>\n",
              "      <td>[]</td>\n",
              "    </tr>\n",
              "    <tr>\n",
              "      <th>11885</th>\n",
              "      <td>We have to make the Assembly a platform for u...</td>\n",
              "      <td>2018</td>\n",
              "      <td>platform</td>\n",
              "      <td>for</td>\n",
              "      <td>[understanding]</td>\n",
              "    </tr>\n",
              "    <tr>\n",
              "      <th>11886</th>\n",
              "      <td>We  have to understand the pain of other nat...</td>\n",
              "      <td>2018</td>\n",
              "      <td>pain</td>\n",
              "      <td>of</td>\n",
              "      <td>[nations]</td>\n",
              "    </tr>\n",
              "    <tr>\n",
              "      <th>11887</th>\n",
              "      <td>Arrogance has no place in our scheme of thing...</td>\n",
              "      <td>2018</td>\n",
              "      <td>place</td>\n",
              "      <td>in</td>\n",
              "      <td>[scheme]</td>\n",
              "    </tr>\n",
              "    <tr>\n",
              "      <th>11888</th>\n",
              "      <td>Arrogance has no place in our scheme of thing...</td>\n",
              "      <td>2018</td>\n",
              "      <td>scheme</td>\n",
              "      <td>of</td>\n",
              "      <td>[things]</td>\n",
              "    </tr>\n",
              "    <tr>\n",
              "      <th>11889</th>\n",
              "      <td>Let us work for the benefit of the less fort...</td>\n",
              "      <td>2018</td>\n",
              "      <td>benefit</td>\n",
              "      <td>of</td>\n",
              "      <td>[]</td>\n",
              "    </tr>\n",
              "    <tr>\n",
              "      <th>11890</th>\n",
              "      <td>It is with that wish in mind that I end with ...</td>\n",
              "      <td>2018</td>\n",
              "      <td>wish</td>\n",
              "      <td>in</td>\n",
              "      <td>[mind]</td>\n",
              "    </tr>\n",
              "  </tbody>\n",
              "</table>\n",
              "<p>11891 rows × 5 columns</p>\n",
              "</div>"
            ],
            "text/plain": [
              "                                                    Sent  Year  \\\n",
              "0       Mr President, I offer you our congratulations...  1970   \n",
              "1       Mr President, I offer you our congratulations...  1970   \n",
              "2       Your personal qualifications and your family ...  1970   \n",
              "3       I should also like to express our appreciatio...  1970   \n",
              "4       I should also like to express our appreciatio...  1970   \n",
              "...                                                  ...   ...   \n",
              "11886    We  have to understand the pain of other nat...  2018   \n",
              "11887   Arrogance has no place in our scheme of thing...  2018   \n",
              "11888   Arrogance has no place in our scheme of thing...  2018   \n",
              "11889    Let us work for the benefit of the less fort...  2018   \n",
              "11890   It is with that wish in mind that I end with ...  2018   \n",
              "\n",
              "                 Noun1 Preposition          Noun2  \n",
              "0      congratulations          on     [election]  \n",
              "1              session          of     [Assembly]  \n",
              "2           dedication          to       [effort]  \n",
              "3         appreciation          of     [services]  \n",
              "4             services          of  [predecessor]  \n",
              "...                ...         ...            ...  \n",
              "11886             pain          of      [nations]  \n",
              "11887            place          in       [scheme]  \n",
              "11888           scheme          of       [things]  \n",
              "11889          benefit          of             []  \n",
              "11890             wish          in         [mind]  \n",
              "\n",
              "[11891 rows x 5 columns]"
            ]
          },
          "execution_count": 89,
          "metadata": {},
          "output_type": "execute_result"
        }
      ],
      "source": [
        "df_sep3"
      ]
    },
    {
      "cell_type": "markdown",
      "metadata": {
        "id": "6reu6XGoh5XV"
      },
      "source": [
        "# End Notes\n",
        "\n",
        "Information extraction is by no means an easy NLP task to perform. You need to spend time with the data to better understand its structure and what it has to offer.\n",
        "\n",
        "In this article, we used theoretical knowledge and put it to practical use. We worked with a text dataset and tried to extract the information using traditional information extraction techniques.\n",
        "\n",
        "We looked for key phrases and relationships in the text data to try and extract the information from the text. This type of approach requires a combination of computer and human effort to extract relevant information."
      ]
    },
    {
      "cell_type": "code",
      "execution_count": null,
      "metadata": {
        "id": "Y0sP33Fqh5XW"
      },
      "outputs": [],
      "source": []
    }
  ],
  "metadata": {
    "kernelspec": {
      "display_name": "Python 3",
      "language": "python",
      "name": "python3"
    },
    "language_info": {
      "codemirror_mode": {
        "name": "ipython",
        "version": 3
      },
      "file_extension": ".py",
      "mimetype": "text/x-python",
      "name": "python",
      "nbconvert_exporter": "python",
      "pygments_lexer": "ipython3",
      "version": "3.7.4"
    },
    "notify_time": "5",
    "toc": {
      "base_numbering": 1,
      "nav_menu": {},
      "number_sections": true,
      "sideBar": true,
      "skip_h1_title": false,
      "title_cell": "Table of Contents",
      "title_sidebar": "Contents",
      "toc_cell": false,
      "toc_position": {},
      "toc_section_display": true,
      "toc_window_display": false
    },
    "colab": {
      "provenance": []
    }
  },
  "nbformat": 4,
  "nbformat_minor": 0
}